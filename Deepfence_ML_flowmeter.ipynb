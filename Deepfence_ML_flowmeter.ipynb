{
 "cells": [
  {
   "cell_type": "code",
   "execution_count": 1,
   "metadata": {},
   "outputs": [
    {
     "data": {
      "application/javascript": [
       "\n",
       "            setTimeout(function() {\n",
       "                var nbb_cell_id = 1;\n",
       "                var nbb_unformatted_code = \"%load_ext nb_black\";\n",
       "                var nbb_formatted_code = \"%load_ext nb_black\";\n",
       "                var nbb_cells = Jupyter.notebook.get_cells();\n",
       "                for (var i = 0; i < nbb_cells.length; ++i) {\n",
       "                    if (nbb_cells[i].input_prompt_number == nbb_cell_id) {\n",
       "                        if (nbb_cells[i].get_text() == nbb_unformatted_code) {\n",
       "                             nbb_cells[i].set_text(nbb_formatted_code);\n",
       "                        }\n",
       "                        break;\n",
       "                    }\n",
       "                }\n",
       "            }, 500);\n",
       "            "
      ],
      "text/plain": [
       "<IPython.core.display.Javascript object>"
      ]
     },
     "metadata": {},
     "output_type": "display_data"
    }
   ],
   "source": [
    "%load_ext nb_black"
   ]
  },
  {
   "cell_type": "code",
   "execution_count": 2,
   "metadata": {
    "code_folding": [
     0
    ]
   },
   "outputs": [
    {
     "data": {
      "application/javascript": [
       "\n",
       "            setTimeout(function() {\n",
       "                var nbb_cell_id = 2;\n",
       "                var nbb_unformatted_code = \"# Import libraries\\n\\nimport pandas as pd\\nimport matplotlib.pyplot as plt  # plotting\\nimport numpy as np  # linear algebra\\nimport math\\n\\nfrom sklearn.linear_model import LogisticRegression\\nfrom sklearn.svm import SVC\\n\\nfrom sklearn.pipeline import make_pipeline\\n\\nfrom sklearn.preprocessing import StandardScaler, MinMaxScaler\\n\\nfrom sklearn.model_selection import (\\n    train_test_split,\\n    GridSearchCV,\\n    cross_val_score,\\n    RepeatedStratifiedKFold,\\n    StratifiedKFold,\\n)\\n\\nfrom sklearn.metrics import (\\n    accuracy_score,\\n    confusion_matrix,\\n    roc_curve,\\n    roc_auc_score,\\n    auc,\\n    precision_score,\\n    recall_score,\\n    precision_recall_curve,\\n    plot_confusion_matrix,\\n    f1_score,\\n)\\n\\n\\nfrom collections import Counter\\n\\nfrom sklearn.datasets import make_classification\\n\\nimport copy\\n\\nimport warnings\\n\\nfrom pykliep import DensityRatioEstimator\\n\\nfrom amplify import amplifiedDF\";\n",
       "                var nbb_formatted_code = \"# Import libraries\\n\\nimport pandas as pd\\nimport matplotlib.pyplot as plt  # plotting\\nimport numpy as np  # linear algebra\\nimport math\\n\\nfrom sklearn.linear_model import LogisticRegression\\nfrom sklearn.svm import SVC\\n\\nfrom sklearn.pipeline import make_pipeline\\n\\nfrom sklearn.preprocessing import StandardScaler, MinMaxScaler\\n\\nfrom sklearn.model_selection import (\\n    train_test_split,\\n    GridSearchCV,\\n    cross_val_score,\\n    RepeatedStratifiedKFold,\\n    StratifiedKFold,\\n)\\n\\nfrom sklearn.metrics import (\\n    accuracy_score,\\n    confusion_matrix,\\n    roc_curve,\\n    roc_auc_score,\\n    auc,\\n    precision_score,\\n    recall_score,\\n    precision_recall_curve,\\n    plot_confusion_matrix,\\n    f1_score,\\n)\\n\\n\\nfrom collections import Counter\\n\\nfrom sklearn.datasets import make_classification\\n\\nimport copy\\n\\nimport warnings\\n\\nfrom pykliep import DensityRatioEstimator\\n\\nfrom amplify import amplifiedDF\";\n",
       "                var nbb_cells = Jupyter.notebook.get_cells();\n",
       "                for (var i = 0; i < nbb_cells.length; ++i) {\n",
       "                    if (nbb_cells[i].input_prompt_number == nbb_cell_id) {\n",
       "                        if (nbb_cells[i].get_text() == nbb_unformatted_code) {\n",
       "                             nbb_cells[i].set_text(nbb_formatted_code);\n",
       "                        }\n",
       "                        break;\n",
       "                    }\n",
       "                }\n",
       "            }, 500);\n",
       "            "
      ],
      "text/plain": [
       "<IPython.core.display.Javascript object>"
      ]
     },
     "metadata": {},
     "output_type": "display_data"
    }
   ],
   "source": [
    "# Import libraries\n",
    "\n",
    "import pandas as pd\n",
    "import matplotlib.pyplot as plt  # plotting\n",
    "import numpy as np  # linear algebra\n",
    "import math\n",
    "\n",
    "from sklearn.linear_model import LogisticRegression\n",
    "from sklearn.svm import SVC\n",
    "\n",
    "from sklearn.pipeline import make_pipeline\n",
    "\n",
    "from sklearn.preprocessing import StandardScaler, MinMaxScaler\n",
    "\n",
    "from sklearn.model_selection import (\n",
    "    train_test_split,\n",
    "    GridSearchCV,\n",
    "    cross_val_score,\n",
    "    RepeatedStratifiedKFold,\n",
    "    StratifiedKFold,\n",
    ")\n",
    "\n",
    "from sklearn.metrics import (\n",
    "    accuracy_score,\n",
    "    confusion_matrix,\n",
    "    roc_curve,\n",
    "    roc_auc_score,\n",
    "    auc,\n",
    "    precision_score,\n",
    "    recall_score,\n",
    "    precision_recall_curve,\n",
    "    plot_confusion_matrix,\n",
    "    f1_score,\n",
    ")\n",
    "\n",
    "\n",
    "from collections import Counter\n",
    "\n",
    "from sklearn.datasets import make_classification\n",
    "\n",
    "import copy\n",
    "\n",
    "import warnings\n",
    "\n",
    "from pykliep import DensityRatioEstimator\n",
    "\n",
    "from amplify import amplifiedDF"
   ]
  },
  {
   "cell_type": "code",
   "execution_count": null,
   "metadata": {},
   "outputs": [],
   "source": []
  },
  {
   "cell_type": "markdown",
   "metadata": {},
   "source": [
    "# Data"
   ]
  },
  {
   "cell_type": "markdown",
   "metadata": {},
   "source": [
    "### Malicious: Webgoat\n",
    "### 100000 out of 4566477 packets"
   ]
  },
  {
   "cell_type": "raw",
   "metadata": {},
   "source": [
    "pd_webgoat = pd.read_csv(\"webgoat_stats.csv\")\n",
    "pd_webgoat.drop(pd_webgoat.tail(1).index, inplace=True)\n",
    "pd_webgoat[\"Type\"] = \"Malicious\"\n",
    "\n",
    "print(pd_webgoat.shape)"
   ]
  },
  {
   "cell_type": "code",
   "execution_count": 3,
   "metadata": {},
   "outputs": [
    {
     "name": "stdout",
     "output_type": "stream",
     "text": [
      "(485, 40)\n"
     ]
    },
    {
     "data": {
      "application/javascript": [
       "\n",
       "            setTimeout(function() {\n",
       "                var nbb_cell_id = 3;\n",
       "                var nbb_unformatted_code = \"pd_webgoat = pd.read_csv(\\\"webgoat_flow_stats.csv\\\")\\npd_webgoat.drop(pd_webgoat.tail(1).index, inplace=True)\\npd_webgoat[\\\"Type\\\"] = \\\"Malicious\\\"\\n\\nprint(pd_webgoat.shape)\";\n",
       "                var nbb_formatted_code = \"pd_webgoat = pd.read_csv(\\\"webgoat_flow_stats.csv\\\")\\npd_webgoat.drop(pd_webgoat.tail(1).index, inplace=True)\\npd_webgoat[\\\"Type\\\"] = \\\"Malicious\\\"\\n\\nprint(pd_webgoat.shape)\";\n",
       "                var nbb_cells = Jupyter.notebook.get_cells();\n",
       "                for (var i = 0; i < nbb_cells.length; ++i) {\n",
       "                    if (nbb_cells[i].input_prompt_number == nbb_cell_id) {\n",
       "                        if (nbb_cells[i].get_text() == nbb_unformatted_code) {\n",
       "                             nbb_cells[i].set_text(nbb_formatted_code);\n",
       "                        }\n",
       "                        break;\n",
       "                    }\n",
       "                }\n",
       "            }, 500);\n",
       "            "
      ],
      "text/plain": [
       "<IPython.core.display.Javascript object>"
      ]
     },
     "metadata": {},
     "output_type": "display_data"
    }
   ],
   "source": [
    "pd_webgoat = pd.read_csv(\"webgoat_flow_stats.csv\")\n",
    "pd_webgoat.drop(pd_webgoat.tail(1).index, inplace=True)\n",
    "pd_webgoat[\"Type\"] = \"Malicious\"\n",
    "\n",
    "print(pd_webgoat.shape)"
   ]
  },
  {
   "cell_type": "code",
   "execution_count": null,
   "metadata": {},
   "outputs": [],
   "source": []
  },
  {
   "cell_type": "markdown",
   "metadata": {},
   "source": [
    "### Malicious: Webgoat (138.68.177.159)"
   ]
  },
  {
   "cell_type": "code",
   "execution_count": 4,
   "metadata": {},
   "outputs": [
    {
     "name": "stdout",
     "output_type": "stream",
     "text": [
      "(1139, 40)\n"
     ]
    },
    {
     "data": {
      "application/javascript": [
       "\n",
       "            setTimeout(function() {\n",
       "                var nbb_cell_id = 4;\n",
       "                var nbb_unformatted_code = \"pd_webgoat = pd.read_csv(\\\"webgoat_138_68_177_159_flow_stats.csv\\\")\\n# pd_webgoat.drop(pd_webgoat.tail(1).index, inplace=True)\\npd_webgoat[\\\"Type\\\"] = \\\"Malicious\\\"\\n\\nprint(pd_webgoat.shape)\";\n",
       "                var nbb_formatted_code = \"pd_webgoat = pd.read_csv(\\\"webgoat_138_68_177_159_flow_stats.csv\\\")\\n# pd_webgoat.drop(pd_webgoat.tail(1).index, inplace=True)\\npd_webgoat[\\\"Type\\\"] = \\\"Malicious\\\"\\n\\nprint(pd_webgoat.shape)\";\n",
       "                var nbb_cells = Jupyter.notebook.get_cells();\n",
       "                for (var i = 0; i < nbb_cells.length; ++i) {\n",
       "                    if (nbb_cells[i].input_prompt_number == nbb_cell_id) {\n",
       "                        if (nbb_cells[i].get_text() == nbb_unformatted_code) {\n",
       "                             nbb_cells[i].set_text(nbb_formatted_code);\n",
       "                        }\n",
       "                        break;\n",
       "                    }\n",
       "                }\n",
       "            }, 500);\n",
       "            "
      ],
      "text/plain": [
       "<IPython.core.display.Javascript object>"
      ]
     },
     "metadata": {},
     "output_type": "display_data"
    }
   ],
   "source": [
    "pd_webgoat = pd.read_csv(\"webgoat_138_68_177_159_flow_stats.csv\")\n",
    "# pd_webgoat.drop(pd_webgoat.tail(1).index, inplace=True)\n",
    "pd_webgoat[\"Type\"] = \"Malicious\"\n",
    "\n",
    "print(pd_webgoat.shape)"
   ]
  },
  {
   "cell_type": "code",
   "execution_count": null,
   "metadata": {},
   "outputs": [],
   "source": []
  },
  {
   "cell_type": "markdown",
   "metadata": {},
   "source": [
    "### Malicious: Webgoat (138.68.177.159) - v4"
   ]
  },
  {
   "cell_type": "code",
   "execution_count": 5,
   "metadata": {},
   "outputs": [
    {
     "name": "stdout",
     "output_type": "stream",
     "text": [
      "(860, 40)\n"
     ]
    },
    {
     "data": {
      "application/javascript": [
       "\n",
       "            setTimeout(function() {\n",
       "                var nbb_cell_id = 5;\n",
       "                var nbb_unformatted_code = \"pd_webgoat_v4 = pd.read_csv(\\\"webgoat_138_68_177_159_v4_flow_stats.csv\\\")\\n# pd_webgoat_v4.drop(pd_webgoat_v4.tail(1).index, inplace=True)\\npd_webgoat_v4[\\\"Type\\\"] = \\\"Malicious\\\"\\n\\nprint(pd_webgoat_v4.shape)\";\n",
       "                var nbb_formatted_code = \"pd_webgoat_v4 = pd.read_csv(\\\"webgoat_138_68_177_159_v4_flow_stats.csv\\\")\\n# pd_webgoat_v4.drop(pd_webgoat_v4.tail(1).index, inplace=True)\\npd_webgoat_v4[\\\"Type\\\"] = \\\"Malicious\\\"\\n\\nprint(pd_webgoat_v4.shape)\";\n",
       "                var nbb_cells = Jupyter.notebook.get_cells();\n",
       "                for (var i = 0; i < nbb_cells.length; ++i) {\n",
       "                    if (nbb_cells[i].input_prompt_number == nbb_cell_id) {\n",
       "                        if (nbb_cells[i].get_text() == nbb_unformatted_code) {\n",
       "                             nbb_cells[i].set_text(nbb_formatted_code);\n",
       "                        }\n",
       "                        break;\n",
       "                    }\n",
       "                }\n",
       "            }, 500);\n",
       "            "
      ],
      "text/plain": [
       "<IPython.core.display.Javascript object>"
      ]
     },
     "metadata": {},
     "output_type": "display_data"
    }
   ],
   "source": [
    "pd_webgoat_v4 = pd.read_csv(\"webgoat_138_68_177_159_v4_flow_stats.csv\")\n",
    "# pd_webgoat_v4.drop(pd_webgoat_v4.tail(1).index, inplace=True)\n",
    "pd_webgoat_v4[\"Type\"] = \"Malicious\"\n",
    "\n",
    "print(pd_webgoat_v4.shape)"
   ]
  },
  {
   "cell_type": "code",
   "execution_count": null,
   "metadata": {},
   "outputs": [],
   "source": []
  },
  {
   "cell_type": "code",
   "execution_count": null,
   "metadata": {},
   "outputs": [],
   "source": []
  },
  {
   "cell_type": "markdown",
   "metadata": {},
   "source": [
    "### Malicious: Ransomware"
   ]
  },
  {
   "cell_type": "code",
   "execution_count": 6,
   "metadata": {},
   "outputs": [
    {
     "name": "stdout",
     "output_type": "stream",
     "text": [
      "(16, 40) (160, 42)\n"
     ]
    },
    {
     "name": "stderr",
     "output_type": "stream",
     "text": [
      "/Users/siddharthsatpathy/Work/jupyter_nbs/amplify.py:65: SettingWithCopyWarning: \n",
      "A value is trying to be set on a copy of a slice from a DataFrame.\n",
      "Try using .loc[row_indexer,col_indexer] = value instead\n",
      "\n",
      "See the caveats in the documentation: https://pandas.pydata.org/pandas-docs/stable/user_guide/indexing.html#returning-a-view-versus-a-copy\n",
      "  pd_ch[col] = pd_ch[col] + noise\n"
     ]
    },
    {
     "data": {
      "application/javascript": [
       "\n",
       "            setTimeout(function() {\n",
       "                var nbb_cell_id = 6;\n",
       "                var nbb_unformatted_code = \"pd_ransomware = pd.read_csv(\\\"Razi_15012021_flow_stats.csv\\\")\\n# pd_webgoat_v4.drop(pd_webgoat_v4.tail(1).index, inplace=True)\\npd_ransomware[\\\"Type\\\"] = \\\"Malicious\\\"\\n\\npd_ransomware2 = amplifiedDF(pd_ransomware, True, 10, 0.1)\\n\\nprint(pd_ransomware.shape, pd_ransomware2.shape)\";\n",
       "                var nbb_formatted_code = \"pd_ransomware = pd.read_csv(\\\"Razi_15012021_flow_stats.csv\\\")\\n# pd_webgoat_v4.drop(pd_webgoat_v4.tail(1).index, inplace=True)\\npd_ransomware[\\\"Type\\\"] = \\\"Malicious\\\"\\n\\npd_ransomware2 = amplifiedDF(pd_ransomware, True, 10, 0.1)\\n\\nprint(pd_ransomware.shape, pd_ransomware2.shape)\";\n",
       "                var nbb_cells = Jupyter.notebook.get_cells();\n",
       "                for (var i = 0; i < nbb_cells.length; ++i) {\n",
       "                    if (nbb_cells[i].input_prompt_number == nbb_cell_id) {\n",
       "                        if (nbb_cells[i].get_text() == nbb_unformatted_code) {\n",
       "                             nbb_cells[i].set_text(nbb_formatted_code);\n",
       "                        }\n",
       "                        break;\n",
       "                    }\n",
       "                }\n",
       "            }, 500);\n",
       "            "
      ],
      "text/plain": [
       "<IPython.core.display.Javascript object>"
      ]
     },
     "metadata": {},
     "output_type": "display_data"
    }
   ],
   "source": [
    "pd_ransomware = pd.read_csv(\"Razi_15012021_flow_stats.csv\")\n",
    "# pd_webgoat_v4.drop(pd_webgoat_v4.tail(1).index, inplace=True)\n",
    "pd_ransomware[\"Type\"] = \"Malicious\"\n",
    "\n",
    "pd_ransomware2 = amplifiedDF(pd_ransomware, True, 10, 0.1)\n",
    "\n",
    "print(pd_ransomware.shape, pd_ransomware2.shape)"
   ]
  },
  {
   "cell_type": "code",
   "execution_count": null,
   "metadata": {},
   "outputs": [],
   "source": []
  },
  {
   "cell_type": "markdown",
   "metadata": {},
   "source": [
    "### Malicious (Stratosphere)"
   ]
  },
  {
   "cell_type": "raw",
   "metadata": {},
   "source": [
    "pd_malicious = pd.read_csv(\"malicious_stratosphere_v1_flow_stats.csv\")\n",
    "pd_malicious.drop(pd_malicious.tail(1).index, inplace=True)\n",
    "pd_malicious[\"Type\"] = \"Malicious\"\n",
    "\n",
    "print(pd_malicious.shape)"
   ]
  },
  {
   "cell_type": "code",
   "execution_count": null,
   "metadata": {},
   "outputs": [],
   "source": []
  },
  {
   "cell_type": "markdown",
   "metadata": {},
   "source": [
    "### Malicious (Metasploit)"
   ]
  },
  {
   "cell_type": "code",
   "execution_count": 6,
   "metadata": {},
   "outputs": [
    {
     "name": "stdout",
     "output_type": "stream",
     "text": [
      "(136, 40)\n"
     ]
    },
    {
     "data": {
      "application/javascript": [
       "\n",
       "            setTimeout(function() {\n",
       "                var nbb_cell_id = 6;\n",
       "                var nbb_unformatted_code = \"pd_malicious = pd.read_csv(\\\"metasploit_flow_stats.csv\\\")\\n# pd_malicious.drop(pd_malicious.tail(1).index, inplace=True)\\npd_malicious[\\\"Type\\\"] = \\\"Malicious\\\"\\n\\nprint(pd_malicious.shape)\";\n",
       "                var nbb_formatted_code = \"pd_malicious = pd.read_csv(\\\"metasploit_flow_stats.csv\\\")\\n# pd_malicious.drop(pd_malicious.tail(1).index, inplace=True)\\npd_malicious[\\\"Type\\\"] = \\\"Malicious\\\"\\n\\nprint(pd_malicious.shape)\";\n",
       "                var nbb_cells = Jupyter.notebook.get_cells();\n",
       "                for (var i = 0; i < nbb_cells.length; ++i) {\n",
       "                    if (nbb_cells[i].input_prompt_number == nbb_cell_id) {\n",
       "                        if (nbb_cells[i].get_text() == nbb_unformatted_code) {\n",
       "                             nbb_cells[i].set_text(nbb_formatted_code);\n",
       "                        }\n",
       "                        break;\n",
       "                    }\n",
       "                }\n",
       "            }, 500);\n",
       "            "
      ],
      "text/plain": [
       "<IPython.core.display.Javascript object>"
      ]
     },
     "metadata": {},
     "output_type": "display_data"
    }
   ],
   "source": [
    "pd_malicious = pd.read_csv(\"metasploit_flow_stats.csv\")\n",
    "# pd_malicious.drop(pd_malicious.tail(1).index, inplace=True)\n",
    "pd_malicious[\"Type\"] = \"Malicious\"\n",
    "\n",
    "print(pd_malicious.shape)"
   ]
  },
  {
   "cell_type": "code",
   "execution_count": null,
   "metadata": {},
   "outputs": [],
   "source": []
  },
  {
   "cell_type": "markdown",
   "metadata": {},
   "source": [
    "### Malicious (Burp)"
   ]
  },
  {
   "cell_type": "code",
   "execution_count": 7,
   "metadata": {},
   "outputs": [
    {
     "name": "stdout",
     "output_type": "stream",
     "text": [
      "(1950, 40)\n"
     ]
    },
    {
     "data": {
      "application/javascript": [
       "\n",
       "            setTimeout(function() {\n",
       "                var nbb_cell_id = 7;\n",
       "                var nbb_unformatted_code = \"pd_burp = pd.read_csv(\\\"burp_attackType_sniper_payload_bruteforce_post_flow_stats.csv\\\")\\n# pd_burp.drop(pd_burp.tail(1).index, inplace=True)\\npd_burp[\\\"Type\\\"] = \\\"Malicious\\\"\\n\\nprint(pd_burp.shape)\";\n",
       "                var nbb_formatted_code = \"pd_burp = pd.read_csv(\\\"burp_attackType_sniper_payload_bruteforce_post_flow_stats.csv\\\")\\n# pd_burp.drop(pd_burp.tail(1).index, inplace=True)\\npd_burp[\\\"Type\\\"] = \\\"Malicious\\\"\\n\\nprint(pd_burp.shape)\";\n",
       "                var nbb_cells = Jupyter.notebook.get_cells();\n",
       "                for (var i = 0; i < nbb_cells.length; ++i) {\n",
       "                    if (nbb_cells[i].input_prompt_number == nbb_cell_id) {\n",
       "                        if (nbb_cells[i].get_text() == nbb_unformatted_code) {\n",
       "                             nbb_cells[i].set_text(nbb_formatted_code);\n",
       "                        }\n",
       "                        break;\n",
       "                    }\n",
       "                }\n",
       "            }, 500);\n",
       "            "
      ],
      "text/plain": [
       "<IPython.core.display.Javascript object>"
      ]
     },
     "metadata": {},
     "output_type": "display_data"
    }
   ],
   "source": [
    "pd_burp = pd.read_csv(\"burp_attackType_sniper_payload_bruteforce_post_flow_stats.csv\")\n",
    "# pd_burp.drop(pd_burp.tail(1).index, inplace=True)\n",
    "pd_burp[\"Type\"] = \"Malicious\"\n",
    "\n",
    "print(pd_burp.shape)"
   ]
  },
  {
   "cell_type": "code",
   "execution_count": null,
   "metadata": {},
   "outputs": [],
   "source": []
  },
  {
   "cell_type": "markdown",
   "metadata": {},
   "source": [
    "### Malicious (TPot - 143.198.72.237)"
   ]
  },
  {
   "cell_type": "code",
   "execution_count": 3,
   "metadata": {},
   "outputs": [
    {
     "name": "stdout",
     "output_type": "stream",
     "text": [
      "(724, 40)\n"
     ]
    },
    {
     "data": {
      "application/javascript": [
       "\n",
       "            setTimeout(function() {\n",
       "                var nbb_cell_id = 3;\n",
       "                var nbb_unformatted_code = \"pd_tpot = pd.read_csv(\\\"tpot_143_198_72_237_honeypot_v1_flow_stats.csv\\\")\\n# pd_tpot.drop(pd_tpot.tail(1).index, inplace=True)\\npd_tpot[\\\"Type\\\"] = \\\"Malicious\\\"\\n\\nprint(pd_tpot.shape)\";\n",
       "                var nbb_formatted_code = \"pd_tpot = pd.read_csv(\\\"tpot_143_198_72_237_honeypot_v1_flow_stats.csv\\\")\\n# pd_tpot.drop(pd_tpot.tail(1).index, inplace=True)\\npd_tpot[\\\"Type\\\"] = \\\"Malicious\\\"\\n\\nprint(pd_tpot.shape)\";\n",
       "                var nbb_cells = Jupyter.notebook.get_cells();\n",
       "                for (var i = 0; i < nbb_cells.length; ++i) {\n",
       "                    if (nbb_cells[i].input_prompt_number == nbb_cell_id) {\n",
       "                        if (nbb_cells[i].get_text() == nbb_unformatted_code) {\n",
       "                             nbb_cells[i].set_text(nbb_formatted_code);\n",
       "                        }\n",
       "                        break;\n",
       "                    }\n",
       "                }\n",
       "            }, 500);\n",
       "            "
      ],
      "text/plain": [
       "<IPython.core.display.Javascript object>"
      ]
     },
     "metadata": {},
     "output_type": "display_data"
    }
   ],
   "source": [
    "pd_tpot = pd.read_csv(\"tpot_143_198_72_237_honeypot_v1_flow_stats.csv\")\n",
    "# pd_tpot.drop(pd_tpot.tail(1).index, inplace=True)\n",
    "pd_tpot[\"Type\"] = \"Malicious\"\n",
    "\n",
    "print(pd_tpot.shape)"
   ]
  },
  {
   "cell_type": "code",
   "execution_count": 3,
   "metadata": {},
   "outputs": [
    {
     "name": "stdout",
     "output_type": "stream",
     "text": [
      "(3893, 40)\n"
     ]
    },
    {
     "data": {
      "application/javascript": [
       "\n",
       "            setTimeout(function() {\n",
       "                var nbb_cell_id = 3;\n",
       "                var nbb_unformatted_code = \"pd_tpot = pd.read_csv(\\\"tpot_honeypot_143_198_72_237_v2_flow_stats.csv\\\")\\n# pd_tpot.drop(pd_tpot.tail(1).index, inplace=True)\\npd_tpot[\\\"Type\\\"] = \\\"Malicious\\\"\\n\\nprint(pd_tpot.shape)\";\n",
       "                var nbb_formatted_code = \"pd_tpot = pd.read_csv(\\\"tpot_honeypot_143_198_72_237_v2_flow_stats.csv\\\")\\n# pd_tpot.drop(pd_tpot.tail(1).index, inplace=True)\\npd_tpot[\\\"Type\\\"] = \\\"Malicious\\\"\\n\\nprint(pd_tpot.shape)\";\n",
       "                var nbb_cells = Jupyter.notebook.get_cells();\n",
       "                for (var i = 0; i < nbb_cells.length; ++i) {\n",
       "                    if (nbb_cells[i].input_prompt_number == nbb_cell_id) {\n",
       "                        if (nbb_cells[i].get_text() == nbb_unformatted_code) {\n",
       "                             nbb_cells[i].set_text(nbb_formatted_code);\n",
       "                        }\n",
       "                        break;\n",
       "                    }\n",
       "                }\n",
       "            }, 500);\n",
       "            "
      ],
      "text/plain": [
       "<IPython.core.display.Javascript object>"
      ]
     },
     "metadata": {},
     "output_type": "display_data"
    }
   ],
   "source": [
    "pd_tpot = pd.read_csv(\"tpot_honeypot_143_198_72_237_v2_flow_stats.csv\")\n",
    "# pd_tpot.drop(pd_tpot.tail(1).index, inplace=True)\n",
    "pd_tpot[\"Type\"] = \"Malicious\"\n",
    "\n",
    "print(pd_tpot.shape)"
   ]
  },
  {
   "cell_type": "markdown",
   "metadata": {},
   "source": [
    "### Vulnerabilities (RapidAPI)"
   ]
  },
  {
   "cell_type": "markdown",
   "metadata": {},
   "source": [
    "#### Simulate more flows from original data"
   ]
  },
  {
   "cell_type": "code",
   "execution_count": 8,
   "metadata": {
    "code_folding": []
   },
   "outputs": [
    {
     "name": "stdout",
     "output_type": "stream",
     "text": [
      "(11, 40)\n"
     ]
    },
    {
     "data": {
      "application/javascript": [
       "\n",
       "            setTimeout(function() {\n",
       "                var nbb_cell_id = 8;\n",
       "                var nbb_unformatted_code = \"pd_malicious = pd.read_csv(\\\"rapidAPI_v3_flow_stats.csv\\\")\\npd_malicious.drop(pd_malicious.tail(0).index, inplace=True)\\npd_malicious[\\\"Type\\\"] = \\\"Malicious\\\"\\n\\npd_malicious_orig = pd_malicious.copy(deep=True)\\n\\nprint(pd_malicious.shape)\";\n",
       "                var nbb_formatted_code = \"pd_malicious = pd.read_csv(\\\"rapidAPI_v3_flow_stats.csv\\\")\\npd_malicious.drop(pd_malicious.tail(0).index, inplace=True)\\npd_malicious[\\\"Type\\\"] = \\\"Malicious\\\"\\n\\npd_malicious_orig = pd_malicious.copy(deep=True)\\n\\nprint(pd_malicious.shape)\";\n",
       "                var nbb_cells = Jupyter.notebook.get_cells();\n",
       "                for (var i = 0; i < nbb_cells.length; ++i) {\n",
       "                    if (nbb_cells[i].input_prompt_number == nbb_cell_id) {\n",
       "                        if (nbb_cells[i].get_text() == nbb_unformatted_code) {\n",
       "                             nbb_cells[i].set_text(nbb_formatted_code);\n",
       "                        }\n",
       "                        break;\n",
       "                    }\n",
       "                }\n",
       "            }, 500);\n",
       "            "
      ],
      "text/plain": [
       "<IPython.core.display.Javascript object>"
      ]
     },
     "metadata": {},
     "output_type": "display_data"
    }
   ],
   "source": [
    "pd_malicious = pd.read_csv(\"rapidAPI_v3_flow_stats.csv\")\n",
    "pd_malicious.drop(pd_malicious.tail(0).index, inplace=True)\n",
    "pd_malicious[\"Type\"] = \"Malicious\"\n",
    "\n",
    "pd_malicious_orig = pd_malicious.copy(deep=True)\n",
    "\n",
    "print(pd_malicious.shape)"
   ]
  },
  {
   "cell_type": "code",
   "execution_count": null,
   "metadata": {},
   "outputs": [],
   "source": []
  },
  {
   "cell_type": "code",
   "execution_count": null,
   "metadata": {},
   "outputs": [],
   "source": []
  },
  {
   "cell_type": "markdown",
   "metadata": {},
   "source": [
    "### Benign: Apache Bench"
   ]
  },
  {
   "cell_type": "code",
   "execution_count": 10,
   "metadata": {},
   "outputs": [
    {
     "name": "stdout",
     "output_type": "stream",
     "text": [
      "(6290, 39)\n"
     ]
    },
    {
     "data": {
      "application/javascript": [
       "\n",
       "            setTimeout(function() {\n",
       "                var nbb_cell_id = 10;\n",
       "                var nbb_unformatted_code = \"pd_ab = pd.read_csv(\\\"apache_bench_stats.csv\\\")\\npd_ab.drop(pd_ab.tail(1).index, inplace=True)\\npd_ab[\\\"Type\\\"] = \\\"Benign\\\"\\n\\nprint(pd_ab.shape)\";\n",
       "                var nbb_formatted_code = \"pd_ab = pd.read_csv(\\\"apache_bench_stats.csv\\\")\\npd_ab.drop(pd_ab.tail(1).index, inplace=True)\\npd_ab[\\\"Type\\\"] = \\\"Benign\\\"\\n\\nprint(pd_ab.shape)\";\n",
       "                var nbb_cells = Jupyter.notebook.get_cells();\n",
       "                for (var i = 0; i < nbb_cells.length; ++i) {\n",
       "                    if (nbb_cells[i].input_prompt_number == nbb_cell_id) {\n",
       "                        if (nbb_cells[i].get_text() == nbb_unformatted_code) {\n",
       "                             nbb_cells[i].set_text(nbb_formatted_code);\n",
       "                        }\n",
       "                        break;\n",
       "                    }\n",
       "                }\n",
       "            }, 500);\n",
       "            "
      ],
      "text/plain": [
       "<IPython.core.display.Javascript object>"
      ]
     },
     "metadata": {},
     "output_type": "display_data"
    }
   ],
   "source": [
    "pd_ab = pd.read_csv(\"apache_bench_stats.csv\")\n",
    "pd_ab.drop(pd_ab.tail(1).index, inplace=True)\n",
    "pd_ab[\"Type\"] = \"Benign\"\n",
    "\n",
    "print(pd_ab.shape)"
   ]
  },
  {
   "cell_type": "code",
   "execution_count": null,
   "metadata": {},
   "outputs": [],
   "source": []
  },
  {
   "cell_type": "markdown",
   "metadata": {},
   "source": [
    "### Benign"
   ]
  },
  {
   "cell_type": "code",
   "execution_count": 4,
   "metadata": {},
   "outputs": [
    {
     "name": "stdout",
     "output_type": "stream",
     "text": [
      "(14338, 40)\n"
     ]
    },
    {
     "data": {
      "application/javascript": [
       "\n",
       "            setTimeout(function() {\n",
       "                var nbb_cell_id = 4;\n",
       "                var nbb_unformatted_code = \"pd_benign = pd.read_csv(\\\"benign_stratosphere_v2_flow_stats.csv\\\")\\n# pd_benign.drop(pd_benign.tail(1).index, inplace=True)\\npd_benign[\\\"Type\\\"] = \\\"Benign\\\"\\n\\nprint(pd_benign.shape)\";\n",
       "                var nbb_formatted_code = \"pd_benign = pd.read_csv(\\\"benign_stratosphere_v2_flow_stats.csv\\\")\\n# pd_benign.drop(pd_benign.tail(1).index, inplace=True)\\npd_benign[\\\"Type\\\"] = \\\"Benign\\\"\\n\\nprint(pd_benign.shape)\";\n",
       "                var nbb_cells = Jupyter.notebook.get_cells();\n",
       "                for (var i = 0; i < nbb_cells.length; ++i) {\n",
       "                    if (nbb_cells[i].input_prompt_number == nbb_cell_id) {\n",
       "                        if (nbb_cells[i].get_text() == nbb_unformatted_code) {\n",
       "                             nbb_cells[i].set_text(nbb_formatted_code);\n",
       "                        }\n",
       "                        break;\n",
       "                    }\n",
       "                }\n",
       "            }, 500);\n",
       "            "
      ],
      "text/plain": [
       "<IPython.core.display.Javascript object>"
      ]
     },
     "metadata": {},
     "output_type": "display_data"
    }
   ],
   "source": [
    "pd_benign = pd.read_csv(\"benign_stratosphere_v2_flow_stats.csv\")\n",
    "# pd_benign.drop(pd_benign.tail(1).index, inplace=True)\n",
    "pd_benign[\"Type\"] = \"Benign\"\n",
    "\n",
    "print(pd_benign.shape)"
   ]
  },
  {
   "cell_type": "code",
   "execution_count": 5,
   "metadata": {},
   "outputs": [
    {
     "name": "stdout",
     "output_type": "stream",
     "text": [
      "(5536, 40)\n"
     ]
    },
    {
     "data": {
      "application/javascript": [
       "\n",
       "            setTimeout(function() {\n",
       "                var nbb_cell_id = 5;\n",
       "                var nbb_unformatted_code = \"pd_benign2 = pd.read_csv(\\\"benign_stratosphere_v2_3_flow_stats.csv\\\")\\n# pd_benign2.drop(pd_benign2.tail(1).index, inplace=True)\\npd_benign2[\\\"Type\\\"] = \\\"Benign\\\"\\n\\nprint(pd_benign2.shape)\";\n",
       "                var nbb_formatted_code = \"pd_benign2 = pd.read_csv(\\\"benign_stratosphere_v2_3_flow_stats.csv\\\")\\n# pd_benign2.drop(pd_benign2.tail(1).index, inplace=True)\\npd_benign2[\\\"Type\\\"] = \\\"Benign\\\"\\n\\nprint(pd_benign2.shape)\";\n",
       "                var nbb_cells = Jupyter.notebook.get_cells();\n",
       "                for (var i = 0; i < nbb_cells.length; ++i) {\n",
       "                    if (nbb_cells[i].input_prompt_number == nbb_cell_id) {\n",
       "                        if (nbb_cells[i].get_text() == nbb_unformatted_code) {\n",
       "                             nbb_cells[i].set_text(nbb_formatted_code);\n",
       "                        }\n",
       "                        break;\n",
       "                    }\n",
       "                }\n",
       "            }, 500);\n",
       "            "
      ],
      "text/plain": [
       "<IPython.core.display.Javascript object>"
      ]
     },
     "metadata": {},
     "output_type": "display_data"
    }
   ],
   "source": [
    "pd_benign2 = pd.read_csv(\"benign_stratosphere_v2_3_flow_stats.csv\")\n",
    "# pd_benign2.drop(pd_benign2.tail(1).index, inplace=True)\n",
    "pd_benign2[\"Type\"] = \"Benign\"\n",
    "\n",
    "print(pd_benign2.shape)"
   ]
  },
  {
   "cell_type": "code",
   "execution_count": null,
   "metadata": {},
   "outputs": [],
   "source": []
  },
  {
   "cell_type": "code",
   "execution_count": null,
   "metadata": {},
   "outputs": [],
   "source": []
  },
  {
   "cell_type": "markdown",
   "metadata": {},
   "source": [
    "### Subsample malicious"
   ]
  },
  {
   "cell_type": "code",
   "execution_count": 13,
   "metadata": {},
   "outputs": [
    {
     "name": "stdout",
     "output_type": "stream",
     "text": [
      "(144, 40)\n"
     ]
    },
    {
     "data": {
      "application/javascript": [
       "\n",
       "            setTimeout(function() {\n",
       "                var nbb_cell_id = 13;\n",
       "                var nbb_unformatted_code = \"pd_webgoat_sample = pd_webgoat.sample(\\n    int(pd_benign.shape[0] * (1.0 / 99.0)), replace=False\\n)\\n\\nprint(pd_webgoat_sample.shape)\";\n",
       "                var nbb_formatted_code = \"pd_webgoat_sample = pd_webgoat.sample(\\n    int(pd_benign.shape[0] * (1.0 / 99.0)), replace=False\\n)\\n\\nprint(pd_webgoat_sample.shape)\";\n",
       "                var nbb_cells = Jupyter.notebook.get_cells();\n",
       "                for (var i = 0; i < nbb_cells.length; ++i) {\n",
       "                    if (nbb_cells[i].input_prompt_number == nbb_cell_id) {\n",
       "                        if (nbb_cells[i].get_text() == nbb_unformatted_code) {\n",
       "                             nbb_cells[i].set_text(nbb_formatted_code);\n",
       "                        }\n",
       "                        break;\n",
       "                    }\n",
       "                }\n",
       "            }, 500);\n",
       "            "
      ],
      "text/plain": [
       "<IPython.core.display.Javascript object>"
      ]
     },
     "metadata": {},
     "output_type": "display_data"
    }
   ],
   "source": [
    "pd_webgoat_sample = pd_webgoat.sample(\n",
    "    int(pd_benign.shape[0] * (1.0 / 99.0)), replace=False\n",
    ")\n",
    "\n",
    "print(pd_webgoat_sample.shape)"
   ]
  },
  {
   "cell_type": "code",
   "execution_count": 6,
   "metadata": {},
   "outputs": [
    {
     "name": "stdout",
     "output_type": "stream",
     "text": [
      "(144, 40)\n"
     ]
    },
    {
     "data": {
      "application/javascript": [
       "\n",
       "            setTimeout(function() {\n",
       "                var nbb_cell_id = 6;\n",
       "                var nbb_unformatted_code = \"pd_tpot_sample = pd_tpot.sample(int(pd_benign.shape[0] * (1.0 / 99.0)), replace=False)\\n\\nprint(pd_tpot_sample.shape)\";\n",
       "                var nbb_formatted_code = \"pd_tpot_sample = pd_tpot.sample(int(pd_benign.shape[0] * (1.0 / 99.0)), replace=False)\\n\\nprint(pd_tpot_sample.shape)\";\n",
       "                var nbb_cells = Jupyter.notebook.get_cells();\n",
       "                for (var i = 0; i < nbb_cells.length; ++i) {\n",
       "                    if (nbb_cells[i].input_prompt_number == nbb_cell_id) {\n",
       "                        if (nbb_cells[i].get_text() == nbb_unformatted_code) {\n",
       "                             nbb_cells[i].set_text(nbb_formatted_code);\n",
       "                        }\n",
       "                        break;\n",
       "                    }\n",
       "                }\n",
       "            }, 500);\n",
       "            "
      ],
      "text/plain": [
       "<IPython.core.display.Javascript object>"
      ]
     },
     "metadata": {},
     "output_type": "display_data"
    }
   ],
   "source": [
    "pd_tpot_sample = pd_tpot.sample(int(pd_benign.shape[0] * (1.0 / 99.0)), replace=False)\n",
    "\n",
    "print(pd_tpot_sample.shape)"
   ]
  },
  {
   "cell_type": "code",
   "execution_count": 14,
   "metadata": {},
   "outputs": [
    {
     "data": {
      "text/plain": [
       "((11, 40), (144, 40), (14338, 40))"
      ]
     },
     "execution_count": 14,
     "metadata": {},
     "output_type": "execute_result"
    },
    {
     "data": {
      "application/javascript": [
       "\n",
       "            setTimeout(function() {\n",
       "                var nbb_cell_id = 14;\n",
       "                var nbb_unformatted_code = \"pd_malicious.shape, pd_webgoat_sample.shape, pd_benign.shape\";\n",
       "                var nbb_formatted_code = \"pd_malicious.shape, pd_webgoat_sample.shape, pd_benign.shape\";\n",
       "                var nbb_cells = Jupyter.notebook.get_cells();\n",
       "                for (var i = 0; i < nbb_cells.length; ++i) {\n",
       "                    if (nbb_cells[i].input_prompt_number == nbb_cell_id) {\n",
       "                        if (nbb_cells[i].get_text() == nbb_unformatted_code) {\n",
       "                             nbb_cells[i].set_text(nbb_formatted_code);\n",
       "                        }\n",
       "                        break;\n",
       "                    }\n",
       "                }\n",
       "            }, 500);\n",
       "            "
      ],
      "text/plain": [
       "<IPython.core.display.Javascript object>"
      ]
     },
     "metadata": {},
     "output_type": "display_data"
    }
   ],
   "source": [
    "pd_malicious.shape, pd_webgoat_sample.shape, pd_benign.shape"
   ]
  },
  {
   "cell_type": "code",
   "execution_count": 15,
   "metadata": {},
   "outputs": [
    {
     "data": {
      "application/javascript": [
       "\n",
       "            setTimeout(function() {\n",
       "                var nbb_cell_id = 15;\n",
       "                var nbb_unformatted_code = \"# pd_malicious_sample = pd_malicious.sample(\\n#     int(pd_benign.shape[0] * (10.0 / 99.0)), replace=False\\n# )\\n\\n# pd_malicious_sample = pd_malicious\\n\\n# print(pd_malicious_sample.shape)\";\n",
       "                var nbb_formatted_code = \"# pd_malicious_sample = pd_malicious.sample(\\n#     int(pd_benign.shape[0] * (10.0 / 99.0)), replace=False\\n# )\\n\\n# pd_malicious_sample = pd_malicious\\n\\n# print(pd_malicious_sample.shape)\";\n",
       "                var nbb_cells = Jupyter.notebook.get_cells();\n",
       "                for (var i = 0; i < nbb_cells.length; ++i) {\n",
       "                    if (nbb_cells[i].input_prompt_number == nbb_cell_id) {\n",
       "                        if (nbb_cells[i].get_text() == nbb_unformatted_code) {\n",
       "                             nbb_cells[i].set_text(nbb_formatted_code);\n",
       "                        }\n",
       "                        break;\n",
       "                    }\n",
       "                }\n",
       "            }, 500);\n",
       "            "
      ],
      "text/plain": [
       "<IPython.core.display.Javascript object>"
      ]
     },
     "metadata": {},
     "output_type": "display_data"
    }
   ],
   "source": [
    "# pd_malicious_sample = pd_malicious.sample(\n",
    "#     int(pd_benign.shape[0] * (10.0 / 99.0)), replace=False\n",
    "# )\n",
    "\n",
    "# pd_malicious_sample = pd_malicious\n",
    "\n",
    "# print(pd_malicious_sample.shape)"
   ]
  },
  {
   "cell_type": "code",
   "execution_count": null,
   "metadata": {},
   "outputs": [],
   "source": []
  },
  {
   "cell_type": "markdown",
   "metadata": {},
   "source": [
    "### Create combined malicious dataframe"
   ]
  },
  {
   "cell_type": "code",
   "execution_count": 15,
   "metadata": {},
   "outputs": [
    {
     "data": {
      "application/javascript": [
       "\n",
       "            setTimeout(function() {\n",
       "                var nbb_cell_id = 15;\n",
       "                var nbb_unformatted_code = \"pd_malicious2 = pd_malicious[\\n    list(np.intersect1d(pd_malicious.columns.values, pd_webgoat_sample.columns.values))\\n]\\n\\npd_comb_malicious = pd.concat([pd_malicious2, pd_webgoat_sample])\";\n",
       "                var nbb_formatted_code = \"pd_malicious2 = pd_malicious[\\n    list(np.intersect1d(pd_malicious.columns.values, pd_webgoat_sample.columns.values))\\n]\\n\\npd_comb_malicious = pd.concat([pd_malicious2, pd_webgoat_sample])\";\n",
       "                var nbb_cells = Jupyter.notebook.get_cells();\n",
       "                for (var i = 0; i < nbb_cells.length; ++i) {\n",
       "                    if (nbb_cells[i].input_prompt_number == nbb_cell_id) {\n",
       "                        if (nbb_cells[i].get_text() == nbb_unformatted_code) {\n",
       "                             nbb_cells[i].set_text(nbb_formatted_code);\n",
       "                        }\n",
       "                        break;\n",
       "                    }\n",
       "                }\n",
       "            }, 500);\n",
       "            "
      ],
      "text/plain": [
       "<IPython.core.display.Javascript object>"
      ]
     },
     "metadata": {},
     "output_type": "display_data"
    }
   ],
   "source": [
    "pd_malicious2 = pd_malicious[\n",
    "    list(np.intersect1d(pd_malicious.columns.values, pd_webgoat_sample.columns.values))\n",
    "]\n",
    "\n",
    "pd_comb_malicious = pd.concat([pd_malicious2, pd_webgoat_sample])"
   ]
  },
  {
   "cell_type": "code",
   "execution_count": null,
   "metadata": {},
   "outputs": [],
   "source": []
  },
  {
   "cell_type": "markdown",
   "metadata": {},
   "source": [
    "### Combined dataframe - Benign + malicious"
   ]
  },
  {
   "cell_type": "code",
   "execution_count": 7,
   "metadata": {},
   "outputs": [
    {
     "data": {
      "text/plain": [
       "(14482, 40)"
      ]
     },
     "execution_count": 7,
     "metadata": {},
     "output_type": "execute_result"
    },
    {
     "data": {
      "application/javascript": [
       "\n",
       "            setTimeout(function() {\n",
       "                var nbb_cell_id = 7;\n",
       "                var nbb_unformatted_code = \"## pd_comb = pd.concat([pd_malicious_sample, pd_benign])\\n## pd_comb = pd.concat([pd_webgoat_sample, pd_benign])\\n## pd_comb = pd.concat([pd_comb_malicious, pd_benign])\\n## pd_comb = pd.concat([pd_ransomware2, pd_benign])\\npd_comb = pd.concat([pd_tpot_sample, pd_benign])\\n\\n## Random shuffle of rows\\npd_comb = pd_comb.sample(frac=1)\\n\\npd_comb.shape\";\n",
       "                var nbb_formatted_code = \"## pd_comb = pd.concat([pd_malicious_sample, pd_benign])\\n## pd_comb = pd.concat([pd_webgoat_sample, pd_benign])\\n## pd_comb = pd.concat([pd_comb_malicious, pd_benign])\\n## pd_comb = pd.concat([pd_ransomware2, pd_benign])\\npd_comb = pd.concat([pd_tpot_sample, pd_benign])\\n\\n## Random shuffle of rows\\npd_comb = pd_comb.sample(frac=1)\\n\\npd_comb.shape\";\n",
       "                var nbb_cells = Jupyter.notebook.get_cells();\n",
       "                for (var i = 0; i < nbb_cells.length; ++i) {\n",
       "                    if (nbb_cells[i].input_prompt_number == nbb_cell_id) {\n",
       "                        if (nbb_cells[i].get_text() == nbb_unformatted_code) {\n",
       "                             nbb_cells[i].set_text(nbb_formatted_code);\n",
       "                        }\n",
       "                        break;\n",
       "                    }\n",
       "                }\n",
       "            }, 500);\n",
       "            "
      ],
      "text/plain": [
       "<IPython.core.display.Javascript object>"
      ]
     },
     "metadata": {},
     "output_type": "display_data"
    }
   ],
   "source": [
    "## pd_comb = pd.concat([pd_malicious_sample, pd_benign])\n",
    "## pd_comb = pd.concat([pd_webgoat_sample, pd_benign])\n",
    "## pd_comb = pd.concat([pd_comb_malicious, pd_benign])\n",
    "## pd_comb = pd.concat([pd_ransomware2, pd_benign])\n",
    "pd_comb = pd.concat([pd_tpot_sample, pd_benign])\n",
    "\n",
    "## Random shuffle of rows\n",
    "pd_comb = pd_comb.sample(frac=1)\n",
    "\n",
    "pd_comb.shape"
   ]
  },
  {
   "cell_type": "code",
   "execution_count": null,
   "metadata": {},
   "outputs": [],
   "source": []
  },
  {
   "cell_type": "code",
   "execution_count": 8,
   "metadata": {},
   "outputs": [
    {
     "data": {
      "text/html": [
       "<div>\n",
       "<style scoped>\n",
       "    .dataframe tbody tr th:only-of-type {\n",
       "        vertical-align: middle;\n",
       "    }\n",
       "\n",
       "    .dataframe tbody tr th {\n",
       "        vertical-align: top;\n",
       "    }\n",
       "\n",
       "    .dataframe thead th {\n",
       "        text-align: right;\n",
       "    }\n",
       "</style>\n",
       "<table border=\"1\" class=\"dataframe\">\n",
       "  <thead>\n",
       "    <tr style=\"text-align: right;\">\n",
       "      <th></th>\n",
       "      <th>fiveTuple</th>\n",
       "      <th>srcIP</th>\n",
       "      <th>dstIP</th>\n",
       "      <th>protocol</th>\n",
       "      <th>srcPort</th>\n",
       "      <th>dstPort</th>\n",
       "      <th>flowDuration</th>\n",
       "      <th>flowLength</th>\n",
       "      <th>fwdFlowLength</th>\n",
       "      <th>bwdFlowLength</th>\n",
       "      <th>...</th>\n",
       "      <th>bwdIATTotal</th>\n",
       "      <th>fwdIATMean</th>\n",
       "      <th>bwdIATMean</th>\n",
       "      <th>fwdIATStd</th>\n",
       "      <th>bwdIATStd</th>\n",
       "      <th>fwdIATMin</th>\n",
       "      <th>bwdIATMin</th>\n",
       "      <th>fwdIATMax</th>\n",
       "      <th>bwdIATMax</th>\n",
       "      <th>Type</th>\n",
       "    </tr>\n",
       "  </thead>\n",
       "  <tbody>\n",
       "    <tr>\n",
       "      <th>4448</th>\n",
       "      <td>10.0.2.15--172.217.18.174--TCP--61669--443(https)</td>\n",
       "      <td>10.0.2.15</td>\n",
       "      <td>172.217.18.174</td>\n",
       "      <td>TCP</td>\n",
       "      <td>61669</td>\n",
       "      <td>443(https)</td>\n",
       "      <td>1.962059e+11</td>\n",
       "      <td>83.0</td>\n",
       "      <td>29.0</td>\n",
       "      <td>54.0</td>\n",
       "      <td>...</td>\n",
       "      <td>1.961872e+11</td>\n",
       "      <td>7.007317e+09</td>\n",
       "      <td>3.701645e+09</td>\n",
       "      <td>1.934820e+10</td>\n",
       "      <td>1.456334e+10</td>\n",
       "      <td>443000.0</td>\n",
       "      <td>28000.0</td>\n",
       "      <td>6.368852e+10</td>\n",
       "      <td>6.369700e+10</td>\n",
       "      <td>Benign</td>\n",
       "    </tr>\n",
       "    <tr>\n",
       "      <th>1924</th>\n",
       "      <td>192.168.1.191--151.249.90.198--TCP--49556--80(...</td>\n",
       "      <td>192.168.1.191</td>\n",
       "      <td>151.249.90.198</td>\n",
       "      <td>TCP</td>\n",
       "      <td>49556</td>\n",
       "      <td>80(http)</td>\n",
       "      <td>0.000000e+00</td>\n",
       "      <td>83.0</td>\n",
       "      <td>24.0</td>\n",
       "      <td>59.0</td>\n",
       "      <td>...</td>\n",
       "      <td>0.000000e+00</td>\n",
       "      <td>0.000000e+00</td>\n",
       "      <td>0.000000e+00</td>\n",
       "      <td>0.000000e+00</td>\n",
       "      <td>0.000000e+00</td>\n",
       "      <td>0.0</td>\n",
       "      <td>0.0</td>\n",
       "      <td>0.000000e+00</td>\n",
       "      <td>0.000000e+00</td>\n",
       "      <td>Benign</td>\n",
       "    </tr>\n",
       "    <tr>\n",
       "      <th>6341</th>\n",
       "      <td>10.0.2.15--104.120.243.32--TCP--58436--443(https)</td>\n",
       "      <td>10.0.2.15</td>\n",
       "      <td>104.120.243.32</td>\n",
       "      <td>TCP</td>\n",
       "      <td>58436</td>\n",
       "      <td>443(https)</td>\n",
       "      <td>1.179883e+11</td>\n",
       "      <td>83.0</td>\n",
       "      <td>29.0</td>\n",
       "      <td>54.0</td>\n",
       "      <td>...</td>\n",
       "      <td>1.179533e+11</td>\n",
       "      <td>4.213734e+09</td>\n",
       "      <td>2.225533e+09</td>\n",
       "      <td>4.738800e+09</td>\n",
       "      <td>4.069869e+09</td>\n",
       "      <td>0.0</td>\n",
       "      <td>28000.0</td>\n",
       "      <td>1.009247e+10</td>\n",
       "      <td>1.009253e+10</td>\n",
       "      <td>Benign</td>\n",
       "    </tr>\n",
       "  </tbody>\n",
       "</table>\n",
       "<p>3 rows × 40 columns</p>\n",
       "</div>"
      ],
      "text/plain": [
       "                                              fiveTuple          srcIP  \\\n",
       "4448  10.0.2.15--172.217.18.174--TCP--61669--443(https)      10.0.2.15   \n",
       "1924  192.168.1.191--151.249.90.198--TCP--49556--80(...  192.168.1.191   \n",
       "6341  10.0.2.15--104.120.243.32--TCP--58436--443(https)      10.0.2.15   \n",
       "\n",
       "               dstIP protocol srcPort     dstPort  flowDuration  flowLength  \\\n",
       "4448  172.217.18.174      TCP   61669  443(https)  1.962059e+11        83.0   \n",
       "1924  151.249.90.198      TCP   49556    80(http)  0.000000e+00        83.0   \n",
       "6341  104.120.243.32      TCP   58436  443(https)  1.179883e+11        83.0   \n",
       "\n",
       "      fwdFlowLength  bwdFlowLength  ...   bwdIATTotal    fwdIATMean  \\\n",
       "4448           29.0           54.0  ...  1.961872e+11  7.007317e+09   \n",
       "1924           24.0           59.0  ...  0.000000e+00  0.000000e+00   \n",
       "6341           29.0           54.0  ...  1.179533e+11  4.213734e+09   \n",
       "\n",
       "        bwdIATMean     fwdIATStd     bwdIATStd  fwdIATMin  bwdIATMin  \\\n",
       "4448  3.701645e+09  1.934820e+10  1.456334e+10   443000.0    28000.0   \n",
       "1924  0.000000e+00  0.000000e+00  0.000000e+00        0.0        0.0   \n",
       "6341  2.225533e+09  4.738800e+09  4.069869e+09        0.0    28000.0   \n",
       "\n",
       "         fwdIATMax     bwdIATMax    Type  \n",
       "4448  6.368852e+10  6.369700e+10  Benign  \n",
       "1924  0.000000e+00  0.000000e+00  Benign  \n",
       "6341  1.009247e+10  1.009253e+10  Benign  \n",
       "\n",
       "[3 rows x 40 columns]"
      ]
     },
     "execution_count": 8,
     "metadata": {},
     "output_type": "execute_result"
    },
    {
     "data": {
      "application/javascript": [
       "\n",
       "            setTimeout(function() {\n",
       "                var nbb_cell_id = 8;\n",
       "                var nbb_unformatted_code = \"pd_comb.head(3)\";\n",
       "                var nbb_formatted_code = \"pd_comb.head(3)\";\n",
       "                var nbb_cells = Jupyter.notebook.get_cells();\n",
       "                for (var i = 0; i < nbb_cells.length; ++i) {\n",
       "                    if (nbb_cells[i].input_prompt_number == nbb_cell_id) {\n",
       "                        if (nbb_cells[i].get_text() == nbb_unformatted_code) {\n",
       "                             nbb_cells[i].set_text(nbb_formatted_code);\n",
       "                        }\n",
       "                        break;\n",
       "                    }\n",
       "                }\n",
       "            }, 500);\n",
       "            "
      ],
      "text/plain": [
       "<IPython.core.display.Javascript object>"
      ]
     },
     "metadata": {},
     "output_type": "display_data"
    }
   ],
   "source": [
    "pd_comb.head(3)"
   ]
  },
  {
   "cell_type": "code",
   "execution_count": 9,
   "metadata": {},
   "outputs": [
    {
     "name": "stdout",
     "output_type": "stream",
     "text": [
      "flowLengthPerTime\n",
      "fwdFlowLengthPerTime\n",
      "bwdFlowLengthPerTime\n",
      "packetSizeTotalPerTime\n",
      "fwdPacketSizeTotalPerTime\n",
      "bwdPacketSizeTotalPerTime\n"
     ]
    },
    {
     "data": {
      "application/javascript": [
       "\n",
       "            setTimeout(function() {\n",
       "                var nbb_cell_id = 9;\n",
       "                var nbb_unformatted_code = \"colsPerTime = [\\n    \\\"flowLength\\\",\\n    \\\"fwdFlowLength\\\",\\n    \\\"bwdFlowLength\\\",\\n    \\\"packetSizeTotal\\\",\\n    \\\"fwdPacketSizeTotal\\\",\\n    \\\"bwdPacketSizeTotal\\\",\\n]\\n\\nfor feature in colsPerTime:\\n    pd_comb[feature + \\\"PerTime\\\"] = pd_comb[feature] / pd_comb[\\\"flowDuration\\\"]\\n\\n    #     pd_malicious_orig[feature + \\\"PerTime\\\"] = (\\n    #         pd_malicious_orig[feature] / pd_malicious_orig[\\\"flowDuration\\\"]\\n    #     )\\n\\n    #     pd_webgoat[feature + \\\"PerTime\\\"] = pd_webgoat[feature] / pd_webgoat[\\\"flowDuration\\\"]\\n\\n    #     pd_burp[feature + \\\"PerTime\\\"] = pd_burp[feature] / pd_burp[\\\"flowDuration\\\"]\\n\\n    #     pd_webgoat_v4[feature + \\\"PerTime\\\"] = (\\n    #         pd_webgoat_v4[feature] / pd_webgoat_v4[\\\"flowDuration\\\"]\\n    #     )\\n\\n    print(feature + \\\"PerTime\\\")\";\n",
       "                var nbb_formatted_code = \"colsPerTime = [\\n    \\\"flowLength\\\",\\n    \\\"fwdFlowLength\\\",\\n    \\\"bwdFlowLength\\\",\\n    \\\"packetSizeTotal\\\",\\n    \\\"fwdPacketSizeTotal\\\",\\n    \\\"bwdPacketSizeTotal\\\",\\n]\\n\\nfor feature in colsPerTime:\\n    pd_comb[feature + \\\"PerTime\\\"] = pd_comb[feature] / pd_comb[\\\"flowDuration\\\"]\\n\\n    #     pd_malicious_orig[feature + \\\"PerTime\\\"] = (\\n    #         pd_malicious_orig[feature] / pd_malicious_orig[\\\"flowDuration\\\"]\\n    #     )\\n\\n    #     pd_webgoat[feature + \\\"PerTime\\\"] = pd_webgoat[feature] / pd_webgoat[\\\"flowDuration\\\"]\\n\\n    #     pd_burp[feature + \\\"PerTime\\\"] = pd_burp[feature] / pd_burp[\\\"flowDuration\\\"]\\n\\n    #     pd_webgoat_v4[feature + \\\"PerTime\\\"] = (\\n    #         pd_webgoat_v4[feature] / pd_webgoat_v4[\\\"flowDuration\\\"]\\n    #     )\\n\\n    print(feature + \\\"PerTime\\\")\";\n",
       "                var nbb_cells = Jupyter.notebook.get_cells();\n",
       "                for (var i = 0; i < nbb_cells.length; ++i) {\n",
       "                    if (nbb_cells[i].input_prompt_number == nbb_cell_id) {\n",
       "                        if (nbb_cells[i].get_text() == nbb_unformatted_code) {\n",
       "                             nbb_cells[i].set_text(nbb_formatted_code);\n",
       "                        }\n",
       "                        break;\n",
       "                    }\n",
       "                }\n",
       "            }, 500);\n",
       "            "
      ],
      "text/plain": [
       "<IPython.core.display.Javascript object>"
      ]
     },
     "metadata": {},
     "output_type": "display_data"
    }
   ],
   "source": [
    "colsPerTime = [\n",
    "    \"flowLength\",\n",
    "    \"fwdFlowLength\",\n",
    "    \"bwdFlowLength\",\n",
    "    \"packetSizeTotal\",\n",
    "    \"fwdPacketSizeTotal\",\n",
    "    \"bwdPacketSizeTotal\",\n",
    "]\n",
    "\n",
    "for feature in colsPerTime:\n",
    "    pd_comb[feature + \"PerTime\"] = pd_comb[feature] / pd_comb[\"flowDuration\"]\n",
    "\n",
    "    #     pd_malicious_orig[feature + \"PerTime\"] = (\n",
    "    #         pd_malicious_orig[feature] / pd_malicious_orig[\"flowDuration\"]\n",
    "    #     )\n",
    "\n",
    "    #     pd_webgoat[feature + \"PerTime\"] = pd_webgoat[feature] / pd_webgoat[\"flowDuration\"]\n",
    "\n",
    "    #     pd_burp[feature + \"PerTime\"] = pd_burp[feature] / pd_burp[\"flowDuration\"]\n",
    "\n",
    "    #     pd_webgoat_v4[feature + \"PerTime\"] = (\n",
    "    #         pd_webgoat_v4[feature] / pd_webgoat_v4[\"flowDuration\"]\n",
    "    #     )\n",
    "\n",
    "    print(feature + \"PerTime\")"
   ]
  },
  {
   "cell_type": "code",
   "execution_count": null,
   "metadata": {},
   "outputs": [],
   "source": []
  },
  {
   "cell_type": "code",
   "execution_count": 10,
   "metadata": {},
   "outputs": [
    {
     "data": {
      "text/plain": [
       "Index(['fiveTuple', 'srcIP', 'dstIP', 'protocol', 'srcPort', 'dstPort',\n",
       "       'flowDuration', 'flowLength', 'fwdFlowLength', 'bwdFlowLength',\n",
       "       'packetSizeTotal', 'packetSizeMean', 'packetSizeStd', 'packetSizeMin',\n",
       "       'packetSizeMax', 'fwdPacketSizeTotal', 'bwdPacketSizeTotal',\n",
       "       'fwdPacketSizeMean', 'bwdPacketSizeMean', 'fwdPacketSizeStd',\n",
       "       'bwdPacketSizeStd', 'fwdPacketSizeMin', 'bwdPacketSizeMin',\n",
       "       'fwdPacketSizeMax', 'bwdPacketSizeMax', 'IATMean', 'IATStd', 'IATMin',\n",
       "       'IATMax', 'fwdIATTotal', 'bwdIATTotal', 'fwdIATMean', 'bwdIATMean',\n",
       "       'fwdIATStd', 'bwdIATStd', 'fwdIATMin', 'bwdIATMin', 'fwdIATMax',\n",
       "       'bwdIATMax', 'Type', 'flowLengthPerTime', 'fwdFlowLengthPerTime',\n",
       "       'bwdFlowLengthPerTime', 'packetSizeTotalPerTime',\n",
       "       'fwdPacketSizeTotalPerTime', 'bwdPacketSizeTotalPerTime'],\n",
       "      dtype='object')"
      ]
     },
     "execution_count": 10,
     "metadata": {},
     "output_type": "execute_result"
    },
    {
     "data": {
      "application/javascript": [
       "\n",
       "            setTimeout(function() {\n",
       "                var nbb_cell_id = 10;\n",
       "                var nbb_unformatted_code = \"pd_comb.columns\";\n",
       "                var nbb_formatted_code = \"pd_comb.columns\";\n",
       "                var nbb_cells = Jupyter.notebook.get_cells();\n",
       "                for (var i = 0; i < nbb_cells.length; ++i) {\n",
       "                    if (nbb_cells[i].input_prompt_number == nbb_cell_id) {\n",
       "                        if (nbb_cells[i].get_text() == nbb_unformatted_code) {\n",
       "                             nbb_cells[i].set_text(nbb_formatted_code);\n",
       "                        }\n",
       "                        break;\n",
       "                    }\n",
       "                }\n",
       "            }, 500);\n",
       "            "
      ],
      "text/plain": [
       "<IPython.core.display.Javascript object>"
      ]
     },
     "metadata": {},
     "output_type": "display_data"
    }
   ],
   "source": [
    "pd_comb.columns"
   ]
  },
  {
   "cell_type": "markdown",
   "metadata": {},
   "source": [
    "## Features"
   ]
  },
  {
   "cell_type": "raw",
   "metadata": {
    "code_folding": []
   },
   "source": [
    "feature_cols = [\n",
    "    #     \"flowDuration\",\n",
    "    #     \"flowLength\",\n",
    "    #     \"fwdFlowLength\",\n",
    "    #     \"bwdFlowLength\",\n",
    "    #     \"packetSizeTotal\",\n",
    "    \"packetSizeMean\",\n",
    "    \"packetSizeStd\",\n",
    "    \"packetSizeMin\",\n",
    "    \"packetSizeMax\",\n",
    "    #     \"fwdPacketSizeTotal\",\n",
    "    #     \"bwdPacketSizeTotal\",\n",
    "    \"fwdPacketSizeMean\",\n",
    "    \"bwdPacketSizeMean\",\n",
    "    \"fwdPacketSizeStd\",\n",
    "    \"bwdPacketSizeStd\",\n",
    "    \"fwdPacketSizeMin\",\n",
    "    \"bwdPacketSizeMin\",\n",
    "    \"fwdPacketSizeMax\",\n",
    "    \"bwdPacketSizeMax\",\n",
    "    \"IATMean\",\n",
    "    \"IATStd\",\n",
    "    \"IATMin\",\n",
    "    \"IATMax\",\n",
    "    #     \"fwdIATTotal\",\n",
    "    #     \"bwdIATTotal\",\n",
    "    \"fwdIATMean\",\n",
    "    \"bwdIATMean\",\n",
    "    \"fwdIATStd\",\n",
    "    \"bwdIATStd\",\n",
    "    \"fwdIATMin\",\n",
    "    \"bwdIATMin\",\n",
    "    \"fwdIATMax\",\n",
    "    \"bwdIATMax\",\n",
    "    \"flowLengthPerTime\",\n",
    "    \"fwdFlowLengthPerTime\",\n",
    "    \"bwdFlowLengthPerTime\",\n",
    "    \"packetSizeTotalPerTime\",\n",
    "    \"fwdPacketSizeTotalPerTime\",\n",
    "    \"bwdPacketSizeTotalPerTime\",\n",
    "    \"Type\",\n",
    "]"
   ]
  },
  {
   "cell_type": "code",
   "execution_count": 11,
   "metadata": {
    "code_folding": [
     0
    ]
   },
   "outputs": [
    {
     "data": {
      "application/javascript": [
       "\n",
       "            setTimeout(function() {\n",
       "                var nbb_cell_id = 11;\n",
       "                var nbb_unformatted_code = \"feature_cols = [\\n    #     \\\"flowDuration\\\",\\n    #     \\\"flowLength\\\",\\n    #     \\\"fwdFlowLength\\\",\\n    #     \\\"bwdFlowLength\\\",\\n    #     \\\"packetSizeTotal\\\",\\n    \\\"packetSizeMean\\\",\\n    \\\"packetSizeStd\\\",\\n    \\\"packetSizeMin\\\",\\n    \\\"packetSizeMax\\\",\\n    #     \\\"fwdPacketSizeTotal\\\",\\n    #     \\\"bwdPacketSizeTotal\\\",\\n    \\\"fwdPacketSizeMean\\\",\\n    \\\"bwdPacketSizeMean\\\",\\n    \\\"fwdPacketSizeStd\\\",\\n    \\\"bwdPacketSizeStd\\\",\\n    \\\"fwdPacketSizeMin\\\",\\n    \\\"bwdPacketSizeMin\\\",\\n    \\\"fwdPacketSizeMax\\\",\\n    \\\"bwdPacketSizeMax\\\",\\n    #     \\\"IATMean\\\",\\n    #     \\\"IATStd\\\",\\n    #     \\\"IATMin\\\",\\n    #     \\\"IATMax\\\",\\n    #     \\\"fwdIATTotal\\\",\\n    #     \\\"bwdIATTotal\\\",\\n    #     \\\"fwdIATMean\\\",\\n    #     \\\"bwdIATMean\\\",\\n    #     \\\"fwdIATStd\\\",\\n    #     \\\"bwdIATStd\\\",\\n    #     \\\"fwdIATMin\\\",\\n    #     \\\"bwdIATMin\\\",\\n    #     \\\"fwdIATMax\\\",\\n    #     \\\"bwdIATMax\\\",\\n    \\\"flowLengthPerTime\\\",\\n    \\\"fwdFlowLengthPerTime\\\",\\n    \\\"bwdFlowLengthPerTime\\\",\\n    \\\"packetSizeTotalPerTime\\\",\\n    \\\"fwdPacketSizeTotalPerTime\\\",\\n    \\\"bwdPacketSizeTotalPerTime\\\",\\n    \\\"Type\\\",\\n]\";\n",
       "                var nbb_formatted_code = \"feature_cols = [\\n    #     \\\"flowDuration\\\",\\n    #     \\\"flowLength\\\",\\n    #     \\\"fwdFlowLength\\\",\\n    #     \\\"bwdFlowLength\\\",\\n    #     \\\"packetSizeTotal\\\",\\n    \\\"packetSizeMean\\\",\\n    \\\"packetSizeStd\\\",\\n    \\\"packetSizeMin\\\",\\n    \\\"packetSizeMax\\\",\\n    #     \\\"fwdPacketSizeTotal\\\",\\n    #     \\\"bwdPacketSizeTotal\\\",\\n    \\\"fwdPacketSizeMean\\\",\\n    \\\"bwdPacketSizeMean\\\",\\n    \\\"fwdPacketSizeStd\\\",\\n    \\\"bwdPacketSizeStd\\\",\\n    \\\"fwdPacketSizeMin\\\",\\n    \\\"bwdPacketSizeMin\\\",\\n    \\\"fwdPacketSizeMax\\\",\\n    \\\"bwdPacketSizeMax\\\",\\n    #     \\\"IATMean\\\",\\n    #     \\\"IATStd\\\",\\n    #     \\\"IATMin\\\",\\n    #     \\\"IATMax\\\",\\n    #     \\\"fwdIATTotal\\\",\\n    #     \\\"bwdIATTotal\\\",\\n    #     \\\"fwdIATMean\\\",\\n    #     \\\"bwdIATMean\\\",\\n    #     \\\"fwdIATStd\\\",\\n    #     \\\"bwdIATStd\\\",\\n    #     \\\"fwdIATMin\\\",\\n    #     \\\"bwdIATMin\\\",\\n    #     \\\"fwdIATMax\\\",\\n    #     \\\"bwdIATMax\\\",\\n    \\\"flowLengthPerTime\\\",\\n    \\\"fwdFlowLengthPerTime\\\",\\n    \\\"bwdFlowLengthPerTime\\\",\\n    \\\"packetSizeTotalPerTime\\\",\\n    \\\"fwdPacketSizeTotalPerTime\\\",\\n    \\\"bwdPacketSizeTotalPerTime\\\",\\n    \\\"Type\\\",\\n]\";\n",
       "                var nbb_cells = Jupyter.notebook.get_cells();\n",
       "                for (var i = 0; i < nbb_cells.length; ++i) {\n",
       "                    if (nbb_cells[i].input_prompt_number == nbb_cell_id) {\n",
       "                        if (nbb_cells[i].get_text() == nbb_unformatted_code) {\n",
       "                             nbb_cells[i].set_text(nbb_formatted_code);\n",
       "                        }\n",
       "                        break;\n",
       "                    }\n",
       "                }\n",
       "            }, 500);\n",
       "            "
      ],
      "text/plain": [
       "<IPython.core.display.Javascript object>"
      ]
     },
     "metadata": {},
     "output_type": "display_data"
    }
   ],
   "source": [
    "feature_cols = [\n",
    "    #     \"flowDuration\",\n",
    "    #     \"flowLength\",\n",
    "    #     \"fwdFlowLength\",\n",
    "    #     \"bwdFlowLength\",\n",
    "    #     \"packetSizeTotal\",\n",
    "    \"packetSizeMean\",\n",
    "    \"packetSizeStd\",\n",
    "    \"packetSizeMin\",\n",
    "    \"packetSizeMax\",\n",
    "    #     \"fwdPacketSizeTotal\",\n",
    "    #     \"bwdPacketSizeTotal\",\n",
    "    \"fwdPacketSizeMean\",\n",
    "    \"bwdPacketSizeMean\",\n",
    "    \"fwdPacketSizeStd\",\n",
    "    \"bwdPacketSizeStd\",\n",
    "    \"fwdPacketSizeMin\",\n",
    "    \"bwdPacketSizeMin\",\n",
    "    \"fwdPacketSizeMax\",\n",
    "    \"bwdPacketSizeMax\",\n",
    "    #     \"IATMean\",\n",
    "    #     \"IATStd\",\n",
    "    #     \"IATMin\",\n",
    "    #     \"IATMax\",\n",
    "    #     \"fwdIATTotal\",\n",
    "    #     \"bwdIATTotal\",\n",
    "    #     \"fwdIATMean\",\n",
    "    #     \"bwdIATMean\",\n",
    "    #     \"fwdIATStd\",\n",
    "    #     \"bwdIATStd\",\n",
    "    #     \"fwdIATMin\",\n",
    "    #     \"bwdIATMin\",\n",
    "    #     \"fwdIATMax\",\n",
    "    #     \"bwdIATMax\",\n",
    "    \"flowLengthPerTime\",\n",
    "    \"fwdFlowLengthPerTime\",\n",
    "    \"bwdFlowLengthPerTime\",\n",
    "    \"packetSizeTotalPerTime\",\n",
    "    \"fwdPacketSizeTotalPerTime\",\n",
    "    \"bwdPacketSizeTotalPerTime\",\n",
    "    \"Type\",\n",
    "]"
   ]
  },
  {
   "cell_type": "code",
   "execution_count": null,
   "metadata": {},
   "outputs": [],
   "source": []
  },
  {
   "cell_type": "markdown",
   "metadata": {},
   "source": [
    "### Dataframe with chosen features"
   ]
  },
  {
   "cell_type": "code",
   "execution_count": 12,
   "metadata": {},
   "outputs": [
    {
     "data": {
      "application/javascript": [
       "\n",
       "            setTimeout(function() {\n",
       "                var nbb_cell_id = 12;\n",
       "                var nbb_unformatted_code = \"pd_comb_features = pd_comb[feature_cols]\";\n",
       "                var nbb_formatted_code = \"pd_comb_features = pd_comb[feature_cols]\";\n",
       "                var nbb_cells = Jupyter.notebook.get_cells();\n",
       "                for (var i = 0; i < nbb_cells.length; ++i) {\n",
       "                    if (nbb_cells[i].input_prompt_number == nbb_cell_id) {\n",
       "                        if (nbb_cells[i].get_text() == nbb_unformatted_code) {\n",
       "                             nbb_cells[i].set_text(nbb_formatted_code);\n",
       "                        }\n",
       "                        break;\n",
       "                    }\n",
       "                }\n",
       "            }, 500);\n",
       "            "
      ],
      "text/plain": [
       "<IPython.core.display.Javascript object>"
      ]
     },
     "metadata": {},
     "output_type": "display_data"
    }
   ],
   "source": [
    "pd_comb_features = pd_comb[feature_cols]"
   ]
  },
  {
   "cell_type": "code",
   "execution_count": 23,
   "metadata": {},
   "outputs": [
    {
     "data": {
      "application/javascript": [
       "\n",
       "            setTimeout(function() {\n",
       "                var nbb_cell_id = 23;\n",
       "                var nbb_unformatted_code = \"pd_webgoat_v4_features = pd_webgoat_v4[feature_cols]\";\n",
       "                var nbb_formatted_code = \"pd_webgoat_v4_features = pd_webgoat_v4[feature_cols]\";\n",
       "                var nbb_cells = Jupyter.notebook.get_cells();\n",
       "                for (var i = 0; i < nbb_cells.length; ++i) {\n",
       "                    if (nbb_cells[i].input_prompt_number == nbb_cell_id) {\n",
       "                        if (nbb_cells[i].get_text() == nbb_unformatted_code) {\n",
       "                             nbb_cells[i].set_text(nbb_formatted_code);\n",
       "                        }\n",
       "                        break;\n",
       "                    }\n",
       "                }\n",
       "            }, 500);\n",
       "            "
      ],
      "text/plain": [
       "<IPython.core.display.Javascript object>"
      ]
     },
     "metadata": {},
     "output_type": "display_data"
    }
   ],
   "source": [
    "pd_webgoat_v4_features = pd_webgoat_v4[feature_cols]"
   ]
  },
  {
   "cell_type": "code",
   "execution_count": 38,
   "metadata": {},
   "outputs": [
    {
     "data": {
      "application/javascript": [
       "\n",
       "            setTimeout(function() {\n",
       "                var nbb_cell_id = 38;\n",
       "                var nbb_unformatted_code = \"pd_burp_features = pd_burp[feature_cols]\";\n",
       "                var nbb_formatted_code = \"pd_burp_features = pd_burp[feature_cols]\";\n",
       "                var nbb_cells = Jupyter.notebook.get_cells();\n",
       "                for (var i = 0; i < nbb_cells.length; ++i) {\n",
       "                    if (nbb_cells[i].input_prompt_number == nbb_cell_id) {\n",
       "                        if (nbb_cells[i].get_text() == nbb_unformatted_code) {\n",
       "                             nbb_cells[i].set_text(nbb_formatted_code);\n",
       "                        }\n",
       "                        break;\n",
       "                    }\n",
       "                }\n",
       "            }, 500);\n",
       "            "
      ],
      "text/plain": [
       "<IPython.core.display.Javascript object>"
      ]
     },
     "metadata": {},
     "output_type": "display_data"
    }
   ],
   "source": [
    "pd_burp_features = pd_burp[feature_cols]"
   ]
  },
  {
   "cell_type": "code",
   "execution_count": 24,
   "metadata": {},
   "outputs": [
    {
     "data": {
      "application/javascript": [
       "\n",
       "            setTimeout(function() {\n",
       "                var nbb_cell_id = 24;\n",
       "                var nbb_unformatted_code = \"pd_malicious_orig_features = pd_malicious_orig[feature_cols]\";\n",
       "                var nbb_formatted_code = \"pd_malicious_orig_features = pd_malicious_orig[feature_cols]\";\n",
       "                var nbb_cells = Jupyter.notebook.get_cells();\n",
       "                for (var i = 0; i < nbb_cells.length; ++i) {\n",
       "                    if (nbb_cells[i].input_prompt_number == nbb_cell_id) {\n",
       "                        if (nbb_cells[i].get_text() == nbb_unformatted_code) {\n",
       "                             nbb_cells[i].set_text(nbb_formatted_code);\n",
       "                        }\n",
       "                        break;\n",
       "                    }\n",
       "                }\n",
       "            }, 500);\n",
       "            "
      ],
      "text/plain": [
       "<IPython.core.display.Javascript object>"
      ]
     },
     "metadata": {},
     "output_type": "display_data"
    }
   ],
   "source": [
    "pd_malicious_orig_features = pd_malicious_orig[feature_cols]"
   ]
  },
  {
   "cell_type": "code",
   "execution_count": 25,
   "metadata": {},
   "outputs": [
    {
     "data": {
      "application/javascript": [
       "\n",
       "            setTimeout(function() {\n",
       "                var nbb_cell_id = 25;\n",
       "                var nbb_unformatted_code = \"pd_webgoat_features = pd_webgoat[feature_cols]\";\n",
       "                var nbb_formatted_code = \"pd_webgoat_features = pd_webgoat[feature_cols]\";\n",
       "                var nbb_cells = Jupyter.notebook.get_cells();\n",
       "                for (var i = 0; i < nbb_cells.length; ++i) {\n",
       "                    if (nbb_cells[i].input_prompt_number == nbb_cell_id) {\n",
       "                        if (nbb_cells[i].get_text() == nbb_unformatted_code) {\n",
       "                             nbb_cells[i].set_text(nbb_formatted_code);\n",
       "                        }\n",
       "                        break;\n",
       "                    }\n",
       "                }\n",
       "            }, 500);\n",
       "            "
      ],
      "text/plain": [
       "<IPython.core.display.Javascript object>"
      ]
     },
     "metadata": {},
     "output_type": "display_data"
    }
   ],
   "source": [
    "pd_webgoat_features = pd_webgoat[feature_cols]"
   ]
  },
  {
   "cell_type": "code",
   "execution_count": null,
   "metadata": {},
   "outputs": [],
   "source": []
  },
  {
   "cell_type": "code",
   "execution_count": null,
   "metadata": {},
   "outputs": [],
   "source": []
  },
  {
   "cell_type": "code",
   "execution_count": null,
   "metadata": {},
   "outputs": [],
   "source": []
  },
  {
   "cell_type": "code",
   "execution_count": null,
   "metadata": {},
   "outputs": [],
   "source": []
  },
  {
   "cell_type": "markdown",
   "metadata": {},
   "source": [
    "### Feature importance plots"
   ]
  },
  {
   "cell_type": "raw",
   "metadata": {},
   "source": [
    "df_CICIDS_benign = df_CICIDS[df_CICIDS[\"Type\"] == \"Benign\"]\n",
    "df_CICIDS_malicious = df_CICIDS[df_CICIDS[\"Type\"] == \"Malicious\"]\n",
    "\n",
    "print( df_CICIDS_benign.shape, df_CICIDS_malicious.shape )\n",
    "\n",
    "feature = \" Flow IAT Max\"\n",
    "\n",
    "MIN1, MAX1 = (\n",
    "    df_CICIDS_benign[feature].min(),\n",
    "    df_CICIDS_benign[feature].max(),\n",
    ")\n",
    "\n",
    "MIN2, MAX2 = (\n",
    "    df_CICIDS_malicious[feature].min(),\n",
    "    df_CICIDS_malicious[feature].max(),\n",
    ")\n",
    "\n",
    "NUM_BINS = 50\n",
    "\n",
    "IF_NORM = True\n",
    "\n",
    "ylabel_dict = {True: \"Density\", False: \"Frequency\"}\n",
    "\n",
    "plt.hist(\n",
    "    x=df_CICIDS_benign[feature].values,\n",
    "    # bins=10 ** np.linspace(np.log10(MIN1), np.log10(MAX1), NUM_BINS),\n",
    "    bins=np.linspace(MIN1, MAX1, NUM_BINS),\n",
    "    density=IF_NORM,\n",
    "    label=\"Benign\"\n",
    ")\n",
    "\n",
    "plt.hist(\n",
    "    x=df_CICIDS_malicious[feature].values,\n",
    "    # bins=10 ** np.linspace(np.log10(MIN1), np.log10(MAX1), NUM_BINS),\n",
    "    bins=np.linspace(MIN1, MAX1, NUM_BINS),\n",
    "    density=IF_NORM,\n",
    "    label=\"Malicious\"\n",
    ")\n",
    "\n",
    "\n",
    "# plt.gca().set_xscale(\"log\")\n",
    "plt.gca().set_yscale(\"log\")\n",
    "\n",
    "plt.legend()\n",
    "plt.xlabel(feature)\n",
    "plt.ylabel(ylabel_dict[IF_NORM])\n"
   ]
  },
  {
   "cell_type": "code",
   "execution_count": null,
   "metadata": {},
   "outputs": [],
   "source": []
  },
  {
   "cell_type": "code",
   "execution_count": null,
   "metadata": {},
   "outputs": [],
   "source": []
  },
  {
   "cell_type": "code",
   "execution_count": null,
   "metadata": {},
   "outputs": [],
   "source": [
    "'fwdIATMean', 'bwdPacketSizeMean', 'fwdPacketSizeMax',\n",
    "       'packetSizeMax', 'IATMin', 'fwdPacketSizeMin', 'bwdPacketSizeMin',\n",
    "       'packetSizeMin', 'bwdPacketSizeMax', 'fwdPacketSizeMean',\n",
    "       'packetSizeMean', 'packetSizeStd', 'fwdPacketSizeStd',\n",
    "       'packetSizeTotalPerTime', 'bwdFlowLengthPerTime',\n",
    "       'fwdFlowLengthPerTime', 'flowLengthPerTime', 'bwdIATMax',\n",
    "       'fwdIATMax', 'bwdIATMin', 'fwdIATMin', 'bwdIATStd', 'fwdIATStd',\n",
    "       'bwdIATMean', 'IATMax', 'fwdPacketSizeTotalPerTime', 'IATStd',\n",
    "       'IATMean', 'bwdPacketSizeStd', 'bwdPacketSizeTotalPerTime'"
   ]
  },
  {
   "cell_type": "code",
   "execution_count": 17,
   "metadata": {},
   "outputs": [
    {
     "data": {
      "text/plain": [
       "Text(0, 0.5, 'Density')"
      ]
     },
     "execution_count": 17,
     "metadata": {},
     "output_type": "execute_result"
    },
    {
     "data": {
      "image/png": "[encoded data removed]",
      "text/plain": [
       "<Figure size 432x288 with 1 Axes>"
      ]
     },
     "metadata": {
      "needs_background": "light"
     },
     "output_type": "display_data"
    },
    {
     "data": {
      "application/javascript": [
       "\n",
       "            setTimeout(function() {\n",
       "                var nbb_cell_id = 17;\n",
       "                var nbb_unformatted_code = \"feature = \\\"fwdIATMean\\\"\\n\\ndf_benign = pd_benign\\ndf_malicious = pd_malicious\\n\\n\\nMIN1, MAX1 = (\\n    df_benign[feature].min(),\\n    df_benign[feature].max(),\\n)\\n\\n\\nMIN2, MAX2 = (\\n    df_malicious[feature].min(),\\n    df_malicious[feature].max(),\\n)\\n\\n\\nNUM_BINS = 50\\n\\nIF_NORM = True\\n\\nylabel_dict = {True: \\\"Density\\\", False: \\\"Frequency\\\"}\\n\\nplt.hist(\\n    x=df_benign[feature].values,\\n    # bins=10 ** np.linspace(np.log10(MIN1), np.log10(MAX1), NUM_BINS),\\n    bins=np.linspace(MIN1, MAX1, NUM_BINS),\\n    density=IF_NORM,\\n    label=\\\"Benign\\\", zorder=2\\n)\\n\\nplt.hist(\\n    x=df_malicious[feature].values,\\n    # bins=10 ** np.linspace(np.log10(MIN1), np.log10(MAX1), NUM_BINS),\\n    bins=np.linspace(MIN2, MAX2, NUM_BINS),\\n    density=IF_NORM,\\n    label=\\\"Malicious\\\", zorder=3\\n)\\n\\n\\n# plt.gca().set_xscale(\\\"log\\\")\\nplt.gca().set_yscale(\\\"log\\\")\\n\\nplt.legend()\\nplt.xlabel(feature)\\nplt.ylabel(ylabel_dict[IF_NORM])\";\n",
       "                var nbb_formatted_code = \"feature = \\\"fwdIATMean\\\"\\n\\ndf_benign = pd_benign\\ndf_malicious = pd_malicious\\n\\n\\nMIN1, MAX1 = (\\n    df_benign[feature].min(),\\n    df_benign[feature].max(),\\n)\\n\\n\\nMIN2, MAX2 = (\\n    df_malicious[feature].min(),\\n    df_malicious[feature].max(),\\n)\\n\\n\\nNUM_BINS = 50\\n\\nIF_NORM = True\\n\\nylabel_dict = {True: \\\"Density\\\", False: \\\"Frequency\\\"}\\n\\nplt.hist(\\n    x=df_benign[feature].values,\\n    # bins=10 ** np.linspace(np.log10(MIN1), np.log10(MAX1), NUM_BINS),\\n    bins=np.linspace(MIN1, MAX1, NUM_BINS),\\n    density=IF_NORM,\\n    label=\\\"Benign\\\",\\n    zorder=2,\\n)\\n\\nplt.hist(\\n    x=df_malicious[feature].values,\\n    # bins=10 ** np.linspace(np.log10(MIN1), np.log10(MAX1), NUM_BINS),\\n    bins=np.linspace(MIN2, MAX2, NUM_BINS),\\n    density=IF_NORM,\\n    label=\\\"Malicious\\\",\\n    zorder=3,\\n)\\n\\n\\n# plt.gca().set_xscale(\\\"log\\\")\\nplt.gca().set_yscale(\\\"log\\\")\\n\\nplt.legend()\\nplt.xlabel(feature)\\nplt.ylabel(ylabel_dict[IF_NORM])\";\n",
       "                var nbb_cells = Jupyter.notebook.get_cells();\n",
       "                for (var i = 0; i < nbb_cells.length; ++i) {\n",
       "                    if (nbb_cells[i].input_prompt_number == nbb_cell_id) {\n",
       "                        if (nbb_cells[i].get_text() == nbb_unformatted_code) {\n",
       "                             nbb_cells[i].set_text(nbb_formatted_code);\n",
       "                        }\n",
       "                        break;\n",
       "                    }\n",
       "                }\n",
       "            }, 500);\n",
       "            "
      ],
      "text/plain": [
       "<IPython.core.display.Javascript object>"
      ]
     },
     "metadata": {},
     "output_type": "display_data"
    }
   ],
   "source": [
    "feature = \"fwdIATMean\"\n",
    "\n",
    "df_benign = pd_benign\n",
    "df_malicious = pd_malicious\n",
    "\n",
    "\n",
    "MIN1, MAX1 = (\n",
    "    df_benign[feature].min(),\n",
    "    df_benign[feature].max(),\n",
    ")\n",
    "\n",
    "\n",
    "MIN2, MAX2 = (\n",
    "    df_malicious[feature].min(),\n",
    "    df_malicious[feature].max(),\n",
    ")\n",
    "\n",
    "\n",
    "NUM_BINS = 50\n",
    "\n",
    "IF_NORM = True\n",
    "\n",
    "ylabel_dict = {True: \"Density\", False: \"Frequency\"}\n",
    "\n",
    "plt.hist(\n",
    "    x=df_benign[feature].values,\n",
    "    # bins=10 ** np.linspace(np.log10(MIN1), np.log10(MAX1), NUM_BINS),\n",
    "    bins=np.linspace(MIN1, MAX1, NUM_BINS),\n",
    "    density=IF_NORM,\n",
    "    label=\"Benign\", zorder=2\n",
    ")\n",
    "\n",
    "plt.hist(\n",
    "    x=df_malicious[feature].values,\n",
    "    # bins=10 ** np.linspace(np.log10(MIN1), np.log10(MAX1), NUM_BINS),\n",
    "    bins=np.linspace(MIN2, MAX2, NUM_BINS),\n",
    "    density=IF_NORM,\n",
    "    label=\"Malicious\", zorder=3\n",
    ")\n",
    "\n",
    "\n",
    "# plt.gca().set_xscale(\"log\")\n",
    "plt.gca().set_yscale(\"log\")\n",
    "\n",
    "plt.legend()\n",
    "plt.xlabel(feature)\n",
    "plt.ylabel(ylabel_dict[IF_NORM])\n"
   ]
  },
  {
   "cell_type": "code",
   "execution_count": 18,
   "metadata": {},
   "outputs": [
    {
     "data": {
      "text/plain": [
       "Text(0, 0.5, 'Density')"
      ]
     },
     "execution_count": 18,
     "metadata": {},
     "output_type": "execute_result"
    },
    {
     "data": {
      "image/png": "[encoded data removed]",
      "text/plain": [
       "<Figure size 432x288 with 1 Axes>"
      ]
     },
     "metadata": {
      "needs_background": "light"
     },
     "output_type": "display_data"
    },
    {
     "data": {
      "application/javascript": [
       "\n",
       "            setTimeout(function() {\n",
       "                var nbb_cell_id = 18;\n",
       "                var nbb_unformatted_code = \"feature = \\\"fwdIATMean\\\"\\n\\ndf_benign = pd_malicious_orig\\ndf_malicious = pd_malicious\\n\\n\\nMIN1, MAX1 = (\\n    df_benign[feature].min(),\\n    df_benign[feature].max(),\\n)\\n\\n\\nMIN2, MAX2 = (\\n    df_malicious[feature].min(),\\n    df_malicious[feature].max(),\\n)\\n\\n\\nNUM_BINS = 50\\n\\nIF_NORM = True\\n\\nylabel_dict = {True: \\\"Density\\\", False: \\\"Frequency\\\"}\\n\\nplt.hist(\\n    x=df_benign[feature].values,\\n    # bins=10 ** np.linspace(np.log10(MIN1), np.log10(MAX1), NUM_BINS),\\n    bins=np.linspace(MIN1, MAX1, NUM_BINS),\\n    density=IF_NORM,\\n    label=\\\"Malicious original\\\", zorder=2\\n)\\n\\nplt.hist(\\n    x=df_malicious[feature].values,\\n    # bins=10 ** np.linspace(np.log10(MIN1), np.log10(MAX1), NUM_BINS),\\n    bins=np.linspace(MIN2, MAX2, NUM_BINS),\\n    density=IF_NORM,\\n    label=\\\"Malicious\\\", zorder=3\\n)\\n\\n\\n# plt.gca().set_xscale(\\\"log\\\")\\nplt.gca().set_yscale(\\\"log\\\")\\n\\nplt.legend()\\nplt.xlabel(feature)\\nplt.ylabel(ylabel_dict[IF_NORM])\";\n",
       "                var nbb_formatted_code = \"feature = \\\"fwdIATMean\\\"\\n\\ndf_benign = pd_malicious_orig\\ndf_malicious = pd_malicious\\n\\n\\nMIN1, MAX1 = (\\n    df_benign[feature].min(),\\n    df_benign[feature].max(),\\n)\\n\\n\\nMIN2, MAX2 = (\\n    df_malicious[feature].min(),\\n    df_malicious[feature].max(),\\n)\\n\\n\\nNUM_BINS = 50\\n\\nIF_NORM = True\\n\\nylabel_dict = {True: \\\"Density\\\", False: \\\"Frequency\\\"}\\n\\nplt.hist(\\n    x=df_benign[feature].values,\\n    # bins=10 ** np.linspace(np.log10(MIN1), np.log10(MAX1), NUM_BINS),\\n    bins=np.linspace(MIN1, MAX1, NUM_BINS),\\n    density=IF_NORM,\\n    label=\\\"Malicious original\\\",\\n    zorder=2,\\n)\\n\\nplt.hist(\\n    x=df_malicious[feature].values,\\n    # bins=10 ** np.linspace(np.log10(MIN1), np.log10(MAX1), NUM_BINS),\\n    bins=np.linspace(MIN2, MAX2, NUM_BINS),\\n    density=IF_NORM,\\n    label=\\\"Malicious\\\",\\n    zorder=3,\\n)\\n\\n\\n# plt.gca().set_xscale(\\\"log\\\")\\nplt.gca().set_yscale(\\\"log\\\")\\n\\nplt.legend()\\nplt.xlabel(feature)\\nplt.ylabel(ylabel_dict[IF_NORM])\";\n",
       "                var nbb_cells = Jupyter.notebook.get_cells();\n",
       "                for (var i = 0; i < nbb_cells.length; ++i) {\n",
       "                    if (nbb_cells[i].input_prompt_number == nbb_cell_id) {\n",
       "                        if (nbb_cells[i].get_text() == nbb_unformatted_code) {\n",
       "                             nbb_cells[i].set_text(nbb_formatted_code);\n",
       "                        }\n",
       "                        break;\n",
       "                    }\n",
       "                }\n",
       "            }, 500);\n",
       "            "
      ],
      "text/plain": [
       "<IPython.core.display.Javascript object>"
      ]
     },
     "metadata": {},
     "output_type": "display_data"
    }
   ],
   "source": [
    "feature = \"fwdIATMean\"\n",
    "\n",
    "df_benign = pd_malicious_orig\n",
    "df_malicious = pd_malicious\n",
    "\n",
    "\n",
    "MIN1, MAX1 = (\n",
    "    df_benign[feature].min(),\n",
    "    df_benign[feature].max(),\n",
    ")\n",
    "\n",
    "\n",
    "MIN2, MAX2 = (\n",
    "    df_malicious[feature].min(),\n",
    "    df_malicious[feature].max(),\n",
    ")\n",
    "\n",
    "\n",
    "NUM_BINS = 50\n",
    "\n",
    "IF_NORM = True\n",
    "\n",
    "ylabel_dict = {True: \"Density\", False: \"Frequency\"}\n",
    "\n",
    "plt.hist(\n",
    "    x=df_benign[feature].values,\n",
    "    # bins=10 ** np.linspace(np.log10(MIN1), np.log10(MAX1), NUM_BINS),\n",
    "    bins=np.linspace(MIN1, MAX1, NUM_BINS),\n",
    "    density=IF_NORM,\n",
    "    label=\"Malicious original\", zorder=2\n",
    ")\n",
    "\n",
    "plt.hist(\n",
    "    x=df_malicious[feature].values,\n",
    "    # bins=10 ** np.linspace(np.log10(MIN1), np.log10(MAX1), NUM_BINS),\n",
    "    bins=np.linspace(MIN2, MAX2, NUM_BINS),\n",
    "    density=IF_NORM,\n",
    "    label=\"Malicious\", zorder=3\n",
    ")\n",
    "\n",
    "\n",
    "# plt.gca().set_xscale(\"log\")\n",
    "plt.gca().set_yscale(\"log\")\n",
    "\n",
    "plt.legend()\n",
    "plt.xlabel(feature)\n",
    "plt.ylabel(ylabel_dict[IF_NORM])\n"
   ]
  },
  {
   "cell_type": "code",
   "execution_count": null,
   "metadata": {},
   "outputs": [],
   "source": []
  },
  {
   "cell_type": "code",
   "execution_count": null,
   "metadata": {},
   "outputs": [],
   "source": []
  },
  {
   "cell_type": "code",
   "execution_count": null,
   "metadata": {},
   "outputs": [],
   "source": []
  },
  {
   "cell_type": "code",
   "execution_count": 19,
   "metadata": {},
   "outputs": [
    {
     "data": {
      "text/plain": [
       "Text(0, 0.5, 'Density')"
      ]
     },
     "execution_count": 19,
     "metadata": {},
     "output_type": "execute_result"
    },
    {
     "data": {
      "image/png": "[encoded data removed]",
      "text/plain": [
       "<Figure size 432x288 with 1 Axes>"
      ]
     },
     "metadata": {
      "needs_background": "light"
     },
     "output_type": "display_data"
    },
    {
     "data": {
      "application/javascript": [
       "\n",
       "            setTimeout(function() {\n",
       "                var nbb_cell_id = 19;\n",
       "                var nbb_unformatted_code = \"feature = \\\"bwdPacketSizeMean\\\"\\n\\ndf_benign = pd_benign\\ndf_malicious = pd_malicious\\n\\n\\nMIN1, MAX1 = (\\n    df_benign[feature].min(),\\n    df_benign[feature].max(),\\n)\\n\\n\\nMIN2, MAX2 = (\\n    df_malicious[feature].min(),\\n    df_malicious[feature].max(),\\n)\\n\\n\\nNUM_BINS = 50\\n\\nIF_NORM = True\\n\\nylabel_dict = {True: \\\"Density\\\", False: \\\"Frequency\\\"}\\n\\nplt.hist(\\n    x=df_benign[feature].values,\\n    # bins=10 ** np.linspace(np.log10(MIN1), np.log10(MAX1), NUM_BINS),\\n    bins=np.linspace(MIN1, MAX1, NUM_BINS),\\n    density=IF_NORM,\\n    label=\\\"Benign\\\"\\n)\\n\\nplt.hist(\\n    x=df_malicious[feature].values,\\n    # bins=10 ** np.linspace(np.log10(MIN1), np.log10(MAX1), NUM_BINS),\\n    bins=np.linspace(MIN2, MAX2, NUM_BINS),\\n    density=IF_NORM,\\n    label=\\\"Malicious\\\"\\n)\\n\\n\\n# plt.gca().set_xscale(\\\"log\\\")\\nplt.gca().set_yscale(\\\"log\\\")\\n\\nplt.legend()\\nplt.xlabel(feature)\\nplt.ylabel(ylabel_dict[IF_NORM])\";\n",
       "                var nbb_formatted_code = \"feature = \\\"bwdPacketSizeMean\\\"\\n\\ndf_benign = pd_benign\\ndf_malicious = pd_malicious\\n\\n\\nMIN1, MAX1 = (\\n    df_benign[feature].min(),\\n    df_benign[feature].max(),\\n)\\n\\n\\nMIN2, MAX2 = (\\n    df_malicious[feature].min(),\\n    df_malicious[feature].max(),\\n)\\n\\n\\nNUM_BINS = 50\\n\\nIF_NORM = True\\n\\nylabel_dict = {True: \\\"Density\\\", False: \\\"Frequency\\\"}\\n\\nplt.hist(\\n    x=df_benign[feature].values,\\n    # bins=10 ** np.linspace(np.log10(MIN1), np.log10(MAX1), NUM_BINS),\\n    bins=np.linspace(MIN1, MAX1, NUM_BINS),\\n    density=IF_NORM,\\n    label=\\\"Benign\\\",\\n)\\n\\nplt.hist(\\n    x=df_malicious[feature].values,\\n    # bins=10 ** np.linspace(np.log10(MIN1), np.log10(MAX1), NUM_BINS),\\n    bins=np.linspace(MIN2, MAX2, NUM_BINS),\\n    density=IF_NORM,\\n    label=\\\"Malicious\\\",\\n)\\n\\n\\n# plt.gca().set_xscale(\\\"log\\\")\\nplt.gca().set_yscale(\\\"log\\\")\\n\\nplt.legend()\\nplt.xlabel(feature)\\nplt.ylabel(ylabel_dict[IF_NORM])\";\n",
       "                var nbb_cells = Jupyter.notebook.get_cells();\n",
       "                for (var i = 0; i < nbb_cells.length; ++i) {\n",
       "                    if (nbb_cells[i].input_prompt_number == nbb_cell_id) {\n",
       "                        if (nbb_cells[i].get_text() == nbb_unformatted_code) {\n",
       "                             nbb_cells[i].set_text(nbb_formatted_code);\n",
       "                        }\n",
       "                        break;\n",
       "                    }\n",
       "                }\n",
       "            }, 500);\n",
       "            "
      ],
      "text/plain": [
       "<IPython.core.display.Javascript object>"
      ]
     },
     "metadata": {},
     "output_type": "display_data"
    }
   ],
   "source": [
    "feature = \"bwdPacketSizeMean\"\n",
    "\n",
    "df_benign = pd_benign\n",
    "df_malicious = pd_malicious\n",
    "\n",
    "\n",
    "MIN1, MAX1 = (\n",
    "    df_benign[feature].min(),\n",
    "    df_benign[feature].max(),\n",
    ")\n",
    "\n",
    "\n",
    "MIN2, MAX2 = (\n",
    "    df_malicious[feature].min(),\n",
    "    df_malicious[feature].max(),\n",
    ")\n",
    "\n",
    "\n",
    "NUM_BINS = 50\n",
    "\n",
    "IF_NORM = True\n",
    "\n",
    "ylabel_dict = {True: \"Density\", False: \"Frequency\"}\n",
    "\n",
    "plt.hist(\n",
    "    x=df_benign[feature].values,\n",
    "    # bins=10 ** np.linspace(np.log10(MIN1), np.log10(MAX1), NUM_BINS),\n",
    "    bins=np.linspace(MIN1, MAX1, NUM_BINS),\n",
    "    density=IF_NORM,\n",
    "    label=\"Benign\"\n",
    ")\n",
    "\n",
    "plt.hist(\n",
    "    x=df_malicious[feature].values,\n",
    "    # bins=10 ** np.linspace(np.log10(MIN1), np.log10(MAX1), NUM_BINS),\n",
    "    bins=np.linspace(MIN2, MAX2, NUM_BINS),\n",
    "    density=IF_NORM,\n",
    "    label=\"Malicious\"\n",
    ")\n",
    "\n",
    "\n",
    "# plt.gca().set_xscale(\"log\")\n",
    "plt.gca().set_yscale(\"log\")\n",
    "\n",
    "plt.legend()\n",
    "plt.xlabel(feature)\n",
    "plt.ylabel(ylabel_dict[IF_NORM])\n"
   ]
  },
  {
   "cell_type": "code",
   "execution_count": 20,
   "metadata": {},
   "outputs": [
    {
     "data": {
      "text/plain": [
       "Text(0, 0.5, 'Density')"
      ]
     },
     "execution_count": 20,
     "metadata": {},
     "output_type": "execute_result"
    },
    {
     "data": {
      "image/png": "[encoded data removed]",
      "text/plain": [
       "<Figure size 432x288 with 1 Axes>"
      ]
     },
     "metadata": {
      "needs_background": "light"
     },
     "output_type": "display_data"
    },
    {
     "data": {
      "application/javascript": [
       "\n",
       "            setTimeout(function() {\n",
       "                var nbb_cell_id = 20;\n",
       "                var nbb_unformatted_code = \"feature = \\\"bwdPacketSizeMean\\\"\\n\\ndf_benign = pd_malicious_orig\\ndf_malicious = pd_malicious\\n\\n\\nMIN1, MAX1 = (\\n    df_benign[feature].min(),\\n    df_benign[feature].max(),\\n)\\n\\n\\nMIN2, MAX2 = (\\n    df_malicious[feature].min(),\\n    df_malicious[feature].max(),\\n)\\n\\n\\nNUM_BINS = 50\\n\\nIF_NORM = True\\n\\nylabel_dict = {True: \\\"Density\\\", False: \\\"Frequency\\\"}\\n\\nplt.hist(\\n    x=df_benign[feature].values,\\n    # bins=10 ** np.linspace(np.log10(MIN1), np.log10(MAX1), NUM_BINS),\\n    bins=np.linspace(MIN1, MAX1, NUM_BINS),\\n    density=IF_NORM,\\n    label=\\\"Malicious original\\\"\\n)\\n\\nplt.hist(\\n    x=df_malicious[feature].values,\\n    # bins=10 ** np.linspace(np.log10(MIN1), np.log10(MAX1), NUM_BINS),\\n    bins=np.linspace(MIN2, MAX2, NUM_BINS),\\n    density=IF_NORM,\\n    label=\\\"Malicious\\\"\\n)\\n\\n\\n# plt.gca().set_xscale(\\\"log\\\")\\nplt.gca().set_yscale(\\\"log\\\")\\n\\nplt.legend()\\nplt.xlabel(feature)\\nplt.ylabel(ylabel_dict[IF_NORM])\";\n",
       "                var nbb_formatted_code = \"feature = \\\"bwdPacketSizeMean\\\"\\n\\ndf_benign = pd_malicious_orig\\ndf_malicious = pd_malicious\\n\\n\\nMIN1, MAX1 = (\\n    df_benign[feature].min(),\\n    df_benign[feature].max(),\\n)\\n\\n\\nMIN2, MAX2 = (\\n    df_malicious[feature].min(),\\n    df_malicious[feature].max(),\\n)\\n\\n\\nNUM_BINS = 50\\n\\nIF_NORM = True\\n\\nylabel_dict = {True: \\\"Density\\\", False: \\\"Frequency\\\"}\\n\\nplt.hist(\\n    x=df_benign[feature].values,\\n    # bins=10 ** np.linspace(np.log10(MIN1), np.log10(MAX1), NUM_BINS),\\n    bins=np.linspace(MIN1, MAX1, NUM_BINS),\\n    density=IF_NORM,\\n    label=\\\"Malicious original\\\",\\n)\\n\\nplt.hist(\\n    x=df_malicious[feature].values,\\n    # bins=10 ** np.linspace(np.log10(MIN1), np.log10(MAX1), NUM_BINS),\\n    bins=np.linspace(MIN2, MAX2, NUM_BINS),\\n    density=IF_NORM,\\n    label=\\\"Malicious\\\",\\n)\\n\\n\\n# plt.gca().set_xscale(\\\"log\\\")\\nplt.gca().set_yscale(\\\"log\\\")\\n\\nplt.legend()\\nplt.xlabel(feature)\\nplt.ylabel(ylabel_dict[IF_NORM])\";\n",
       "                var nbb_cells = Jupyter.notebook.get_cells();\n",
       "                for (var i = 0; i < nbb_cells.length; ++i) {\n",
       "                    if (nbb_cells[i].input_prompt_number == nbb_cell_id) {\n",
       "                        if (nbb_cells[i].get_text() == nbb_unformatted_code) {\n",
       "                             nbb_cells[i].set_text(nbb_formatted_code);\n",
       "                        }\n",
       "                        break;\n",
       "                    }\n",
       "                }\n",
       "            }, 500);\n",
       "            "
      ],
      "text/plain": [
       "<IPython.core.display.Javascript object>"
      ]
     },
     "metadata": {},
     "output_type": "display_data"
    }
   ],
   "source": [
    "feature = \"bwdPacketSizeMean\"\n",
    "\n",
    "df_benign = pd_malicious_orig\n",
    "df_malicious = pd_malicious\n",
    "\n",
    "\n",
    "MIN1, MAX1 = (\n",
    "    df_benign[feature].min(),\n",
    "    df_benign[feature].max(),\n",
    ")\n",
    "\n",
    "\n",
    "MIN2, MAX2 = (\n",
    "    df_malicious[feature].min(),\n",
    "    df_malicious[feature].max(),\n",
    ")\n",
    "\n",
    "\n",
    "NUM_BINS = 50\n",
    "\n",
    "IF_NORM = True\n",
    "\n",
    "ylabel_dict = {True: \"Density\", False: \"Frequency\"}\n",
    "\n",
    "plt.hist(\n",
    "    x=df_benign[feature].values,\n",
    "    # bins=10 ** np.linspace(np.log10(MIN1), np.log10(MAX1), NUM_BINS),\n",
    "    bins=np.linspace(MIN1, MAX1, NUM_BINS),\n",
    "    density=IF_NORM,\n",
    "    label=\"Malicious original\"\n",
    ")\n",
    "\n",
    "plt.hist(\n",
    "    x=df_malicious[feature].values,\n",
    "    # bins=10 ** np.linspace(np.log10(MIN1), np.log10(MAX1), NUM_BINS),\n",
    "    bins=np.linspace(MIN2, MAX2, NUM_BINS),\n",
    "    density=IF_NORM,\n",
    "    label=\"Malicious\"\n",
    ")\n",
    "\n",
    "\n",
    "# plt.gca().set_xscale(\"log\")\n",
    "plt.gca().set_yscale(\"log\")\n",
    "\n",
    "plt.legend()\n",
    "plt.xlabel(feature)\n",
    "plt.ylabel(ylabel_dict[IF_NORM])\n"
   ]
  },
  {
   "cell_type": "code",
   "execution_count": null,
   "metadata": {},
   "outputs": [],
   "source": []
  },
  {
   "cell_type": "code",
   "execution_count": null,
   "metadata": {},
   "outputs": [],
   "source": []
  },
  {
   "cell_type": "code",
   "execution_count": 21,
   "metadata": {
    "scrolled": true
   },
   "outputs": [
    {
     "data": {
      "text/plain": [
       "Text(0, 0.5, 'Density')"
      ]
     },
     "execution_count": 21,
     "metadata": {},
     "output_type": "execute_result"
    },
    {
     "data": {
      "image/png": "[encoded data removed]",
      "text/plain": [
       "<Figure size 432x288 with 1 Axes>"
      ]
     },
     "metadata": {
      "needs_background": "light"
     },
     "output_type": "display_data"
    },
    {
     "data": {
      "application/javascript": [
       "\n",
       "            setTimeout(function() {\n",
       "                var nbb_cell_id = 21;\n",
       "                var nbb_unformatted_code = \"feature = \\\"fwdPacketSizeMax\\\"\\n\\ndf_benign = pd_benign\\ndf_malicious = pd_malicious\\n\\n\\nMIN1, MAX1 = (\\n    df_benign[feature].min(),\\n    df_benign[feature].max(),\\n)\\n\\n\\nMIN2, MAX2 = (\\n    df_malicious[feature].min(),\\n    df_malicious[feature].max(),\\n)\\n\\n\\nNUM_BINS = 50\\n\\nIF_NORM = True\\n\\nylabel_dict = {True: \\\"Density\\\", False: \\\"Frequency\\\"}\\n\\nplt.hist(\\n    x=df_benign[feature].values,\\n    # bins=10 ** np.linspace(np.log10(MIN1), np.log10(MAX1), NUM_BINS),\\n    bins=np.linspace(MIN1, MAX1, NUM_BINS),\\n    density=IF_NORM,\\n    label=\\\"Benign\\\"\\n)\\n\\nplt.hist(\\n    x=df_malicious[feature].values,\\n    # bins=10 ** np.linspace(np.log10(MIN1), np.log10(MAX1), NUM_BINS),\\n    bins=np.linspace(MIN2, MAX2, NUM_BINS),\\n    density=IF_NORM,\\n    label=\\\"Malicious\\\"\\n)\\n\\n\\n# plt.gca().set_xscale(\\\"log\\\")\\nplt.gca().set_yscale(\\\"log\\\")\\n\\nplt.legend()\\nplt.xlabel(feature)\\nplt.ylabel(ylabel_dict[IF_NORM])\";\n",
       "                var nbb_formatted_code = \"feature = \\\"fwdPacketSizeMax\\\"\\n\\ndf_benign = pd_benign\\ndf_malicious = pd_malicious\\n\\n\\nMIN1, MAX1 = (\\n    df_benign[feature].min(),\\n    df_benign[feature].max(),\\n)\\n\\n\\nMIN2, MAX2 = (\\n    df_malicious[feature].min(),\\n    df_malicious[feature].max(),\\n)\\n\\n\\nNUM_BINS = 50\\n\\nIF_NORM = True\\n\\nylabel_dict = {True: \\\"Density\\\", False: \\\"Frequency\\\"}\\n\\nplt.hist(\\n    x=df_benign[feature].values,\\n    # bins=10 ** np.linspace(np.log10(MIN1), np.log10(MAX1), NUM_BINS),\\n    bins=np.linspace(MIN1, MAX1, NUM_BINS),\\n    density=IF_NORM,\\n    label=\\\"Benign\\\",\\n)\\n\\nplt.hist(\\n    x=df_malicious[feature].values,\\n    # bins=10 ** np.linspace(np.log10(MIN1), np.log10(MAX1), NUM_BINS),\\n    bins=np.linspace(MIN2, MAX2, NUM_BINS),\\n    density=IF_NORM,\\n    label=\\\"Malicious\\\",\\n)\\n\\n\\n# plt.gca().set_xscale(\\\"log\\\")\\nplt.gca().set_yscale(\\\"log\\\")\\n\\nplt.legend()\\nplt.xlabel(feature)\\nplt.ylabel(ylabel_dict[IF_NORM])\";\n",
       "                var nbb_cells = Jupyter.notebook.get_cells();\n",
       "                for (var i = 0; i < nbb_cells.length; ++i) {\n",
       "                    if (nbb_cells[i].input_prompt_number == nbb_cell_id) {\n",
       "                        if (nbb_cells[i].get_text() == nbb_unformatted_code) {\n",
       "                             nbb_cells[i].set_text(nbb_formatted_code);\n",
       "                        }\n",
       "                        break;\n",
       "                    }\n",
       "                }\n",
       "            }, 500);\n",
       "            "
      ],
      "text/plain": [
       "<IPython.core.display.Javascript object>"
      ]
     },
     "metadata": {},
     "output_type": "display_data"
    }
   ],
   "source": [
    "feature = \"fwdPacketSizeMax\"\n",
    "\n",
    "df_benign = pd_benign\n",
    "df_malicious = pd_malicious\n",
    "\n",
    "\n",
    "MIN1, MAX1 = (\n",
    "    df_benign[feature].min(),\n",
    "    df_benign[feature].max(),\n",
    ")\n",
    "\n",
    "\n",
    "MIN2, MAX2 = (\n",
    "    df_malicious[feature].min(),\n",
    "    df_malicious[feature].max(),\n",
    ")\n",
    "\n",
    "\n",
    "NUM_BINS = 50\n",
    "\n",
    "IF_NORM = True\n",
    "\n",
    "ylabel_dict = {True: \"Density\", False: \"Frequency\"}\n",
    "\n",
    "plt.hist(\n",
    "    x=df_benign[feature].values,\n",
    "    # bins=10 ** np.linspace(np.log10(MIN1), np.log10(MAX1), NUM_BINS),\n",
    "    bins=np.linspace(MIN1, MAX1, NUM_BINS),\n",
    "    density=IF_NORM,\n",
    "    label=\"Benign\"\n",
    ")\n",
    "\n",
    "plt.hist(\n",
    "    x=df_malicious[feature].values,\n",
    "    # bins=10 ** np.linspace(np.log10(MIN1), np.log10(MAX1), NUM_BINS),\n",
    "    bins=np.linspace(MIN2, MAX2, NUM_BINS),\n",
    "    density=IF_NORM,\n",
    "    label=\"Malicious\"\n",
    ")\n",
    "\n",
    "\n",
    "# plt.gca().set_xscale(\"log\")\n",
    "plt.gca().set_yscale(\"log\")\n",
    "\n",
    "plt.legend()\n",
    "plt.xlabel(feature)\n",
    "plt.ylabel(ylabel_dict[IF_NORM])\n"
   ]
  },
  {
   "cell_type": "code",
   "execution_count": 23,
   "metadata": {},
   "outputs": [
    {
     "data": {
      "text/plain": [
       "Text(0, 0.5, 'Density')"
      ]
     },
     "execution_count": 23,
     "metadata": {},
     "output_type": "execute_result"
    },
    {
     "data": {
      "image/png": "[encoded data removed]",
      "text/plain": [
       "<Figure size 432x288 with 1 Axes>"
      ]
     },
     "metadata": {
      "needs_background": "light"
     },
     "output_type": "display_data"
    },
    {
     "data": {
      "application/javascript": [
       "\n",
       "            setTimeout(function() {\n",
       "                var nbb_cell_id = 23;\n",
       "                var nbb_unformatted_code = \"feature = \\\"fwdPacketSizeMax\\\"\\n\\ndf_benign = pd_malicious_orig\\ndf_malicious = pd_malicious\\n\\n\\nMIN1, MAX1 = (\\n    df_benign[feature].min(),\\n    df_benign[feature].max(),\\n)\\n\\n\\nMIN2, MAX2 = (\\n    df_malicious[feature].min(),\\n    df_malicious[feature].max(),\\n)\\n\\n\\nNUM_BINS = 50\\n\\nIF_NORM = True\\n\\nylabel_dict = {True: \\\"Density\\\", False: \\\"Frequency\\\"}\\n\\nplt.hist(\\n    x=df_benign[feature].values,\\n    # bins=10 ** np.linspace(np.log10(MIN1), np.log10(MAX1), NUM_BINS),\\n    bins=np.linspace(MIN1, MAX1, NUM_BINS),\\n    density=IF_NORM,\\n    label=\\\"Malicious Original\\\"\\n)\\n\\nplt.hist(\\n    x=df_malicious[feature].values,\\n    # bins=10 ** np.linspace(np.log10(MIN1), np.log10(MAX1), NUM_BINS),\\n    bins=np.linspace(MIN2, MAX2, NUM_BINS),\\n    density=IF_NORM,\\n    label=\\\"Malicious\\\"\\n)\\n\\n\\n# plt.gca().set_xscale(\\\"log\\\")\\nplt.gca().set_yscale(\\\"log\\\")\\n\\nplt.legend()\\nplt.xlabel(feature)\\nplt.ylabel(ylabel_dict[IF_NORM])\";\n",
       "                var nbb_formatted_code = \"feature = \\\"fwdPacketSizeMax\\\"\\n\\ndf_benign = pd_malicious_orig\\ndf_malicious = pd_malicious\\n\\n\\nMIN1, MAX1 = (\\n    df_benign[feature].min(),\\n    df_benign[feature].max(),\\n)\\n\\n\\nMIN2, MAX2 = (\\n    df_malicious[feature].min(),\\n    df_malicious[feature].max(),\\n)\\n\\n\\nNUM_BINS = 50\\n\\nIF_NORM = True\\n\\nylabel_dict = {True: \\\"Density\\\", False: \\\"Frequency\\\"}\\n\\nplt.hist(\\n    x=df_benign[feature].values,\\n    # bins=10 ** np.linspace(np.log10(MIN1), np.log10(MAX1), NUM_BINS),\\n    bins=np.linspace(MIN1, MAX1, NUM_BINS),\\n    density=IF_NORM,\\n    label=\\\"Malicious Original\\\",\\n)\\n\\nplt.hist(\\n    x=df_malicious[feature].values,\\n    # bins=10 ** np.linspace(np.log10(MIN1), np.log10(MAX1), NUM_BINS),\\n    bins=np.linspace(MIN2, MAX2, NUM_BINS),\\n    density=IF_NORM,\\n    label=\\\"Malicious\\\",\\n)\\n\\n\\n# plt.gca().set_xscale(\\\"log\\\")\\nplt.gca().set_yscale(\\\"log\\\")\\n\\nplt.legend()\\nplt.xlabel(feature)\\nplt.ylabel(ylabel_dict[IF_NORM])\";\n",
       "                var nbb_cells = Jupyter.notebook.get_cells();\n",
       "                for (var i = 0; i < nbb_cells.length; ++i) {\n",
       "                    if (nbb_cells[i].input_prompt_number == nbb_cell_id) {\n",
       "                        if (nbb_cells[i].get_text() == nbb_unformatted_code) {\n",
       "                             nbb_cells[i].set_text(nbb_formatted_code);\n",
       "                        }\n",
       "                        break;\n",
       "                    }\n",
       "                }\n",
       "            }, 500);\n",
       "            "
      ],
      "text/plain": [
       "<IPython.core.display.Javascript object>"
      ]
     },
     "metadata": {},
     "output_type": "display_data"
    }
   ],
   "source": [
    "Actual analysis on such flows - flows suspicious - packets pass through rule engine\n",
    "\n",
    "\n",
    "feature = \"fwdPacketSizeMax\"\n",
    "\n",
    "df_benign = pd_malicious_orig\n",
    "df_malicious = pd_malicious\n",
    "\n",
    "\n",
    "MIN1, MAX1 = (\n",
    "    df_benign[feature].min(),\n",
    "    df_benign[feature].max(),\n",
    ")\n",
    "\n",
    "\n",
    "MIN2, MAX2 = (\n",
    "    df_malicious[feature].min(),\n",
    "    df_malicious[feature].max(),\n",
    ")\n",
    "\n",
    "\n",
    "NUM_BINS = 50\n",
    "\n",
    "IF_NORM = True\n",
    "\n",
    "ylabel_dict = {True: \"Density\", False: \"Frequency\"}\n",
    "\n",
    "plt.hist(\n",
    "    x=df_benign[feature].values,\n",
    "    # bins=10 ** np.linspace(np.log10(MIN1), np.log10(MAX1), NUM_BINS),\n",
    "    bins=np.linspace(MIN1, MAX1, NUM_BINS),\n",
    "    density=IF_NORM,\n",
    "    label=\"Malicious Original\"\n",
    ")\n",
    "\n",
    "plt.hist(\n",
    "    x=df_malicious[feature].values,\n",
    "    # bins=10 ** np.linspace(np.log10(MIN1), np.log10(MAX1), NUM_BINS),\n",
    "    bins=np.linspace(MIN2, MAX2, NUM_BINS),\n",
    "    density=IF_NORM,\n",
    "    label=\"Malicious\"\n",
    ")\n",
    "\n",
    "\n",
    "# plt.gca().set_xscale(\"log\")\n",
    "plt.gca().set_yscale(\"log\")\n",
    "\n",
    "plt.legend()\n",
    "plt.xlabel(feature)\n",
    "plt.ylabel(ylabel_dict[IF_NORM])\n"
   ]
  },
  {
   "cell_type": "code",
   "execution_count": null,
   "metadata": {},
   "outputs": [],
   "source": []
  },
  {
   "cell_type": "code",
   "execution_count": null,
   "metadata": {},
   "outputs": [],
   "source": []
  },
  {
   "cell_type": "code",
   "execution_count": null,
   "metadata": {},
   "outputs": [],
   "source": []
  },
  {
   "cell_type": "code",
   "execution_count": 24,
   "metadata": {},
   "outputs": [
    {
     "data": {
      "text/plain": [
       "Text(0, 0.5, 'Density')"
      ]
     },
     "execution_count": 24,
     "metadata": {},
     "output_type": "execute_result"
    },
    {
     "data": {
      "image/png": "[encoded data removed]",
      "text/plain": [
       "<Figure size 432x288 with 1 Axes>"
      ]
     },
     "metadata": {
      "needs_background": "light"
     },
     "output_type": "display_data"
    },
    {
     "data": {
      "application/javascript": [
       "\n",
       "            setTimeout(function() {\n",
       "                var nbb_cell_id = 24;\n",
       "                var nbb_unformatted_code = \"feature = \\\"packetSizeMax\\\"\\n\\ndf_benign = pd_benign\\ndf_malicious = pd_malicious\\n\\n\\nMIN1, MAX1 = (\\n    df_benign[feature].min(),\\n    df_benign[feature].max(),\\n)\\n\\n\\nMIN2, MAX2 = (\\n    df_malicious[feature].min(),\\n    df_malicious[feature].max(),\\n)\\n\\n\\nNUM_BINS = 50\\n\\nIF_NORM = True\\n\\nylabel_dict = {True: \\\"Density\\\", False: \\\"Frequency\\\"}\\n\\nplt.hist(\\n    x=df_benign[feature].values,\\n    # bins=10 ** np.linspace(np.log10(MIN1), np.log10(MAX1), NUM_BINS),\\n    bins=np.linspace(MIN1, MAX1, NUM_BINS),\\n    density=IF_NORM,\\n    label=\\\"Benign\\\"\\n)\\n\\nplt.hist(\\n    x=df_malicious[feature].values,\\n    # bins=10 ** np.linspace(np.log10(MIN1), np.log10(MAX1), NUM_BINS),\\n    bins=np.linspace(MIN2, MAX2, NUM_BINS),\\n    density=IF_NORM,\\n    label=\\\"Malicious\\\"\\n)\\n\\n\\n# plt.gca().set_xscale(\\\"log\\\")\\nplt.gca().set_yscale(\\\"log\\\")\\n\\nplt.legend()\\nplt.xlabel(feature)\\nplt.ylabel(ylabel_dict[IF_NORM])\";\n",
       "                var nbb_formatted_code = \"feature = \\\"packetSizeMax\\\"\\n\\ndf_benign = pd_benign\\ndf_malicious = pd_malicious\\n\\n\\nMIN1, MAX1 = (\\n    df_benign[feature].min(),\\n    df_benign[feature].max(),\\n)\\n\\n\\nMIN2, MAX2 = (\\n    df_malicious[feature].min(),\\n    df_malicious[feature].max(),\\n)\\n\\n\\nNUM_BINS = 50\\n\\nIF_NORM = True\\n\\nylabel_dict = {True: \\\"Density\\\", False: \\\"Frequency\\\"}\\n\\nplt.hist(\\n    x=df_benign[feature].values,\\n    # bins=10 ** np.linspace(np.log10(MIN1), np.log10(MAX1), NUM_BINS),\\n    bins=np.linspace(MIN1, MAX1, NUM_BINS),\\n    density=IF_NORM,\\n    label=\\\"Benign\\\",\\n)\\n\\nplt.hist(\\n    x=df_malicious[feature].values,\\n    # bins=10 ** np.linspace(np.log10(MIN1), np.log10(MAX1), NUM_BINS),\\n    bins=np.linspace(MIN2, MAX2, NUM_BINS),\\n    density=IF_NORM,\\n    label=\\\"Malicious\\\",\\n)\\n\\n\\n# plt.gca().set_xscale(\\\"log\\\")\\nplt.gca().set_yscale(\\\"log\\\")\\n\\nplt.legend()\\nplt.xlabel(feature)\\nplt.ylabel(ylabel_dict[IF_NORM])\";\n",
       "                var nbb_cells = Jupyter.notebook.get_cells();\n",
       "                for (var i = 0; i < nbb_cells.length; ++i) {\n",
       "                    if (nbb_cells[i].input_prompt_number == nbb_cell_id) {\n",
       "                        if (nbb_cells[i].get_text() == nbb_unformatted_code) {\n",
       "                             nbb_cells[i].set_text(nbb_formatted_code);\n",
       "                        }\n",
       "                        break;\n",
       "                    }\n",
       "                }\n",
       "            }, 500);\n",
       "            "
      ],
      "text/plain": [
       "<IPython.core.display.Javascript object>"
      ]
     },
     "metadata": {},
     "output_type": "display_data"
    }
   ],
   "source": [
    "feature = \"packetSizeMax\"\n",
    "\n",
    "df_benign = pd_benign\n",
    "df_malicious = pd_malicious\n",
    "\n",
    "\n",
    "MIN1, MAX1 = (\n",
    "    df_benign[feature].min(),\n",
    "    df_benign[feature].max(),\n",
    ")\n",
    "\n",
    "\n",
    "MIN2, MAX2 = (\n",
    "    df_malicious[feature].min(),\n",
    "    df_malicious[feature].max(),\n",
    ")\n",
    "\n",
    "\n",
    "NUM_BINS = 50\n",
    "\n",
    "IF_NORM = True\n",
    "\n",
    "ylabel_dict = {True: \"Density\", False: \"Frequency\"}\n",
    "\n",
    "plt.hist(\n",
    "    x=df_benign[feature].values,\n",
    "    # bins=10 ** np.linspace(np.log10(MIN1), np.log10(MAX1), NUM_BINS),\n",
    "    bins=np.linspace(MIN1, MAX1, NUM_BINS),\n",
    "    density=IF_NORM,\n",
    "    label=\"Benign\"\n",
    ")\n",
    "\n",
    "plt.hist(\n",
    "    x=df_malicious[feature].values,\n",
    "    # bins=10 ** np.linspace(np.log10(MIN1), np.log10(MAX1), NUM_BINS),\n",
    "    bins=np.linspace(MIN2, MAX2, NUM_BINS),\n",
    "    density=IF_NORM,\n",
    "    label=\"Malicious\"\n",
    ")\n",
    "\n",
    "\n",
    "# plt.gca().set_xscale(\"log\")\n",
    "plt.gca().set_yscale(\"log\")\n",
    "\n",
    "plt.legend()\n",
    "plt.xlabel(feature)\n",
    "plt.ylabel(ylabel_dict[IF_NORM])\n"
   ]
  },
  {
   "cell_type": "code",
   "execution_count": 25,
   "metadata": {},
   "outputs": [
    {
     "data": {
      "text/plain": [
       "Text(0, 0.5, 'Density')"
      ]
     },
     "execution_count": 25,
     "metadata": {},
     "output_type": "execute_result"
    },
    {
     "data": {
      "image/png": "[encoded data removed]",
      "text/plain": [
       "<Figure size 432x288 with 1 Axes>"
      ]
     },
     "metadata": {
      "needs_background": "light"
     },
     "output_type": "display_data"
    },
    {
     "data": {
      "application/javascript": [
       "\n",
       "            setTimeout(function() {\n",
       "                var nbb_cell_id = 25;\n",
       "                var nbb_unformatted_code = \"feature = \\\"packetSizeMax\\\"\\n\\ndf_benign = pd_malicious_orig\\ndf_malicious = pd_malicious\\n\\n\\nMIN1, MAX1 = (\\n    df_benign[feature].min(),\\n    df_benign[feature].max(),\\n)\\n\\n\\nMIN2, MAX2 = (\\n    df_malicious[feature].min(),\\n    df_malicious[feature].max(),\\n)\\n\\n\\nNUM_BINS = 50\\n\\nIF_NORM = True\\n\\nylabel_dict = {True: \\\"Density\\\", False: \\\"Frequency\\\"}\\n\\nplt.hist(\\n    x=df_benign[feature].values,\\n    # bins=10 ** np.linspace(np.log10(MIN1), np.log10(MAX1), NUM_BINS),\\n    bins=np.linspace(MIN1, MAX1, NUM_BINS),\\n    density=IF_NORM,\\n    label=\\\"Malicious original\\\"\\n)\\n\\nplt.hist(\\n    x=df_malicious[feature].values,\\n    # bins=10 ** np.linspace(np.log10(MIN1), np.log10(MAX1), NUM_BINS),\\n    bins=np.linspace(MIN2, MAX2, NUM_BINS),\\n    density=IF_NORM,\\n    label=\\\"Malicious\\\"\\n)\\n\\n\\n# plt.gca().set_xscale(\\\"log\\\")\\nplt.gca().set_yscale(\\\"log\\\")\\n\\nplt.legend()\\nplt.xlabel(feature)\\nplt.ylabel(ylabel_dict[IF_NORM])\";\n",
       "                var nbb_formatted_code = \"feature = \\\"packetSizeMax\\\"\\n\\ndf_benign = pd_malicious_orig\\ndf_malicious = pd_malicious\\n\\n\\nMIN1, MAX1 = (\\n    df_benign[feature].min(),\\n    df_benign[feature].max(),\\n)\\n\\n\\nMIN2, MAX2 = (\\n    df_malicious[feature].min(),\\n    df_malicious[feature].max(),\\n)\\n\\n\\nNUM_BINS = 50\\n\\nIF_NORM = True\\n\\nylabel_dict = {True: \\\"Density\\\", False: \\\"Frequency\\\"}\\n\\nplt.hist(\\n    x=df_benign[feature].values,\\n    # bins=10 ** np.linspace(np.log10(MIN1), np.log10(MAX1), NUM_BINS),\\n    bins=np.linspace(MIN1, MAX1, NUM_BINS),\\n    density=IF_NORM,\\n    label=\\\"Malicious original\\\",\\n)\\n\\nplt.hist(\\n    x=df_malicious[feature].values,\\n    # bins=10 ** np.linspace(np.log10(MIN1), np.log10(MAX1), NUM_BINS),\\n    bins=np.linspace(MIN2, MAX2, NUM_BINS),\\n    density=IF_NORM,\\n    label=\\\"Malicious\\\",\\n)\\n\\n\\n# plt.gca().set_xscale(\\\"log\\\")\\nplt.gca().set_yscale(\\\"log\\\")\\n\\nplt.legend()\\nplt.xlabel(feature)\\nplt.ylabel(ylabel_dict[IF_NORM])\";\n",
       "                var nbb_cells = Jupyter.notebook.get_cells();\n",
       "                for (var i = 0; i < nbb_cells.length; ++i) {\n",
       "                    if (nbb_cells[i].input_prompt_number == nbb_cell_id) {\n",
       "                        if (nbb_cells[i].get_text() == nbb_unformatted_code) {\n",
       "                             nbb_cells[i].set_text(nbb_formatted_code);\n",
       "                        }\n",
       "                        break;\n",
       "                    }\n",
       "                }\n",
       "            }, 500);\n",
       "            "
      ],
      "text/plain": [
       "<IPython.core.display.Javascript object>"
      ]
     },
     "metadata": {},
     "output_type": "display_data"
    }
   ],
   "source": [
    "feature = \"packetSizeMax\"\n",
    "\n",
    "df_benign = pd_malicious_orig\n",
    "df_malicious = pd_malicious\n",
    "\n",
    "\n",
    "MIN1, MAX1 = (\n",
    "    df_benign[feature].min(),\n",
    "    df_benign[feature].max(),\n",
    ")\n",
    "\n",
    "\n",
    "MIN2, MAX2 = (\n",
    "    df_malicious[feature].min(),\n",
    "    df_malicious[feature].max(),\n",
    ")\n",
    "\n",
    "\n",
    "NUM_BINS = 50\n",
    "\n",
    "IF_NORM = True\n",
    "\n",
    "ylabel_dict = {True: \"Density\", False: \"Frequency\"}\n",
    "\n",
    "plt.hist(\n",
    "    x=df_benign[feature].values,\n",
    "    # bins=10 ** np.linspace(np.log10(MIN1), np.log10(MAX1), NUM_BINS),\n",
    "    bins=np.linspace(MIN1, MAX1, NUM_BINS),\n",
    "    density=IF_NORM,\n",
    "    label=\"Malicious original\"\n",
    ")\n",
    "\n",
    "plt.hist(\n",
    "    x=df_malicious[feature].values,\n",
    "    # bins=10 ** np.linspace(np.log10(MIN1), np.log10(MAX1), NUM_BINS),\n",
    "    bins=np.linspace(MIN2, MAX2, NUM_BINS),\n",
    "    density=IF_NORM,\n",
    "    label=\"Malicious\"\n",
    ")\n",
    "\n",
    "\n",
    "# plt.gca().set_xscale(\"log\")\n",
    "plt.gca().set_yscale(\"log\")\n",
    "\n",
    "plt.legend()\n",
    "plt.xlabel(feature)\n",
    "plt.ylabel(ylabel_dict[IF_NORM])\n"
   ]
  },
  {
   "cell_type": "code",
   "execution_count": null,
   "metadata": {},
   "outputs": [],
   "source": []
  },
  {
   "cell_type": "code",
   "execution_count": null,
   "metadata": {},
   "outputs": [],
   "source": []
  },
  {
   "cell_type": "code",
   "execution_count": null,
   "metadata": {},
   "outputs": [],
   "source": []
  },
  {
   "cell_type": "code",
   "execution_count": null,
   "metadata": {},
   "outputs": [],
   "source": []
  },
  {
   "cell_type": "code",
   "execution_count": 19,
   "metadata": {},
   "outputs": [
    {
     "data": {
      "text/plain": [
       "Text(0, 0.5, 'Density')"
      ]
     },
     "execution_count": 19,
     "metadata": {},
     "output_type": "execute_result"
    },
    {
     "data": {
      "image/png": "[encoded data removed]",
      "text/plain": [
       "<Figure size 432x288 with 1 Axes>"
      ]
     },
     "metadata": {
      "needs_background": "light"
     },
     "output_type": "display_data"
    },
    {
     "data": {
      "application/javascript": [
       "\n",
       "            setTimeout(function() {\n",
       "                var nbb_cell_id = 19;\n",
       "                var nbb_unformatted_code = \"feature = \\\"fwdIATMax\\\"\\n\\ndf_benign = pd_benign\\ndf_malicious = pd_malicious\\n\\n\\nMIN1, MAX1 = (\\n    df_benign[feature].min(),\\n    df_benign[feature].max(),\\n)\\n\\n\\nMIN2, MAX2 = (\\n    df_malicious[feature].min(),\\n    df_malicious[feature].max(),\\n)\\n\\n\\nNUM_BINS = 50\\n\\nIF_NORM = True\\n\\nylabel_dict = {True: \\\"Density\\\", False: \\\"Frequency\\\"}\\n\\nplt.hist(\\n    x=df_benign[feature].values,\\n    # bins=10 ** np.linspace(np.log10(MIN1), np.log10(MAX1), NUM_BINS),\\n    bins=np.linspace(MIN1, MAX1, NUM_BINS),\\n    density=IF_NORM,\\n    label=\\\"Benign\\\",\\n    zorder=2\\n)\\n\\nplt.hist(\\n    x=df_malicious[feature].values,\\n    # bins=10 ** np.linspace(np.log10(MIN1), np.log10(MAX1), NUM_BINS),\\n    bins=np.linspace(MIN2, MAX2, NUM_BINS),\\n    density=IF_NORM,\\n    label=\\\"Malicious\\\", zorder=1\\n)\\n\\n\\n# plt.gca().set_xscale(\\\"log\\\")\\nplt.gca().set_yscale(\\\"log\\\")\\n\\nplt.legend()\\nplt.xlabel(feature)\\nplt.ylabel(ylabel_dict[IF_NORM])\";\n",
       "                var nbb_formatted_code = \"feature = \\\"fwdIATMax\\\"\\n\\ndf_benign = pd_benign\\ndf_malicious = pd_malicious\\n\\n\\nMIN1, MAX1 = (\\n    df_benign[feature].min(),\\n    df_benign[feature].max(),\\n)\\n\\n\\nMIN2, MAX2 = (\\n    df_malicious[feature].min(),\\n    df_malicious[feature].max(),\\n)\\n\\n\\nNUM_BINS = 50\\n\\nIF_NORM = True\\n\\nylabel_dict = {True: \\\"Density\\\", False: \\\"Frequency\\\"}\\n\\nplt.hist(\\n    x=df_benign[feature].values,\\n    # bins=10 ** np.linspace(np.log10(MIN1), np.log10(MAX1), NUM_BINS),\\n    bins=np.linspace(MIN1, MAX1, NUM_BINS),\\n    density=IF_NORM,\\n    label=\\\"Benign\\\",\\n    zorder=2,\\n)\\n\\nplt.hist(\\n    x=df_malicious[feature].values,\\n    # bins=10 ** np.linspace(np.log10(MIN1), np.log10(MAX1), NUM_BINS),\\n    bins=np.linspace(MIN2, MAX2, NUM_BINS),\\n    density=IF_NORM,\\n    label=\\\"Malicious\\\",\\n    zorder=1,\\n)\\n\\n\\n# plt.gca().set_xscale(\\\"log\\\")\\nplt.gca().set_yscale(\\\"log\\\")\\n\\nplt.legend()\\nplt.xlabel(feature)\\nplt.ylabel(ylabel_dict[IF_NORM])\";\n",
       "                var nbb_cells = Jupyter.notebook.get_cells();\n",
       "                for (var i = 0; i < nbb_cells.length; ++i) {\n",
       "                    if (nbb_cells[i].input_prompt_number == nbb_cell_id) {\n",
       "                        if (nbb_cells[i].get_text() == nbb_unformatted_code) {\n",
       "                             nbb_cells[i].set_text(nbb_formatted_code);\n",
       "                        }\n",
       "                        break;\n",
       "                    }\n",
       "                }\n",
       "            }, 500);\n",
       "            "
      ],
      "text/plain": [
       "<IPython.core.display.Javascript object>"
      ]
     },
     "metadata": {},
     "output_type": "display_data"
    }
   ],
   "source": [
    "feature = \"fwdIATMax\"\n",
    "\n",
    "df_benign = pd_benign\n",
    "df_malicious = pd_malicious\n",
    "\n",
    "\n",
    "MIN1, MAX1 = (\n",
    "    df_benign[feature].min(),\n",
    "    df_benign[feature].max(),\n",
    ")\n",
    "\n",
    "\n",
    "MIN2, MAX2 = (\n",
    "    df_malicious[feature].min(),\n",
    "    df_malicious[feature].max(),\n",
    ")\n",
    "\n",
    "\n",
    "NUM_BINS = 50\n",
    "\n",
    "IF_NORM = True\n",
    "\n",
    "ylabel_dict = {True: \"Density\", False: \"Frequency\"}\n",
    "\n",
    "plt.hist(\n",
    "    x=df_benign[feature].values,\n",
    "    # bins=10 ** np.linspace(np.log10(MIN1), np.log10(MAX1), NUM_BINS),\n",
    "    bins=np.linspace(MIN1, MAX1, NUM_BINS),\n",
    "    density=IF_NORM,\n",
    "    label=\"Benign\",\n",
    "    zorder=2\n",
    ")\n",
    "\n",
    "plt.hist(\n",
    "    x=df_malicious[feature].values,\n",
    "    # bins=10 ** np.linspace(np.log10(MIN1), np.log10(MAX1), NUM_BINS),\n",
    "    bins=np.linspace(MIN2, MAX2, NUM_BINS),\n",
    "    density=IF_NORM,\n",
    "    label=\"Malicious\", zorder=1\n",
    ")\n",
    "\n",
    "\n",
    "# plt.gca().set_xscale(\"log\")\n",
    "plt.gca().set_yscale(\"log\")\n",
    "\n",
    "plt.legend()\n",
    "plt.xlabel(feature)\n",
    "plt.ylabel(ylabel_dict[IF_NORM])\n"
   ]
  },
  {
   "cell_type": "code",
   "execution_count": 40,
   "metadata": {},
   "outputs": [
    {
     "data": {
      "text/plain": [
       "Text(0, 0.5, 'Density')"
      ]
     },
     "execution_count": 40,
     "metadata": {},
     "output_type": "execute_result"
    },
    {
     "data": {
      "image/png": "[encoded data removed]",
      "text/plain": [
       "<Figure size 432x288 with 1 Axes>"
      ]
     },
     "metadata": {
      "needs_background": "light"
     },
     "output_type": "display_data"
    },
    {
     "data": {
      "application/javascript": [
       "\n",
       "            setTimeout(function() {\n",
       "                var nbb_cell_id = 40;\n",
       "                var nbb_unformatted_code = \"feature = \\\"bwdIATMax\\\"\\n\\ndf_benign = pd_benign\\ndf_malicious = pd_malicious\\n\\n\\nMIN1, MAX1 = (\\n    df_benign[feature].min(),\\n    df_benign[feature].max(),\\n)\\n\\n\\nMIN2, MAX2 = (\\n    df_malicious[feature].min(),\\n    df_malicious[feature].max(),\\n)\\n\\n\\nNUM_BINS = 50\\n\\nIF_NORM = True\\n\\nylabel_dict = {True: \\\"Density\\\", False: \\\"Frequency\\\"}\\n\\nplt.hist(\\n    x=df_benign[feature].values,\\n    # bins=10 ** np.linspace(np.log10(MIN1), np.log10(MAX1), NUM_BINS),\\n    bins=np.linspace(MIN1, MAX1, NUM_BINS),\\n    density=IF_NORM,\\n    label=\\\"Benign\\\"\\n)\\n\\nplt.hist(\\n    x=df_malicious[feature].values,\\n    # bins=10 ** np.linspace(np.log10(MIN1), np.log10(MAX1), NUM_BINS),\\n    bins=np.linspace(MIN2, MAX2, NUM_BINS),\\n    density=IF_NORM,\\n    label=\\\"Malicious\\\"\\n)\\n\\n\\n# plt.gca().set_xscale(\\\"log\\\")\\nplt.gca().set_yscale(\\\"log\\\")\\n\\nplt.legend()\\nplt.xlabel(feature)\\nplt.ylabel(ylabel_dict[IF_NORM])\";\n",
       "                var nbb_formatted_code = \"feature = \\\"bwdIATMax\\\"\\n\\ndf_benign = pd_benign\\ndf_malicious = pd_malicious\\n\\n\\nMIN1, MAX1 = (\\n    df_benign[feature].min(),\\n    df_benign[feature].max(),\\n)\\n\\n\\nMIN2, MAX2 = (\\n    df_malicious[feature].min(),\\n    df_malicious[feature].max(),\\n)\\n\\n\\nNUM_BINS = 50\\n\\nIF_NORM = True\\n\\nylabel_dict = {True: \\\"Density\\\", False: \\\"Frequency\\\"}\\n\\nplt.hist(\\n    x=df_benign[feature].values,\\n    # bins=10 ** np.linspace(np.log10(MIN1), np.log10(MAX1), NUM_BINS),\\n    bins=np.linspace(MIN1, MAX1, NUM_BINS),\\n    density=IF_NORM,\\n    label=\\\"Benign\\\",\\n)\\n\\nplt.hist(\\n    x=df_malicious[feature].values,\\n    # bins=10 ** np.linspace(np.log10(MIN1), np.log10(MAX1), NUM_BINS),\\n    bins=np.linspace(MIN2, MAX2, NUM_BINS),\\n    density=IF_NORM,\\n    label=\\\"Malicious\\\",\\n)\\n\\n\\n# plt.gca().set_xscale(\\\"log\\\")\\nplt.gca().set_yscale(\\\"log\\\")\\n\\nplt.legend()\\nplt.xlabel(feature)\\nplt.ylabel(ylabel_dict[IF_NORM])\";\n",
       "                var nbb_cells = Jupyter.notebook.get_cells();\n",
       "                for (var i = 0; i < nbb_cells.length; ++i) {\n",
       "                    if (nbb_cells[i].input_prompt_number == nbb_cell_id) {\n",
       "                        if (nbb_cells[i].get_text() == nbb_unformatted_code) {\n",
       "                             nbb_cells[i].set_text(nbb_formatted_code);\n",
       "                        }\n",
       "                        break;\n",
       "                    }\n",
       "                }\n",
       "            }, 500);\n",
       "            "
      ],
      "text/plain": [
       "<IPython.core.display.Javascript object>"
      ]
     },
     "metadata": {},
     "output_type": "display_data"
    }
   ],
   "source": [
    "feature = \"bwdIATMax\"\n",
    "\n",
    "df_benign = pd_benign\n",
    "df_malicious = pd_malicious\n",
    "\n",
    "\n",
    "MIN1, MAX1 = (\n",
    "    df_benign[feature].min(),\n",
    "    df_benign[feature].max(),\n",
    ")\n",
    "\n",
    "\n",
    "MIN2, MAX2 = (\n",
    "    df_malicious[feature].min(),\n",
    "    df_malicious[feature].max(),\n",
    ")\n",
    "\n",
    "\n",
    "NUM_BINS = 50\n",
    "\n",
    "IF_NORM = True\n",
    "\n",
    "ylabel_dict = {True: \"Density\", False: \"Frequency\"}\n",
    "\n",
    "plt.hist(\n",
    "    x=df_benign[feature].values,\n",
    "    # bins=10 ** np.linspace(np.log10(MIN1), np.log10(MAX1), NUM_BINS),\n",
    "    bins=np.linspace(MIN1, MAX1, NUM_BINS),\n",
    "    density=IF_NORM,\n",
    "    label=\"Benign\"\n",
    ")\n",
    "\n",
    "plt.hist(\n",
    "    x=df_malicious[feature].values,\n",
    "    # bins=10 ** np.linspace(np.log10(MIN1), np.log10(MAX1), NUM_BINS),\n",
    "    bins=np.linspace(MIN2, MAX2, NUM_BINS),\n",
    "    density=IF_NORM,\n",
    "    label=\"Malicious\"\n",
    ")\n",
    "\n",
    "\n",
    "# plt.gca().set_xscale(\"log\")\n",
    "plt.gca().set_yscale(\"log\")\n",
    "\n",
    "plt.legend()\n",
    "plt.xlabel(feature)\n",
    "plt.ylabel(ylabel_dict[IF_NORM])\n"
   ]
  },
  {
   "cell_type": "code",
   "execution_count": null,
   "metadata": {},
   "outputs": [],
   "source": []
  },
  {
   "cell_type": "markdown",
   "metadata": {},
   "source": [
    "# Machine learning - feature importance"
   ]
  },
  {
   "cell_type": "markdown",
   "metadata": {},
   "source": [
    "## Clean dataset"
   ]
  },
  {
   "cell_type": "code",
   "execution_count": 13,
   "metadata": {
    "code_folding": [
     0
    ]
   },
   "outputs": [
    {
     "data": {
      "application/javascript": [
       "\n",
       "            setTimeout(function() {\n",
       "                var nbb_cell_id = 13;\n",
       "                var nbb_unformatted_code = \"def clean_dataset(df):\\n    assert isinstance(df, pd.DataFrame), \\\"df needs to be a pd.DataFrame\\\"\\n    df.dropna(inplace=True)\\n\\n    df_X = df.iloc[:, :-1]\\n    df_Y = df.iloc[:, -1]\\n\\n    print(df.shape, df_X.shape, df_Y.shape)\\n    indices_to_keep = ~df_X.isin([np.nan, np.inf, -np.inf]).any(1)\\n    return df_X[indices_to_keep].astype(np.float64).values, df_Y[indices_to_keep].values\";\n",
       "                var nbb_formatted_code = \"def clean_dataset(df):\\n    assert isinstance(df, pd.DataFrame), \\\"df needs to be a pd.DataFrame\\\"\\n    df.dropna(inplace=True)\\n\\n    df_X = df.iloc[:, :-1]\\n    df_Y = df.iloc[:, -1]\\n\\n    print(df.shape, df_X.shape, df_Y.shape)\\n    indices_to_keep = ~df_X.isin([np.nan, np.inf, -np.inf]).any(1)\\n    return df_X[indices_to_keep].astype(np.float64).values, df_Y[indices_to_keep].values\";\n",
       "                var nbb_cells = Jupyter.notebook.get_cells();\n",
       "                for (var i = 0; i < nbb_cells.length; ++i) {\n",
       "                    if (nbb_cells[i].input_prompt_number == nbb_cell_id) {\n",
       "                        if (nbb_cells[i].get_text() == nbb_unformatted_code) {\n",
       "                             nbb_cells[i].set_text(nbb_formatted_code);\n",
       "                        }\n",
       "                        break;\n",
       "                    }\n",
       "                }\n",
       "            }, 500);\n",
       "            "
      ],
      "text/plain": [
       "<IPython.core.display.Javascript object>"
      ]
     },
     "metadata": {},
     "output_type": "display_data"
    }
   ],
   "source": [
    "def clean_dataset(df):\n",
    "    assert isinstance(df, pd.DataFrame), \"df needs to be a pd.DataFrame\"\n",
    "    df.dropna(inplace=True)\n",
    "\n",
    "    df_X = df.iloc[:, :-1]\n",
    "    df_Y = df.iloc[:, -1]\n",
    "\n",
    "    print(df.shape, df_X.shape, df_Y.shape)\n",
    "    indices_to_keep = ~df_X.isin([np.nan, np.inf, -np.inf]).any(1)\n",
    "    return df_X[indices_to_keep].astype(np.float64).values, df_Y[indices_to_keep].values"
   ]
  },
  {
   "cell_type": "code",
   "execution_count": 14,
   "metadata": {
    "code_folding": []
   },
   "outputs": [
    {
     "data": {
      "application/javascript": [
       "\n",
       "            setTimeout(function() {\n",
       "                var nbb_cell_id = 14;\n",
       "                var nbb_unformatted_code = \"def sigmoid(x):\\n    return 1 / (1 + math.exp(-x))\";\n",
       "                var nbb_formatted_code = \"def sigmoid(x):\\n    return 1 / (1 + math.exp(-x))\";\n",
       "                var nbb_cells = Jupyter.notebook.get_cells();\n",
       "                for (var i = 0; i < nbb_cells.length; ++i) {\n",
       "                    if (nbb_cells[i].input_prompt_number == nbb_cell_id) {\n",
       "                        if (nbb_cells[i].get_text() == nbb_unformatted_code) {\n",
       "                             nbb_cells[i].set_text(nbb_formatted_code);\n",
       "                        }\n",
       "                        break;\n",
       "                    }\n",
       "                }\n",
       "            }, 500);\n",
       "            "
      ],
      "text/plain": [
       "<IPython.core.display.Javascript object>"
      ]
     },
     "metadata": {},
     "output_type": "display_data"
    }
   ],
   "source": [
    "def sigmoid(x):\n",
    "    return 1 / (1 + math.exp(-x))"
   ]
  },
  {
   "cell_type": "raw",
   "metadata": {},
   "source": [
    "pd_comb_features2 = pd.concat([pd_comb_features] * 1000)"
   ]
  },
  {
   "cell_type": "code",
   "execution_count": null,
   "metadata": {},
   "outputs": [],
   "source": []
  },
  {
   "cell_type": "code",
   "execution_count": 15,
   "metadata": {},
   "outputs": [
    {
     "name": "stdout",
     "output_type": "stream",
     "text": [
      "(14479, 19) (14479, 18) (14479,)\n"
     ]
    },
    {
     "data": {
      "application/javascript": [
       "\n",
       "            setTimeout(function() {\n",
       "                var nbb_cell_id = 15;\n",
       "                var nbb_unformatted_code = \"pd_comb_features_cp = pd_comb_features.copy(deep=True)\\n\\nX, y = clean_dataset(pd_comb_features_cp)\";\n",
       "                var nbb_formatted_code = \"pd_comb_features_cp = pd_comb_features.copy(deep=True)\\n\\nX, y = clean_dataset(pd_comb_features_cp)\";\n",
       "                var nbb_cells = Jupyter.notebook.get_cells();\n",
       "                for (var i = 0; i < nbb_cells.length; ++i) {\n",
       "                    if (nbb_cells[i].input_prompt_number == nbb_cell_id) {\n",
       "                        if (nbb_cells[i].get_text() == nbb_unformatted_code) {\n",
       "                             nbb_cells[i].set_text(nbb_formatted_code);\n",
       "                        }\n",
       "                        break;\n",
       "                    }\n",
       "                }\n",
       "            }, 500);\n",
       "            "
      ],
      "text/plain": [
       "<IPython.core.display.Javascript object>"
      ]
     },
     "metadata": {},
     "output_type": "display_data"
    }
   ],
   "source": [
    "pd_comb_features_cp = pd_comb_features.copy(deep=True)\n",
    "\n",
    "X, y = clean_dataset(pd_comb_features_cp)"
   ]
  },
  {
   "cell_type": "code",
   "execution_count": null,
   "metadata": {},
   "outputs": [],
   "source": []
  },
  {
   "cell_type": "code",
   "execution_count": 16,
   "metadata": {},
   "outputs": [
    {
     "name": "stdout",
     "output_type": "stream",
     "text": [
      "(8841, 18) (8841,)\n"
     ]
    },
    {
     "data": {
      "application/javascript": [
       "\n",
       "            setTimeout(function() {\n",
       "                var nbb_cell_id = 16;\n",
       "                var nbb_unformatted_code = \"print(X.shape, y.shape)\";\n",
       "                var nbb_formatted_code = \"print(X.shape, y.shape)\";\n",
       "                var nbb_cells = Jupyter.notebook.get_cells();\n",
       "                for (var i = 0; i < nbb_cells.length; ++i) {\n",
       "                    if (nbb_cells[i].input_prompt_number == nbb_cell_id) {\n",
       "                        if (nbb_cells[i].get_text() == nbb_unformatted_code) {\n",
       "                             nbb_cells[i].set_text(nbb_formatted_code);\n",
       "                        }\n",
       "                        break;\n",
       "                    }\n",
       "                }\n",
       "            }, 500);\n",
       "            "
      ],
      "text/plain": [
       "<IPython.core.display.Javascript object>"
      ]
     },
     "metadata": {},
     "output_type": "display_data"
    }
   ],
   "source": [
    "print(X.shape, y.shape)"
   ]
  },
  {
   "cell_type": "code",
   "execution_count": null,
   "metadata": {},
   "outputs": [],
   "source": []
  },
  {
   "cell_type": "markdown",
   "metadata": {},
   "source": [
    "## Train test split"
   ]
  },
  {
   "cell_type": "code",
   "execution_count": 17,
   "metadata": {},
   "outputs": [
    {
     "data": {
      "application/javascript": [
       "\n",
       "            setTimeout(function() {\n",
       "                var nbb_cell_id = 17;\n",
       "                var nbb_unformatted_code = \"X_train, X_test, y_train, y_test = train_test_split(X, y, test_size=0.3, random_state=0)\";\n",
       "                var nbb_formatted_code = \"X_train, X_test, y_train, y_test = train_test_split(X, y, test_size=0.3, random_state=0)\";\n",
       "                var nbb_cells = Jupyter.notebook.get_cells();\n",
       "                for (var i = 0; i < nbb_cells.length; ++i) {\n",
       "                    if (nbb_cells[i].input_prompt_number == nbb_cell_id) {\n",
       "                        if (nbb_cells[i].get_text() == nbb_unformatted_code) {\n",
       "                             nbb_cells[i].set_text(nbb_formatted_code);\n",
       "                        }\n",
       "                        break;\n",
       "                    }\n",
       "                }\n",
       "            }, 500);\n",
       "            "
      ],
      "text/plain": [
       "<IPython.core.display.Javascript object>"
      ]
     },
     "metadata": {},
     "output_type": "display_data"
    }
   ],
   "source": [
    "X_train, X_test, y_train, y_test = train_test_split(X, y, test_size=0.3, random_state=0)"
   ]
  },
  {
   "cell_type": "code",
   "execution_count": 18,
   "metadata": {},
   "outputs": [
    {
     "data": {
      "text/plain": [
       "((6188, 18), (2653, 18))"
      ]
     },
     "execution_count": 18,
     "metadata": {},
     "output_type": "execute_result"
    },
    {
     "data": {
      "application/javascript": [
       "\n",
       "            setTimeout(function() {\n",
       "                var nbb_cell_id = 18;\n",
       "                var nbb_unformatted_code = \"X_train.shape, X_test.shape\";\n",
       "                var nbb_formatted_code = \"X_train.shape, X_test.shape\";\n",
       "                var nbb_cells = Jupyter.notebook.get_cells();\n",
       "                for (var i = 0; i < nbb_cells.length; ++i) {\n",
       "                    if (nbb_cells[i].input_prompt_number == nbb_cell_id) {\n",
       "                        if (nbb_cells[i].get_text() == nbb_unformatted_code) {\n",
       "                             nbb_cells[i].set_text(nbb_formatted_code);\n",
       "                        }\n",
       "                        break;\n",
       "                    }\n",
       "                }\n",
       "            }, 500);\n",
       "            "
      ],
      "text/plain": [
       "<IPython.core.display.Javascript object>"
      ]
     },
     "metadata": {},
     "output_type": "display_data"
    }
   ],
   "source": [
    "X_train.shape, X_test.shape"
   ]
  },
  {
   "cell_type": "code",
   "execution_count": null,
   "metadata": {},
   "outputs": [],
   "source": []
  },
  {
   "cell_type": "markdown",
   "metadata": {},
   "source": [
    "#### Kullback-Leibler Importance Estimation Procedure (KLIEP) for reweighting"
   ]
  },
  {
   "cell_type": "code",
   "execution_count": 31,
   "metadata": {
    "code_folding": [
     0
    ]
   },
   "outputs": [
    {
     "data": {
      "application/javascript": [
       "\n",
       "            setTimeout(function() {\n",
       "                var nbb_cell_id = 31;\n",
       "                var nbb_unformatted_code = \"class DensityRatioEstimator2:\\n    \\\"\\\"\\\"\\n    Class to accomplish direct density estimation implementing the original KLIEP \\n    algorithm from Direct Importance Estimation with Model Selection\\n    and Its Application to Covariate Shift Adaptation by Sugiyama et al. \\n    \\n    The training set is distributed via \\n                                            train ~ p(x)\\n    and the test set is distributed via \\n                                            test ~ q(x).\\n                                            \\n    The KLIEP algorithm and its variants approximate w(x) = q(x) / p(x) directly. The predict function returns the\\n    estimate of w(x). The function w(x) can serve as sample weights for the training set during\\n    training to modify the expectation function that the model's loss function is optimized via,\\n    i.e.\\n    \\n            E_{x ~ w(x)p(x)} loss(x) = E_{x ~ q(x)} loss(x).\\n    \\n    Usage : \\n        The fit method is used to run the KLIEP algorithm using LCV and returns value of J \\n        trained on the entire training/test set with the best sigma found. \\n\\n        Use the predict method on the training set to determine the sample weights from the KLIEP algorithm.\\n    \\\"\\\"\\\"\\n\\n    def __init__(\\n        self,\\n        max_iter=5000,\\n        num_params=[0.1, 0.2],\\n        epsilon=1e-4,\\n        cv=3,\\n        sigmas=[0.01, 0.1, 0.25, 0.5, 0.75, 1],\\n        random_state=None,\\n        verbose=0,\\n    ):\\n        \\\"\\\"\\\" \\n        Direct density estimation using an inner LCV loop to estimate the proper model. Can be used with sklearn\\n        cross validation methods with or without storing the inner CV. To use a standard grid search.\\n        \\n        \\n        max_iter : Number of iterations to perform\\n        num_params : List of number of test set vectors used to construct the approximation for inner LCV.\\n                     Must be a float. Original paper used 10%, i.e. =.1\\n        sigmas : List of sigmas to be used in inner LCV loop.\\n        epsilon : Additive factor in the iterative algorithm for numerical stability.\\n        \\\"\\\"\\\"\\n        self.max_iter = max_iter\\n        self.num_params = num_params\\n        self.epsilon = epsilon\\n        self.verbose = verbose\\n        self.sigmas = sigmas\\n        self.cv = cv\\n        self.random_state = 0\\n        # self._sigma = None\\n\\n    def fit(self, X_train, X_test, alpha_0=None):\\n        \\\"\\\"\\\" Uses cross validation to select sigma as in the original paper (LCV).\\n            In a break from sklearn convention, y=X_test.\\n            The parameter cv corresponds to R in the original paper.\\n            Once found, the best sigma is used to train on the full set.\\\"\\\"\\\"\\n\\n        # LCV loop, shuffle a copy in place for performance.\\n        cv = self.cv\\n        chunk = int(X_test.shape[0] / float(cv))\\n        if self.random_state is not None:\\n            np.random.seed(self.random_state)\\n        X_test_shuffled = X_test.copy()\\n        np.random.shuffle(X_test_shuffled)\\n\\n        j_scores = {}\\n\\n        if type(self.sigmas) != list:\\n            self.sigmas = [self.sigmas]\\n\\n        if type(self.num_params) != list:\\n            self.num_params = [self.num_params]\\n\\n        if (len(self.sigmas) * len(self.num_params)) > 1:\\n            # Inner LCV loop\\n            for num_param in self.num_params:\\n                for sigma in self.sigmas:\\n                    j_scores[(num_param, sigma)] = np.zeros(cv)\\n                    for k in range(1, cv + 1):\\n                        if self.verbose > 0:\\n                            print(\\\"Training: sigma: %s    R: %s\\\" % (sigma, k))\\n                        X_test_fold = X_test_shuffled[(k - 1) * chunk : k * chunk, :]\\n                        j_scores[(num_param, sigma)][k - 1] = self._fit(\\n                            X_train=X_train,\\n                            X_test=X_test_fold,\\n                            num_parameters=num_param,\\n                            sigma=sigma,\\n                        )\\n\\n                    print(j_scores)\\n                    j_scores[(num_param, sigma)] = np.mean(j_scores[(num_param, sigma)])\\n\\n            sorted_scores = sorted(\\n                [x for x in j_scores.items() if np.isfinite(x[1])],\\n                key=lambda x: x[1],\\n                reverse=True,\\n            )\\n\\n            if len(sorted_scores) == 0:\\n                warnings.warn(\\\"LCV failed to converge for all values of sigma.\\\")\\n                return self\\n\\n            self._sigma = sorted_scores[0][0][1]\\n            self._num_parameters = sorted_scores[0][0][0]\\n            self._j_scores = sorted_scores\\n        else:\\n            self._sigma = self.sigmas[0]\\n            self._num_parameters = self.num_params[0]\\n            # best sigma\\n        self._j = self._fit(\\n            X_train=X_train,\\n            X_test=X_test_shuffled,\\n            num_parameters=self._num_parameters,\\n            sigma=self._sigma,\\n        )\\n\\n        return self  # Compatibility with sklearn\\n\\n    def _fit(self, X_train, X_test, num_parameters, sigma, alpha_0=None):\\n        \\\"\\\"\\\" Fits the estimator with the given parameters w-hat and returns J\\\"\\\"\\\"\\n\\n        num_parameters = num_parameters\\n\\n        if type(num_parameters) == float:\\n            num_parameters = int(X_test.shape[0] * num_parameters)\\n\\n        self._select_param_vectors(\\n            X_test=X_test, sigma=sigma, num_parameters=num_parameters\\n        )\\n\\n        X_train = self._reshape_X(X_train)\\n        X_test = self._reshape_X(X_test)\\n\\n        if alpha_0 is None:\\n            alpha_0 = np.ones(shape=(num_parameters, 1)) / float(num_parameters)\\n\\n        self._find_alpha(\\n            X_train=X_train,\\n            X_test=X_test,\\n            num_parameters=num_parameters,\\n            epsilon=self.epsilon,\\n            alpha_0=alpha_0,\\n            sigma=sigma,\\n        )\\n\\n        return self._calculate_j(X_test, sigma=sigma)\\n\\n    def _calculate_j(self, X_test, sigma):\\n        return np.log(self.predict(X_test, sigma=sigma)).sum() / X_test.shape[0]\\n\\n    def score(self, X_test):\\n        \\\"\\\"\\\" Return the J score, similar to sklearn's API \\\"\\\"\\\"\\n        return self._calculate_j(X_test=X_test, sigma=self._sigma)\\n\\n    @staticmethod\\n    def _reshape_X(X):\\n        \\\"\\\"\\\" Reshape input from mxn to mx1xn to take advantage of numpy broadcasting. \\\"\\\"\\\"\\n        if len(X.shape) != 3:\\n            return X.reshape((X.shape[0], 1, X.shape[1]))\\n        return X\\n\\n    def _select_param_vectors(self, X_test, sigma, num_parameters):\\n        \\\"\\\"\\\" X_test is the test set. b is the number of parameters. \\\"\\\"\\\"\\n        indices = np.random.choice(X_test.shape[0], size=num_parameters, replace=False)\\n        self._test_vectors = X_test[indices, :].copy()\\n        self._phi_fitted = True\\n\\n    def _phi(self, X, sigma=None):\\n\\n        if sigma is None:\\n            sigma = 0.01  # self._sigma\\n\\n        if self._phi_fitted:\\n            return np.exp(\\n                -np.sum((X - self._test_vectors) ** 2, axis=-1) / (2 * sigma ** 2)\\n            )\\n        raise Exception(\\\"Phi not fitted.\\\")\\n\\n    def _find_alpha(self, alpha_0, X_train, X_test, num_parameters, sigma, epsilon):\\n        A = np.zeros(shape=(X_test.shape[0], num_parameters))\\n        b = np.zeros(shape=(num_parameters, 1))\\n\\n        A = self._phi(X_test, sigma)\\n        b = self._phi(X_train, sigma).sum(axis=0) / X_train.shape[0]\\n        b = b.reshape((num_parameters, 1))\\n\\n        out = alpha_0.copy()\\n        for k in range(self.max_iter):\\n            out += epsilon * np.dot(np.transpose(A), 1.0 / (np.dot(A, out)))\\n            out += b * (\\n                ((1 - np.dot(np.transpose(b), out)) / np.dot(np.transpose(b), b))\\n            )\\n            out = np.maximum(0, out)\\n            out /= np.dot(np.transpose(b), out)\\n\\n        self._alpha = out\\n        self._fitted = True\\n\\n    def predict(self, X, sigma=None):\\n        \\\"\\\"\\\" Equivalent of w(X) from the original paper.\\\"\\\"\\\"\\n\\n        X = self._reshape_X(X)\\n        if not self._fitted:\\n            raise Exception(\\\"Not fitted!\\\")\\n        return np.dot(self._phi(X, sigma=sigma), self._alpha).reshape((X.shape[0],))\";\n",
       "                var nbb_formatted_code = \"class DensityRatioEstimator2:\\n    \\\"\\\"\\\"\\n    Class to accomplish direct density estimation implementing the original KLIEP \\n    algorithm from Direct Importance Estimation with Model Selection\\n    and Its Application to Covariate Shift Adaptation by Sugiyama et al. \\n    \\n    The training set is distributed via \\n                                            train ~ p(x)\\n    and the test set is distributed via \\n                                            test ~ q(x).\\n                                            \\n    The KLIEP algorithm and its variants approximate w(x) = q(x) / p(x) directly. The predict function returns the\\n    estimate of w(x). The function w(x) can serve as sample weights for the training set during\\n    training to modify the expectation function that the model's loss function is optimized via,\\n    i.e.\\n    \\n            E_{x ~ w(x)p(x)} loss(x) = E_{x ~ q(x)} loss(x).\\n    \\n    Usage : \\n        The fit method is used to run the KLIEP algorithm using LCV and returns value of J \\n        trained on the entire training/test set with the best sigma found. \\n\\n        Use the predict method on the training set to determine the sample weights from the KLIEP algorithm.\\n    \\\"\\\"\\\"\\n\\n    def __init__(\\n        self,\\n        max_iter=5000,\\n        num_params=[0.1, 0.2],\\n        epsilon=1e-4,\\n        cv=3,\\n        sigmas=[0.01, 0.1, 0.25, 0.5, 0.75, 1],\\n        random_state=None,\\n        verbose=0,\\n    ):\\n        \\\"\\\"\\\" \\n        Direct density estimation using an inner LCV loop to estimate the proper model. Can be used with sklearn\\n        cross validation methods with or without storing the inner CV. To use a standard grid search.\\n        \\n        \\n        max_iter : Number of iterations to perform\\n        num_params : List of number of test set vectors used to construct the approximation for inner LCV.\\n                     Must be a float. Original paper used 10%, i.e. =.1\\n        sigmas : List of sigmas to be used in inner LCV loop.\\n        epsilon : Additive factor in the iterative algorithm for numerical stability.\\n        \\\"\\\"\\\"\\n        self.max_iter = max_iter\\n        self.num_params = num_params\\n        self.epsilon = epsilon\\n        self.verbose = verbose\\n        self.sigmas = sigmas\\n        self.cv = cv\\n        self.random_state = 0\\n        # self._sigma = None\\n\\n    def fit(self, X_train, X_test, alpha_0=None):\\n        \\\"\\\"\\\" Uses cross validation to select sigma as in the original paper (LCV).\\n            In a break from sklearn convention, y=X_test.\\n            The parameter cv corresponds to R in the original paper.\\n            Once found, the best sigma is used to train on the full set.\\\"\\\"\\\"\\n\\n        # LCV loop, shuffle a copy in place for performance.\\n        cv = self.cv\\n        chunk = int(X_test.shape[0] / float(cv))\\n        if self.random_state is not None:\\n            np.random.seed(self.random_state)\\n        X_test_shuffled = X_test.copy()\\n        np.random.shuffle(X_test_shuffled)\\n\\n        j_scores = {}\\n\\n        if type(self.sigmas) != list:\\n            self.sigmas = [self.sigmas]\\n\\n        if type(self.num_params) != list:\\n            self.num_params = [self.num_params]\\n\\n        if (len(self.sigmas) * len(self.num_params)) > 1:\\n            # Inner LCV loop\\n            for num_param in self.num_params:\\n                for sigma in self.sigmas:\\n                    j_scores[(num_param, sigma)] = np.zeros(cv)\\n                    for k in range(1, cv + 1):\\n                        if self.verbose > 0:\\n                            print(\\\"Training: sigma: %s    R: %s\\\" % (sigma, k))\\n                        X_test_fold = X_test_shuffled[(k - 1) * chunk : k * chunk, :]\\n                        j_scores[(num_param, sigma)][k - 1] = self._fit(\\n                            X_train=X_train,\\n                            X_test=X_test_fold,\\n                            num_parameters=num_param,\\n                            sigma=sigma,\\n                        )\\n\\n                    print(j_scores)\\n                    j_scores[(num_param, sigma)] = np.mean(j_scores[(num_param, sigma)])\\n\\n            sorted_scores = sorted(\\n                [x for x in j_scores.items() if np.isfinite(x[1])],\\n                key=lambda x: x[1],\\n                reverse=True,\\n            )\\n\\n            if len(sorted_scores) == 0:\\n                warnings.warn(\\\"LCV failed to converge for all values of sigma.\\\")\\n                return self\\n\\n            self._sigma = sorted_scores[0][0][1]\\n            self._num_parameters = sorted_scores[0][0][0]\\n            self._j_scores = sorted_scores\\n        else:\\n            self._sigma = self.sigmas[0]\\n            self._num_parameters = self.num_params[0]\\n            # best sigma\\n        self._j = self._fit(\\n            X_train=X_train,\\n            X_test=X_test_shuffled,\\n            num_parameters=self._num_parameters,\\n            sigma=self._sigma,\\n        )\\n\\n        return self  # Compatibility with sklearn\\n\\n    def _fit(self, X_train, X_test, num_parameters, sigma, alpha_0=None):\\n        \\\"\\\"\\\" Fits the estimator with the given parameters w-hat and returns J\\\"\\\"\\\"\\n\\n        num_parameters = num_parameters\\n\\n        if type(num_parameters) == float:\\n            num_parameters = int(X_test.shape[0] * num_parameters)\\n\\n        self._select_param_vectors(\\n            X_test=X_test, sigma=sigma, num_parameters=num_parameters\\n        )\\n\\n        X_train = self._reshape_X(X_train)\\n        X_test = self._reshape_X(X_test)\\n\\n        if alpha_0 is None:\\n            alpha_0 = np.ones(shape=(num_parameters, 1)) / float(num_parameters)\\n\\n        self._find_alpha(\\n            X_train=X_train,\\n            X_test=X_test,\\n            num_parameters=num_parameters,\\n            epsilon=self.epsilon,\\n            alpha_0=alpha_0,\\n            sigma=sigma,\\n        )\\n\\n        return self._calculate_j(X_test, sigma=sigma)\\n\\n    def _calculate_j(self, X_test, sigma):\\n        return np.log(self.predict(X_test, sigma=sigma)).sum() / X_test.shape[0]\\n\\n    def score(self, X_test):\\n        \\\"\\\"\\\" Return the J score, similar to sklearn's API \\\"\\\"\\\"\\n        return self._calculate_j(X_test=X_test, sigma=self._sigma)\\n\\n    @staticmethod\\n    def _reshape_X(X):\\n        \\\"\\\"\\\" Reshape input from mxn to mx1xn to take advantage of numpy broadcasting. \\\"\\\"\\\"\\n        if len(X.shape) != 3:\\n            return X.reshape((X.shape[0], 1, X.shape[1]))\\n        return X\\n\\n    def _select_param_vectors(self, X_test, sigma, num_parameters):\\n        \\\"\\\"\\\" X_test is the test set. b is the number of parameters. \\\"\\\"\\\"\\n        indices = np.random.choice(X_test.shape[0], size=num_parameters, replace=False)\\n        self._test_vectors = X_test[indices, :].copy()\\n        self._phi_fitted = True\\n\\n    def _phi(self, X, sigma=None):\\n\\n        if sigma is None:\\n            sigma = 0.01  # self._sigma\\n\\n        if self._phi_fitted:\\n            return np.exp(\\n                -np.sum((X - self._test_vectors) ** 2, axis=-1) / (2 * sigma ** 2)\\n            )\\n        raise Exception(\\\"Phi not fitted.\\\")\\n\\n    def _find_alpha(self, alpha_0, X_train, X_test, num_parameters, sigma, epsilon):\\n        A = np.zeros(shape=(X_test.shape[0], num_parameters))\\n        b = np.zeros(shape=(num_parameters, 1))\\n\\n        A = self._phi(X_test, sigma)\\n        b = self._phi(X_train, sigma).sum(axis=0) / X_train.shape[0]\\n        b = b.reshape((num_parameters, 1))\\n\\n        out = alpha_0.copy()\\n        for k in range(self.max_iter):\\n            out += epsilon * np.dot(np.transpose(A), 1.0 / (np.dot(A, out)))\\n            out += b * (\\n                ((1 - np.dot(np.transpose(b), out)) / np.dot(np.transpose(b), b))\\n            )\\n            out = np.maximum(0, out)\\n            out /= np.dot(np.transpose(b), out)\\n\\n        self._alpha = out\\n        self._fitted = True\\n\\n    def predict(self, X, sigma=None):\\n        \\\"\\\"\\\" Equivalent of w(X) from the original paper.\\\"\\\"\\\"\\n\\n        X = self._reshape_X(X)\\n        if not self._fitted:\\n            raise Exception(\\\"Not fitted!\\\")\\n        return np.dot(self._phi(X, sigma=sigma), self._alpha).reshape((X.shape[0],))\";\n",
       "                var nbb_cells = Jupyter.notebook.get_cells();\n",
       "                for (var i = 0; i < nbb_cells.length; ++i) {\n",
       "                    if (nbb_cells[i].input_prompt_number == nbb_cell_id) {\n",
       "                        if (nbb_cells[i].get_text() == nbb_unformatted_code) {\n",
       "                             nbb_cells[i].set_text(nbb_formatted_code);\n",
       "                        }\n",
       "                        break;\n",
       "                    }\n",
       "                }\n",
       "            }, 500);\n",
       "            "
      ],
      "text/plain": [
       "<IPython.core.display.Javascript object>"
      ]
     },
     "metadata": {},
     "output_type": "display_data"
    }
   ],
   "source": [
    "class DensityRatioEstimator2:\n",
    "    \"\"\"\n",
    "    Class to accomplish direct density estimation implementing the original KLIEP \n",
    "    algorithm from Direct Importance Estimation with Model Selection\n",
    "    and Its Application to Covariate Shift Adaptation by Sugiyama et al. \n",
    "    \n",
    "    The training set is distributed via \n",
    "                                            train ~ p(x)\n",
    "    and the test set is distributed via \n",
    "                                            test ~ q(x).\n",
    "                                            \n",
    "    The KLIEP algorithm and its variants approximate w(x) = q(x) / p(x) directly. The predict function returns the\n",
    "    estimate of w(x). The function w(x) can serve as sample weights for the training set during\n",
    "    training to modify the expectation function that the model's loss function is optimized via,\n",
    "    i.e.\n",
    "    \n",
    "            E_{x ~ w(x)p(x)} loss(x) = E_{x ~ q(x)} loss(x).\n",
    "    \n",
    "    Usage : \n",
    "        The fit method is used to run the KLIEP algorithm using LCV and returns value of J \n",
    "        trained on the entire training/test set with the best sigma found. \n",
    "\n",
    "        Use the predict method on the training set to determine the sample weights from the KLIEP algorithm.\n",
    "    \"\"\"\n",
    "\n",
    "    def __init__(\n",
    "        self,\n",
    "        max_iter=5000,\n",
    "        num_params=[0.1, 0.2],\n",
    "        epsilon=1e-4,\n",
    "        cv=3,\n",
    "        sigmas=[0.01, 0.1, 0.25, 0.5, 0.75, 1],\n",
    "        random_state=None,\n",
    "        verbose=0,\n",
    "    ):\n",
    "        \"\"\" \n",
    "        Direct density estimation using an inner LCV loop to estimate the proper model. Can be used with sklearn\n",
    "        cross validation methods with or without storing the inner CV. To use a standard grid search.\n",
    "        \n",
    "        \n",
    "        max_iter : Number of iterations to perform\n",
    "        num_params : List of number of test set vectors used to construct the approximation for inner LCV.\n",
    "                     Must be a float. Original paper used 10%, i.e. =.1\n",
    "        sigmas : List of sigmas to be used in inner LCV loop.\n",
    "        epsilon : Additive factor in the iterative algorithm for numerical stability.\n",
    "        \"\"\"\n",
    "        self.max_iter = max_iter\n",
    "        self.num_params = num_params\n",
    "        self.epsilon = epsilon\n",
    "        self.verbose = verbose\n",
    "        self.sigmas = sigmas\n",
    "        self.cv = cv\n",
    "        self.random_state = 0\n",
    "        # self._sigma = None\n",
    "\n",
    "    def fit(self, X_train, X_test, alpha_0=None):\n",
    "        \"\"\" Uses cross validation to select sigma as in the original paper (LCV).\n",
    "            In a break from sklearn convention, y=X_test.\n",
    "            The parameter cv corresponds to R in the original paper.\n",
    "            Once found, the best sigma is used to train on the full set.\"\"\"\n",
    "\n",
    "        # LCV loop, shuffle a copy in place for performance.\n",
    "        cv = self.cv\n",
    "        chunk = int(X_test.shape[0] / float(cv))\n",
    "        if self.random_state is not None:\n",
    "            np.random.seed(self.random_state)\n",
    "        X_test_shuffled = X_test.copy()\n",
    "        np.random.shuffle(X_test_shuffled)\n",
    "\n",
    "        j_scores = {}\n",
    "\n",
    "        if type(self.sigmas) != list:\n",
    "            self.sigmas = [self.sigmas]\n",
    "\n",
    "        if type(self.num_params) != list:\n",
    "            self.num_params = [self.num_params]\n",
    "\n",
    "        if (len(self.sigmas) * len(self.num_params)) > 1:\n",
    "            # Inner LCV loop\n",
    "            for num_param in self.num_params:\n",
    "                for sigma in self.sigmas:\n",
    "                    j_scores[(num_param, sigma)] = np.zeros(cv)\n",
    "                    for k in range(1, cv + 1):\n",
    "                        if self.verbose > 0:\n",
    "                            print(\"Training: sigma: %s    R: %s\" % (sigma, k))\n",
    "                        X_test_fold = X_test_shuffled[(k - 1) * chunk : k * chunk, :]\n",
    "                        j_scores[(num_param, sigma)][k - 1] = self._fit(\n",
    "                            X_train=X_train,\n",
    "                            X_test=X_test_fold,\n",
    "                            num_parameters=num_param,\n",
    "                            sigma=sigma,\n",
    "                        )\n",
    "\n",
    "                    print(j_scores)\n",
    "                    j_scores[(num_param, sigma)] = np.mean(j_scores[(num_param, sigma)])\n",
    "\n",
    "            sorted_scores = sorted(\n",
    "                [x for x in j_scores.items() if np.isfinite(x[1])],\n",
    "                key=lambda x: x[1],\n",
    "                reverse=True,\n",
    "            )\n",
    "\n",
    "            if len(sorted_scores) == 0:\n",
    "                warnings.warn(\"LCV failed to converge for all values of sigma.\")\n",
    "                return self\n",
    "\n",
    "            self._sigma = sorted_scores[0][0][1]\n",
    "            self._num_parameters = sorted_scores[0][0][0]\n",
    "            self._j_scores = sorted_scores\n",
    "        else:\n",
    "            self._sigma = self.sigmas[0]\n",
    "            self._num_parameters = self.num_params[0]\n",
    "            # best sigma\n",
    "        self._j = self._fit(\n",
    "            X_train=X_train,\n",
    "            X_test=X_test_shuffled,\n",
    "            num_parameters=self._num_parameters,\n",
    "            sigma=self._sigma,\n",
    "        )\n",
    "\n",
    "        return self  # Compatibility with sklearn\n",
    "\n",
    "    def _fit(self, X_train, X_test, num_parameters, sigma, alpha_0=None):\n",
    "        \"\"\" Fits the estimator with the given parameters w-hat and returns J\"\"\"\n",
    "\n",
    "        num_parameters = num_parameters\n",
    "\n",
    "        if type(num_parameters) == float:\n",
    "            num_parameters = int(X_test.shape[0] * num_parameters)\n",
    "\n",
    "        self._select_param_vectors(\n",
    "            X_test=X_test, sigma=sigma, num_parameters=num_parameters\n",
    "        )\n",
    "\n",
    "        X_train = self._reshape_X(X_train)\n",
    "        X_test = self._reshape_X(X_test)\n",
    "\n",
    "        if alpha_0 is None:\n",
    "            alpha_0 = np.ones(shape=(num_parameters, 1)) / float(num_parameters)\n",
    "\n",
    "        self._find_alpha(\n",
    "            X_train=X_train,\n",
    "            X_test=X_test,\n",
    "            num_parameters=num_parameters,\n",
    "            epsilon=self.epsilon,\n",
    "            alpha_0=alpha_0,\n",
    "            sigma=sigma,\n",
    "        )\n",
    "\n",
    "        return self._calculate_j(X_test, sigma=sigma)\n",
    "\n",
    "    def _calculate_j(self, X_test, sigma):\n",
    "        return np.log(self.predict(X_test, sigma=sigma)).sum() / X_test.shape[0]\n",
    "\n",
    "    def score(self, X_test):\n",
    "        \"\"\" Return the J score, similar to sklearn's API \"\"\"\n",
    "        return self._calculate_j(X_test=X_test, sigma=self._sigma)\n",
    "\n",
    "    @staticmethod\n",
    "    def _reshape_X(X):\n",
    "        \"\"\" Reshape input from mxn to mx1xn to take advantage of numpy broadcasting. \"\"\"\n",
    "        if len(X.shape) != 3:\n",
    "            return X.reshape((X.shape[0], 1, X.shape[1]))\n",
    "        return X\n",
    "\n",
    "    def _select_param_vectors(self, X_test, sigma, num_parameters):\n",
    "        \"\"\" X_test is the test set. b is the number of parameters. \"\"\"\n",
    "        indices = np.random.choice(X_test.shape[0], size=num_parameters, replace=False)\n",
    "        self._test_vectors = X_test[indices, :].copy()\n",
    "        self._phi_fitted = True\n",
    "\n",
    "    def _phi(self, X, sigma=None):\n",
    "\n",
    "        if sigma is None:\n",
    "            sigma = 0.01  # self._sigma\n",
    "\n",
    "        if self._phi_fitted:\n",
    "            return np.exp(\n",
    "                -np.sum((X - self._test_vectors) ** 2, axis=-1) / (2 * sigma ** 2)\n",
    "            )\n",
    "        raise Exception(\"Phi not fitted.\")\n",
    "\n",
    "    def _find_alpha(self, alpha_0, X_train, X_test, num_parameters, sigma, epsilon):\n",
    "        A = np.zeros(shape=(X_test.shape[0], num_parameters))\n",
    "        b = np.zeros(shape=(num_parameters, 1))\n",
    "\n",
    "        A = self._phi(X_test, sigma)\n",
    "        b = self._phi(X_train, sigma).sum(axis=0) / X_train.shape[0]\n",
    "        b = b.reshape((num_parameters, 1))\n",
    "\n",
    "        out = alpha_0.copy()\n",
    "        for k in range(self.max_iter):\n",
    "            out += epsilon * np.dot(np.transpose(A), 1.0 / (np.dot(A, out)))\n",
    "            out += b * (\n",
    "                ((1 - np.dot(np.transpose(b), out)) / np.dot(np.transpose(b), b))\n",
    "            )\n",
    "            out = np.maximum(0, out)\n",
    "            out /= np.dot(np.transpose(b), out)\n",
    "\n",
    "        self._alpha = out\n",
    "        self._fitted = True\n",
    "\n",
    "    def predict(self, X, sigma=None):\n",
    "        \"\"\" Equivalent of w(X) from the original paper.\"\"\"\n",
    "\n",
    "        X = self._reshape_X(X)\n",
    "        if not self._fitted:\n",
    "            raise Exception(\"Not fitted!\")\n",
    "        return np.dot(self._phi(X, sigma=sigma), self._alpha).reshape((X.shape[0],))"
   ]
  },
  {
   "cell_type": "code",
   "execution_count": 97,
   "metadata": {},
   "outputs": [
    {
     "name": "stderr",
     "output_type": "stream",
     "text": [
      "<ipython-input-90-fde615d61d8b>:189: RuntimeWarning: divide by zero encountered in true_divide\n",
      "  out += epsilon * np.dot(np.transpose(A), 1.0 / (np.dot(A, out)) )\n"
     ]
    },
    {
     "name": "stdout",
     "output_type": "stream",
     "text": [
      "{(0.1, 0.01): array([nan, nan, nan])}\n",
      "{(0.1, 0.01): nan, (0.1, 0.1): array([nan, nan, nan])}\n",
      "{(0.1, 0.01): nan, (0.1, 0.1): nan, (0.1, 0.25): array([nan, nan, nan])}\n"
     ]
    },
    {
     "name": "stderr",
     "output_type": "stream",
     "text": [
      "<ipython-input-90-fde615d61d8b>:189: RuntimeWarning: overflow encountered in true_divide\n",
      "  out += epsilon * np.dot(np.transpose(A), 1.0 / (np.dot(A, out)) )\n"
     ]
    },
    {
     "name": "stdout",
     "output_type": "stream",
     "text": [
      "{(0.1, 0.01): nan, (0.1, 0.1): nan, (0.1, 0.25): nan, (0.1, 0.5): array([nan, nan, nan])}\n",
      "{(0.1, 0.01): nan, (0.1, 0.1): nan, (0.1, 0.25): nan, (0.1, 0.5): nan, (0.1, 0.75): array([nan, nan, nan])}\n",
      "{(0.1, 0.01): nan, (0.1, 0.1): nan, (0.1, 0.25): nan, (0.1, 0.5): nan, (0.1, 0.75): nan, (0.1, 1): array([nan, nan, nan])}\n",
      "{(0.1, 0.01): nan, (0.1, 0.1): nan, (0.1, 0.25): nan, (0.1, 0.5): nan, (0.1, 0.75): nan, (0.1, 1): nan, (0.2, 0.01): array([nan, nan, nan])}\n",
      "{(0.1, 0.01): nan, (0.1, 0.1): nan, (0.1, 0.25): nan, (0.1, 0.5): nan, (0.1, 0.75): nan, (0.1, 1): nan, (0.2, 0.01): nan, (0.2, 0.1): array([nan, nan, nan])}\n",
      "{(0.1, 0.01): nan, (0.1, 0.1): nan, (0.1, 0.25): nan, (0.1, 0.5): nan, (0.1, 0.75): nan, (0.1, 1): nan, (0.2, 0.01): nan, (0.2, 0.1): nan, (0.2, 0.25): array([nan, nan, nan])}\n",
      "{(0.1, 0.01): nan, (0.1, 0.1): nan, (0.1, 0.25): nan, (0.1, 0.5): nan, (0.1, 0.75): nan, (0.1, 1): nan, (0.2, 0.01): nan, (0.2, 0.1): nan, (0.2, 0.25): nan, (0.2, 0.5): array([nan, nan, nan])}\n",
      "{(0.1, 0.01): nan, (0.1, 0.1): nan, (0.1, 0.25): nan, (0.1, 0.5): nan, (0.1, 0.75): nan, (0.1, 1): nan, (0.2, 0.01): nan, (0.2, 0.1): nan, (0.2, 0.25): nan, (0.2, 0.5): nan, (0.2, 0.75): array([nan, nan, nan])}\n",
      "{(0.1, 0.01): nan, (0.1, 0.1): nan, (0.1, 0.25): nan, (0.1, 0.5): nan, (0.1, 0.75): nan, (0.1, 1): nan, (0.2, 0.01): nan, (0.2, 0.1): nan, (0.2, 0.25): nan, (0.2, 0.5): nan, (0.2, 0.75): nan, (0.2, 1): array([nan, nan, nan])}\n"
     ]
    },
    {
     "name": "stderr",
     "output_type": "stream",
     "text": [
      "<ipython-input-90-fde615d61d8b>:104: UserWarning: LCV failed to converge for all values of sigma.\n",
      "  warnings.warn(\"LCV failed to converge for all values of sigma.\")\n"
     ]
    },
    {
     "data": {
      "application/javascript": [
       "\n",
       "            setTimeout(function() {\n",
       "                var nbb_cell_id = 97;\n",
       "                var nbb_unformatted_code = \"kliep = DensityRatioEstimator2()\\nkliep.fit(X_train, X_test)  # keyword arguments are X_train and X_test\\nweights = kliep.predict(X_train)\";\n",
       "                var nbb_formatted_code = \"kliep = DensityRatioEstimator2()\\nkliep.fit(X_train, X_test)  # keyword arguments are X_train and X_test\\nweights = kliep.predict(X_train)\";\n",
       "                var nbb_cells = Jupyter.notebook.get_cells();\n",
       "                for (var i = 0; i < nbb_cells.length; ++i) {\n",
       "                    if (nbb_cells[i].input_prompt_number == nbb_cell_id) {\n",
       "                        if (nbb_cells[i].get_text() == nbb_unformatted_code) {\n",
       "                             nbb_cells[i].set_text(nbb_formatted_code);\n",
       "                        }\n",
       "                        break;\n",
       "                    }\n",
       "                }\n",
       "            }, 500);\n",
       "            "
      ],
      "text/plain": [
       "<IPython.core.display.Javascript object>"
      ]
     },
     "metadata": {},
     "output_type": "display_data"
    }
   ],
   "source": [
    "kliep = DensityRatioEstimator2()\n",
    "kliep.fit(X_train, X_test)  # keyword arguments are X_train and X_test\n",
    "weights = kliep.predict(X_train)"
   ]
  },
  {
   "cell_type": "code",
   "execution_count": 98,
   "metadata": {},
   "outputs": [
    {
     "name": "stdout",
     "output_type": "stream",
     "text": [
      "5304\n",
      "5304\n"
     ]
    },
    {
     "data": {
      "application/javascript": [
       "\n",
       "            setTimeout(function() {\n",
       "                var nbb_cell_id = 98;\n",
       "                var nbb_unformatted_code = \"print(len(weights))\\nprint(np.sum(np.isnan(weights)))\";\n",
       "                var nbb_formatted_code = \"print(len(weights))\\nprint(np.sum(np.isnan(weights)))\";\n",
       "                var nbb_cells = Jupyter.notebook.get_cells();\n",
       "                for (var i = 0; i < nbb_cells.length; ++i) {\n",
       "                    if (nbb_cells[i].input_prompt_number == nbb_cell_id) {\n",
       "                        if (nbb_cells[i].get_text() == nbb_unformatted_code) {\n",
       "                             nbb_cells[i].set_text(nbb_formatted_code);\n",
       "                        }\n",
       "                        break;\n",
       "                    }\n",
       "                }\n",
       "            }, 500);\n",
       "            "
      ],
      "text/plain": [
       "<IPython.core.display.Javascript object>"
      ]
     },
     "metadata": {},
     "output_type": "display_data"
    }
   ],
   "source": [
    "print(len(weights))\n",
    "print(np.sum(np.isnan(weights)))"
   ]
  },
  {
   "cell_type": "code",
   "execution_count": null,
   "metadata": {},
   "outputs": [],
   "source": []
  },
  {
   "cell_type": "code",
   "execution_count": 90,
   "metadata": {
    "code_folding": [
     0
    ]
   },
   "outputs": [
    {
     "data": {
      "application/javascript": [
       "\n",
       "            setTimeout(function() {\n",
       "                var nbb_cell_id = 90;\n",
       "                var nbb_unformatted_code = \"class DensityRatioEstimator2:\\n    \\\"\\\"\\\"\\n    Class to accomplish direct density estimation implementing the original KLIEP \\n    algorithm from Direct Importance Estimation with Model Selection\\n    and Its Application to Covariate Shift Adaptation by Sugiyama et al. \\n    \\n    The training set is distributed via \\n                                            train ~ p(x)\\n    and the test set is distributed via \\n                                            test ~ q(x).\\n                                            \\n    The KLIEP algorithm and its variants approximate w(x) = q(x) / p(x) directly. The predict function returns the\\n    estimate of w(x). The function w(x) can serve as sample weights for the training set during\\n    training to modify the expectation function that the model's loss function is optimized via,\\n    i.e.\\n    \\n            E_{x ~ w(x)p(x)} loss(x) = E_{x ~ q(x)} loss(x).\\n    \\n    Usage : \\n        The fit method is used to run the KLIEP algorithm using LCV and returns value of J \\n        trained on the entire training/test set with the best sigma found. \\n\\n        Use the predict method on the training set to determine the sample weights from the KLIEP algorithm.\\n    \\\"\\\"\\\"\\n\\n    def __init__(\\n        self,\\n        max_iter=5000,\\n        num_params=[0.1, 0.2],\\n        epsilon=1e-4,\\n        cv=3,\\n        sigmas=[0.01, 0.1, 0.25, 0.5, 0.75, 1],\\n        random_state=None,\\n        verbose=0,\\n    ):\\n        \\\"\\\"\\\" \\n        Direct density estimation using an inner LCV loop to estimate the proper model. Can be used with sklearn\\n        cross validation methods with or without storing the inner CV. To use a standard grid search.\\n        \\n        \\n        max_iter : Number of iterations to perform\\n        num_params : List of number of test set vectors used to construct the approximation for inner LCV.\\n                     Must be a float. Original paper used 10%, i.e. =.1\\n        sigmas : List of sigmas to be used in inner LCV loop.\\n        epsilon : Additive factor in the iterative algorithm for numerical stability.\\n        \\\"\\\"\\\"\\n        self.max_iter = max_iter\\n        self.num_params = num_params\\n        self.epsilon = epsilon\\n        self.verbose = verbose\\n        self.sigmas = sigmas\\n        self.cv = cv\\n        self.random_state = 0\\n        #self._sigma = None\\n\\n    def fit(self, X_train, X_test, alpha_0=None):\\n        \\\"\\\"\\\" Uses cross validation to select sigma as in the original paper (LCV).\\n            In a break from sklearn convention, y=X_test.\\n            The parameter cv corresponds to R in the original paper.\\n            Once found, the best sigma is used to train on the full set.\\\"\\\"\\\"\\n\\n        # LCV loop, shuffle a copy in place for performance.\\n        cv = self.cv\\n        chunk = int(X_test.shape[0] / float(cv))\\n        if self.random_state is not None:\\n            np.random.seed(self.random_state)\\n        X_test_shuffled = X_test.copy()\\n        np.random.shuffle(X_test_shuffled)\\n\\n        j_scores = {}\\n\\n        if type(self.sigmas) != list:\\n            self.sigmas = [self.sigmas]\\n\\n        if type(self.num_params) != list:\\n            self.num_params = [self.num_params]\\n    \\n\\n        if (len(self.sigmas) * len(self.num_params)) > 1:\\n            # Inner LCV loop\\n            for num_param in self.num_params:\\n                for sigma in self.sigmas:\\n                    j_scores[(num_param, sigma)] = np.zeros(cv)\\n                    for k in range(1, cv + 1):\\n                        if self.verbose > 0:\\n                            print(\\\"Training: sigma: %s    R: %s\\\" % (sigma, k))\\n                        X_test_fold = X_test_shuffled[(k - 1) * chunk : k * chunk, :]\\n                        j_scores[(num_param, sigma)][k - 1] = self._fit(\\n                            X_train=X_train,\\n                            X_test=X_test_fold,\\n                            num_parameters=num_param,\\n                            sigma=sigma,\\n                        )\\n                        \\n                    print(j_scores)\\n                    j_scores[(num_param, sigma)] = np.mean(j_scores[(num_param, sigma)])\\n\\n            sorted_scores = sorted(\\n                [x for x in j_scores.items() if np.isfinite(x[1])], key=lambda x: x[1], reverse=True\\n            )\\n            \\n            \\n            if len(sorted_scores) == 0:\\n                warnings.warn(\\\"LCV failed to converge for all values of sigma.\\\")\\n                return self\\n            \\n            self._sigma = sorted_scores[0][0][1]\\n            self._num_parameters = sorted_scores[0][0][0]\\n            self._j_scores = sorted_scores\\n        else:\\n            self._sigma = self.sigmas[0]\\n            self._num_parameters = self.num_params[0]\\n            # best sigma\\n        self._j = self._fit(\\n            X_train=X_train,\\n            X_test=X_test_shuffled,\\n            num_parameters=self._num_parameters,\\n            sigma=self._sigma,\\n        )\\n\\n        return self  # Compatibility with sklearn\\n\\n    def _fit(self, X_train, X_test, num_parameters, sigma, alpha_0=None):\\n        \\\"\\\"\\\" Fits the estimator with the given parameters w-hat and returns J\\\"\\\"\\\"\\n\\n        num_parameters = num_parameters\\n\\n        if type(num_parameters) == float:\\n            num_parameters = int(X_test.shape[0] * num_parameters)\\n\\n        self._select_param_vectors(X_test=X_test, sigma=sigma, num_parameters=num_parameters)\\n\\n        X_train = self._reshape_X(X_train)\\n        X_test = self._reshape_X(X_test)\\n\\n        if alpha_0 is None:\\n            alpha_0 = np.ones(shape=(num_parameters, 1)) / float(num_parameters)\\n\\n        self._find_alpha(\\n            X_train=X_train,\\n            X_test=X_test,\\n            num_parameters=num_parameters,\\n            epsilon=self.epsilon,\\n            alpha_0=alpha_0,\\n            sigma=sigma,\\n        )\\n\\n        return self._calculate_j(X_test, sigma=sigma)\\n\\n    def _calculate_j(self, X_test, sigma):\\n        return np.log(self.predict(X_test, sigma=sigma)).sum() / X_test.shape[0]\\n\\n    def score(self, X_test):\\n        \\\"\\\"\\\" Return the J score, similar to sklearn's API \\\"\\\"\\\"\\n        return self._calculate_j(X_test=X_test, sigma=self._sigma)\\n\\n    @staticmethod\\n    def _reshape_X(X):\\n        \\\"\\\"\\\" Reshape input from mxn to mx1xn to take advantage of numpy broadcasting. \\\"\\\"\\\"\\n        if len(X.shape) != 3:\\n            return X.reshape((X.shape[0], 1, X.shape[1]))\\n        return X\\n\\n    def _select_param_vectors(self, X_test, sigma, num_parameters):\\n        \\\"\\\"\\\" X_test is the test set. b is the number of parameters. \\\"\\\"\\\"\\n        indices = np.random.choice(X_test.shape[0], size=num_parameters, replace=False)\\n        self._test_vectors = X_test[indices, :].copy()\\n        self._phi_fitted = True\\n\\n    def _phi(self, X, sigma=None):\\n\\n        if sigma is None:\\n            sigma = 0.01 #self._sigma\\n\\n        if self._phi_fitted:\\n            return np.exp(-np.sum((X - self._test_vectors) ** 2, axis=-1) / (2 * sigma ** 2))\\n        raise Exception(\\\"Phi not fitted.\\\")\\n\\n    def _find_alpha(self, alpha_0, X_train, X_test, num_parameters, sigma, epsilon):\\n        A = np.zeros(shape=(X_test.shape[0], num_parameters))\\n        b = np.zeros(shape=(num_parameters, 1))\\n\\n        A = self._phi(X_test, sigma)\\n        b = self._phi(X_train, sigma).sum(axis=0) / X_train.shape[0]\\n        b = b.reshape((num_parameters, 1))\\n\\n        out = alpha_0.copy()\\n        for k in range(self.max_iter):\\n            out += epsilon * np.dot(np.transpose(A), 1.0 / (np.dot(A, out)) )\\n            out += b * (((1 - np.dot(np.transpose(b), out)) / np.dot(np.transpose(b), b)))\\n            out = np.maximum(0, out)\\n            out /= np.dot(np.transpose(b), out)\\n\\n        self._alpha = out\\n        self._fitted = True\\n\\n    def predict(self, X, sigma=None):\\n        \\\"\\\"\\\" Equivalent of w(X) from the original paper.\\\"\\\"\\\"\\n\\n        X = self._reshape_X(X)\\n        if not self._fitted:\\n            raise Exception(\\\"Not fitted!\\\")\\n        return np.dot(self._phi(X, sigma=sigma), self._alpha).reshape((X.shape[0],))\";\n",
       "                var nbb_formatted_code = \"class DensityRatioEstimator2:\\n    \\\"\\\"\\\"\\n    Class to accomplish direct density estimation implementing the original KLIEP \\n    algorithm from Direct Importance Estimation with Model Selection\\n    and Its Application to Covariate Shift Adaptation by Sugiyama et al. \\n    \\n    The training set is distributed via \\n                                            train ~ p(x)\\n    and the test set is distributed via \\n                                            test ~ q(x).\\n                                            \\n    The KLIEP algorithm and its variants approximate w(x) = q(x) / p(x) directly. The predict function returns the\\n    estimate of w(x). The function w(x) can serve as sample weights for the training set during\\n    training to modify the expectation function that the model's loss function is optimized via,\\n    i.e.\\n    \\n            E_{x ~ w(x)p(x)} loss(x) = E_{x ~ q(x)} loss(x).\\n    \\n    Usage : \\n        The fit method is used to run the KLIEP algorithm using LCV and returns value of J \\n        trained on the entire training/test set with the best sigma found. \\n\\n        Use the predict method on the training set to determine the sample weights from the KLIEP algorithm.\\n    \\\"\\\"\\\"\\n\\n    def __init__(\\n        self,\\n        max_iter=5000,\\n        num_params=[0.1, 0.2],\\n        epsilon=1e-4,\\n        cv=3,\\n        sigmas=[0.01, 0.1, 0.25, 0.5, 0.75, 1],\\n        random_state=None,\\n        verbose=0,\\n    ):\\n        \\\"\\\"\\\" \\n        Direct density estimation using an inner LCV loop to estimate the proper model. Can be used with sklearn\\n        cross validation methods with or without storing the inner CV. To use a standard grid search.\\n        \\n        \\n        max_iter : Number of iterations to perform\\n        num_params : List of number of test set vectors used to construct the approximation for inner LCV.\\n                     Must be a float. Original paper used 10%, i.e. =.1\\n        sigmas : List of sigmas to be used in inner LCV loop.\\n        epsilon : Additive factor in the iterative algorithm for numerical stability.\\n        \\\"\\\"\\\"\\n        self.max_iter = max_iter\\n        self.num_params = num_params\\n        self.epsilon = epsilon\\n        self.verbose = verbose\\n        self.sigmas = sigmas\\n        self.cv = cv\\n        self.random_state = 0\\n        # self._sigma = None\\n\\n    def fit(self, X_train, X_test, alpha_0=None):\\n        \\\"\\\"\\\" Uses cross validation to select sigma as in the original paper (LCV).\\n            In a break from sklearn convention, y=X_test.\\n            The parameter cv corresponds to R in the original paper.\\n            Once found, the best sigma is used to train on the full set.\\\"\\\"\\\"\\n\\n        # LCV loop, shuffle a copy in place for performance.\\n        cv = self.cv\\n        chunk = int(X_test.shape[0] / float(cv))\\n        if self.random_state is not None:\\n            np.random.seed(self.random_state)\\n        X_test_shuffled = X_test.copy()\\n        np.random.shuffle(X_test_shuffled)\\n\\n        j_scores = {}\\n\\n        if type(self.sigmas) != list:\\n            self.sigmas = [self.sigmas]\\n\\n        if type(self.num_params) != list:\\n            self.num_params = [self.num_params]\\n\\n        if (len(self.sigmas) * len(self.num_params)) > 1:\\n            # Inner LCV loop\\n            for num_param in self.num_params:\\n                for sigma in self.sigmas:\\n                    j_scores[(num_param, sigma)] = np.zeros(cv)\\n                    for k in range(1, cv + 1):\\n                        if self.verbose > 0:\\n                            print(\\\"Training: sigma: %s    R: %s\\\" % (sigma, k))\\n                        X_test_fold = X_test_shuffled[(k - 1) * chunk : k * chunk, :]\\n                        j_scores[(num_param, sigma)][k - 1] = self._fit(\\n                            X_train=X_train,\\n                            X_test=X_test_fold,\\n                            num_parameters=num_param,\\n                            sigma=sigma,\\n                        )\\n\\n                    print(j_scores)\\n                    j_scores[(num_param, sigma)] = np.mean(j_scores[(num_param, sigma)])\\n\\n            sorted_scores = sorted(\\n                [x for x in j_scores.items() if np.isfinite(x[1])],\\n                key=lambda x: x[1],\\n                reverse=True,\\n            )\\n\\n            if len(sorted_scores) == 0:\\n                warnings.warn(\\\"LCV failed to converge for all values of sigma.\\\")\\n                return self\\n\\n            self._sigma = sorted_scores[0][0][1]\\n            self._num_parameters = sorted_scores[0][0][0]\\n            self._j_scores = sorted_scores\\n        else:\\n            self._sigma = self.sigmas[0]\\n            self._num_parameters = self.num_params[0]\\n            # best sigma\\n        self._j = self._fit(\\n            X_train=X_train,\\n            X_test=X_test_shuffled,\\n            num_parameters=self._num_parameters,\\n            sigma=self._sigma,\\n        )\\n\\n        return self  # Compatibility with sklearn\\n\\n    def _fit(self, X_train, X_test, num_parameters, sigma, alpha_0=None):\\n        \\\"\\\"\\\" Fits the estimator with the given parameters w-hat and returns J\\\"\\\"\\\"\\n\\n        num_parameters = num_parameters\\n\\n        if type(num_parameters) == float:\\n            num_parameters = int(X_test.shape[0] * num_parameters)\\n\\n        self._select_param_vectors(\\n            X_test=X_test, sigma=sigma, num_parameters=num_parameters\\n        )\\n\\n        X_train = self._reshape_X(X_train)\\n        X_test = self._reshape_X(X_test)\\n\\n        if alpha_0 is None:\\n            alpha_0 = np.ones(shape=(num_parameters, 1)) / float(num_parameters)\\n\\n        self._find_alpha(\\n            X_train=X_train,\\n            X_test=X_test,\\n            num_parameters=num_parameters,\\n            epsilon=self.epsilon,\\n            alpha_0=alpha_0,\\n            sigma=sigma,\\n        )\\n\\n        return self._calculate_j(X_test, sigma=sigma)\\n\\n    def _calculate_j(self, X_test, sigma):\\n        return np.log(self.predict(X_test, sigma=sigma)).sum() / X_test.shape[0]\\n\\n    def score(self, X_test):\\n        \\\"\\\"\\\" Return the J score, similar to sklearn's API \\\"\\\"\\\"\\n        return self._calculate_j(X_test=X_test, sigma=self._sigma)\\n\\n    @staticmethod\\n    def _reshape_X(X):\\n        \\\"\\\"\\\" Reshape input from mxn to mx1xn to take advantage of numpy broadcasting. \\\"\\\"\\\"\\n        if len(X.shape) != 3:\\n            return X.reshape((X.shape[0], 1, X.shape[1]))\\n        return X\\n\\n    def _select_param_vectors(self, X_test, sigma, num_parameters):\\n        \\\"\\\"\\\" X_test is the test set. b is the number of parameters. \\\"\\\"\\\"\\n        indices = np.random.choice(X_test.shape[0], size=num_parameters, replace=False)\\n        self._test_vectors = X_test[indices, :].copy()\\n        self._phi_fitted = True\\n\\n    def _phi(self, X, sigma=None):\\n\\n        if sigma is None:\\n            sigma = 0.01  # self._sigma\\n\\n        if self._phi_fitted:\\n            return np.exp(\\n                -np.sum((X - self._test_vectors) ** 2, axis=-1) / (2 * sigma ** 2)\\n            )\\n        raise Exception(\\\"Phi not fitted.\\\")\\n\\n    def _find_alpha(self, alpha_0, X_train, X_test, num_parameters, sigma, epsilon):\\n        A = np.zeros(shape=(X_test.shape[0], num_parameters))\\n        b = np.zeros(shape=(num_parameters, 1))\\n\\n        A = self._phi(X_test, sigma)\\n        b = self._phi(X_train, sigma).sum(axis=0) / X_train.shape[0]\\n        b = b.reshape((num_parameters, 1))\\n\\n        out = alpha_0.copy()\\n        for k in range(self.max_iter):\\n            out += epsilon * np.dot(np.transpose(A), 1.0 / (np.dot(A, out)))\\n            out += b * (\\n                ((1 - np.dot(np.transpose(b), out)) / np.dot(np.transpose(b), b))\\n            )\\n            out = np.maximum(0, out)\\n            out /= np.dot(np.transpose(b), out)\\n\\n        self._alpha = out\\n        self._fitted = True\\n\\n    def predict(self, X, sigma=None):\\n        \\\"\\\"\\\" Equivalent of w(X) from the original paper.\\\"\\\"\\\"\\n\\n        X = self._reshape_X(X)\\n        if not self._fitted:\\n            raise Exception(\\\"Not fitted!\\\")\\n        return np.dot(self._phi(X, sigma=sigma), self._alpha).reshape((X.shape[0],))\";\n",
       "                var nbb_cells = Jupyter.notebook.get_cells();\n",
       "                for (var i = 0; i < nbb_cells.length; ++i) {\n",
       "                    if (nbb_cells[i].input_prompt_number == nbb_cell_id) {\n",
       "                        if (nbb_cells[i].get_text() == nbb_unformatted_code) {\n",
       "                             nbb_cells[i].set_text(nbb_formatted_code);\n",
       "                        }\n",
       "                        break;\n",
       "                    }\n",
       "                }\n",
       "            }, 500);\n",
       "            "
      ],
      "text/plain": [
       "<IPython.core.display.Javascript object>"
      ]
     },
     "metadata": {},
     "output_type": "display_data"
    }
   ],
   "source": []
  },
  {
   "cell_type": "code",
   "execution_count": null,
   "metadata": {},
   "outputs": [],
   "source": []
  },
  {
   "cell_type": "markdown",
   "metadata": {},
   "source": [
    "## Scale data"
   ]
  },
  {
   "cell_type": "code",
   "execution_count": 19,
   "metadata": {},
   "outputs": [
    {
     "data": {
      "application/javascript": [
       "\n",
       "            setTimeout(function() {\n",
       "                var nbb_cell_id = 19;\n",
       "                var nbb_unformatted_code = \"scaler = StandardScaler()  # MinMaxScaler\\nX_train_scale = scaler.fit_transform(X_train)\\nX_test_scale = scaler.transform(X_test)\";\n",
       "                var nbb_formatted_code = \"scaler = StandardScaler()  # MinMaxScaler\\nX_train_scale = scaler.fit_transform(X_train)\\nX_test_scale = scaler.transform(X_test)\";\n",
       "                var nbb_cells = Jupyter.notebook.get_cells();\n",
       "                for (var i = 0; i < nbb_cells.length; ++i) {\n",
       "                    if (nbb_cells[i].input_prompt_number == nbb_cell_id) {\n",
       "                        if (nbb_cells[i].get_text() == nbb_unformatted_code) {\n",
       "                             nbb_cells[i].set_text(nbb_formatted_code);\n",
       "                        }\n",
       "                        break;\n",
       "                    }\n",
       "                }\n",
       "            }, 500);\n",
       "            "
      ],
      "text/plain": [
       "<IPython.core.display.Javascript object>"
      ]
     },
     "metadata": {},
     "output_type": "display_data"
    }
   ],
   "source": [
    "scaler = StandardScaler()  # MinMaxScaler\n",
    "X_train_scale = scaler.fit_transform(X_train)\n",
    "X_test_scale = scaler.transform(X_test)"
   ]
  },
  {
   "cell_type": "code",
   "execution_count": null,
   "metadata": {},
   "outputs": [],
   "source": []
  },
  {
   "cell_type": "markdown",
   "metadata": {},
   "source": [
    "## Process dataset with vulnerabilities only"
   ]
  },
  {
   "cell_type": "code",
   "execution_count": null,
   "metadata": {},
   "outputs": [],
   "source": [
    "pd_malicious_orig_features_cp = pd_malicious_orig_features.copy(deep=True)\n",
    "\n",
    "X_mal, y_mal = clean_dataset(pd_malicious_orig_features_cp)\n",
    "\n",
    "X_mal_scale = scaler.fit_transform(X_mal)"
   ]
  },
  {
   "cell_type": "code",
   "execution_count": 86,
   "metadata": {},
   "outputs": [
    {
     "name": "stdout",
     "output_type": "stream",
     "text": [
      "(485, 19) (485, 18) (485,)\n"
     ]
    },
    {
     "data": {
      "application/javascript": [
       "\n",
       "            setTimeout(function() {\n",
       "                var nbb_cell_id = 86;\n",
       "                var nbb_unformatted_code = \"pd_webgoat_features_cp = pd_webgoat_features.copy(deep=True)\\n\\nX_mal, y_mal = clean_dataset(pd_webgoat_features_cp)\\n\\nX_mal_scale = scaler.fit_transform(X_mal)\";\n",
       "                var nbb_formatted_code = \"pd_webgoat_features_cp = pd_webgoat_features.copy(deep=True)\\n\\nX_mal, y_mal = clean_dataset(pd_webgoat_features_cp)\\n\\nX_mal_scale = scaler.fit_transform(X_mal)\";\n",
       "                var nbb_cells = Jupyter.notebook.get_cells();\n",
       "                for (var i = 0; i < nbb_cells.length; ++i) {\n",
       "                    if (nbb_cells[i].input_prompt_number == nbb_cell_id) {\n",
       "                        if (nbb_cells[i].get_text() == nbb_unformatted_code) {\n",
       "                             nbb_cells[i].set_text(nbb_formatted_code);\n",
       "                        }\n",
       "                        break;\n",
       "                    }\n",
       "                }\n",
       "            }, 500);\n",
       "            "
      ],
      "text/plain": [
       "<IPython.core.display.Javascript object>"
      ]
     },
     "metadata": {},
     "output_type": "display_data"
    }
   ],
   "source": [
    "pd_webgoat_features_cp = pd_webgoat_features.copy(deep=True)\n",
    "\n",
    "X_mal, y_mal = clean_dataset(pd_webgoat_features_cp)\n",
    "\n",
    "X_mal_scale = scaler.fit_transform(X_mal)"
   ]
  },
  {
   "cell_type": "code",
   "execution_count": 69,
   "metadata": {},
   "outputs": [
    {
     "data": {
      "application/javascript": [
       "\n",
       "            setTimeout(function() {\n",
       "                var nbb_cell_id = 69;\n",
       "                var nbb_unformatted_code = \"X_dum = X_test_scale[np.where(y_test == \\\"Malicious\\\")[0]]\\n\\ny_dum = y_test[np.where(y_test == \\\"Malicious\\\")[0]]\";\n",
       "                var nbb_formatted_code = \"X_dum = X_test_scale[np.where(y_test == \\\"Malicious\\\")[0]]\\n\\ny_dum = y_test[np.where(y_test == \\\"Malicious\\\")[0]]\";\n",
       "                var nbb_cells = Jupyter.notebook.get_cells();\n",
       "                for (var i = 0; i < nbb_cells.length; ++i) {\n",
       "                    if (nbb_cells[i].input_prompt_number == nbb_cell_id) {\n",
       "                        if (nbb_cells[i].get_text() == nbb_unformatted_code) {\n",
       "                             nbb_cells[i].set_text(nbb_formatted_code);\n",
       "                        }\n",
       "                        break;\n",
       "                    }\n",
       "                }\n",
       "            }, 500);\n",
       "            "
      ],
      "text/plain": [
       "<IPython.core.display.Javascript object>"
      ]
     },
     "metadata": {},
     "output_type": "display_data"
    }
   ],
   "source": [
    "X_dum = X_test_scale[np.where(y_test == \"Malicious\")[0]]\n",
    "\n",
    "y_dum = y_test[np.where(y_test == \"Malicious\")[0]]"
   ]
  },
  {
   "cell_type": "code",
   "execution_count": null,
   "metadata": {},
   "outputs": [],
   "source": []
  },
  {
   "cell_type": "code",
   "execution_count": null,
   "metadata": {},
   "outputs": [],
   "source": []
  },
  {
   "cell_type": "markdown",
   "metadata": {},
   "source": [
    "## Logistic regression (Default)"
   ]
  },
  {
   "cell_type": "code",
   "execution_count": 21,
   "metadata": {},
   "outputs": [
    {
     "name": "stdout",
     "output_type": "stream",
     "text": [
      "Accuracy Score: 0.9939690915944214\n",
      "Confusion Matrix: \n",
      "[[2604    2]\n",
      " [  14   33]]\n",
      "Area Under Curve: 0.8506800999330514\n",
      "Recall score: 0.7021276595744681\n"
     ]
    },
    {
     "data": {
      "application/javascript": [
       "\n",
       "            setTimeout(function() {\n",
       "                var nbb_cell_id = 21;\n",
       "                var nbb_unformatted_code = \"# define model\\nlg1 = LogisticRegression(random_state=13, class_weight=None)\\n\\n# fit it\\nlg1.fit(X_train_scale, y_train)\\n\\n# test\\ny_pred = lg1.predict(X_test_scale)\\n\\ny_test2 = np.copy(y_test)\\ny_test2[np.where(y_test == \\\"Benign\\\")[0]] = 0\\ny_test2[np.where(y_test == \\\"Malicious\\\")[0]] = 1\\n\\n\\ny_pred2 = np.copy(y_pred)\\ny_pred2[np.where(y_pred == \\\"Benign\\\")[0]] = 0\\ny_pred2[np.where(y_pred == \\\"Malicious\\\")[0]] = 1\\n\\n# pehttps://towardsdatascience.com/weighted-logistic-regression-for-imbalanced-dataset-9a5cd88e68brformance\\nprint(f\\\"Accuracy Score: {accuracy_score(y_test,y_pred)}\\\")\\nprint(f\\\"Confusion Matrix: \\\\n{confusion_matrix(y_test, y_pred)}\\\")\\nprint(\\n    f\\\"Area Under Curve: {roc_auc_score(y_test2.astype('int32'), y_pred2.astype('int32'))}\\\"\\n)\\nprint(f\\\"Recall score: {recall_score(y_test2.astype('int32'), y_pred2.astype('int32'))}\\\")\";\n",
       "                var nbb_formatted_code = \"# define model\\nlg1 = LogisticRegression(random_state=13, class_weight=None)\\n\\n# fit it\\nlg1.fit(X_train_scale, y_train)\\n\\n# test\\ny_pred = lg1.predict(X_test_scale)\\n\\ny_test2 = np.copy(y_test)\\ny_test2[np.where(y_test == \\\"Benign\\\")[0]] = 0\\ny_test2[np.where(y_test == \\\"Malicious\\\")[0]] = 1\\n\\n\\ny_pred2 = np.copy(y_pred)\\ny_pred2[np.where(y_pred == \\\"Benign\\\")[0]] = 0\\ny_pred2[np.where(y_pred == \\\"Malicious\\\")[0]] = 1\\n\\n# pehttps://towardsdatascience.com/weighted-logistic-regression-for-imbalanced-dataset-9a5cd88e68brformance\\nprint(f\\\"Accuracy Score: {accuracy_score(y_test,y_pred)}\\\")\\nprint(f\\\"Confusion Matrix: \\\\n{confusion_matrix(y_test, y_pred)}\\\")\\nprint(\\n    f\\\"Area Under Curve: {roc_auc_score(y_test2.astype('int32'), y_pred2.astype('int32'))}\\\"\\n)\\nprint(f\\\"Recall score: {recall_score(y_test2.astype('int32'), y_pred2.astype('int32'))}\\\")\";\n",
       "                var nbb_cells = Jupyter.notebook.get_cells();\n",
       "                for (var i = 0; i < nbb_cells.length; ++i) {\n",
       "                    if (nbb_cells[i].input_prompt_number == nbb_cell_id) {\n",
       "                        if (nbb_cells[i].get_text() == nbb_unformatted_code) {\n",
       "                             nbb_cells[i].set_text(nbb_formatted_code);\n",
       "                        }\n",
       "                        break;\n",
       "                    }\n",
       "                }\n",
       "            }, 500);\n",
       "            "
      ],
      "text/plain": [
       "<IPython.core.display.Javascript object>"
      ]
     },
     "metadata": {},
     "output_type": "display_data"
    }
   ],
   "source": [
    "# define model\n",
    "lg1 = LogisticRegression(random_state=13, class_weight=None)\n",
    "\n",
    "# fit it\n",
    "lg1.fit(X_train_scale, y_train)\n",
    "\n",
    "# test\n",
    "y_pred = lg1.predict(X_test_scale)\n",
    "\n",
    "y_test2 = np.copy(y_test)\n",
    "y_test2[np.where(y_test == \"Benign\")[0]] = 0\n",
    "y_test2[np.where(y_test == \"Malicious\")[0]] = 1\n",
    "\n",
    "\n",
    "y_pred2 = np.copy(y_pred)\n",
    "y_pred2[np.where(y_pred == \"Benign\")[0]] = 0\n",
    "y_pred2[np.where(y_pred == \"Malicious\")[0]] = 1\n",
    "\n",
    "# pehttps://towardsdatascience.com/weighted-logistic-regression-for-imbalanced-dataset-9a5cd88e68brformance\n",
    "print(f\"Accuracy Score: {accuracy_score(y_test,y_pred)}\")\n",
    "print(f\"Confusion Matrix: \\n{confusion_matrix(y_test, y_pred)}\")\n",
    "print(\n",
    "    f\"Area Under Curve: {roc_auc_score(y_test2.astype('int32'), y_pred2.astype('int32'))}\"\n",
    ")\n",
    "print(f\"Recall score: {recall_score(y_test2.astype('int32'), y_pred2.astype('int32'))}\")"
   ]
  },
  {
   "cell_type": "code",
   "execution_count": null,
   "metadata": {},
   "outputs": [],
   "source": []
  },
  {
   "cell_type": "code",
   "execution_count": null,
   "metadata": {},
   "outputs": [],
   "source": []
  },
  {
   "cell_type": "markdown",
   "metadata": {},
   "source": [
    "## Weighted Logistic Regression - with Scaled X, y"
   ]
  },
  {
   "cell_type": "markdown",
   "metadata": {},
   "source": [
    "### https://towardsdatascience.com/weighted-logistic-regression-for-imbalanced-dataset-9a5cd88e68b"
   ]
  },
  {
   "cell_type": "markdown",
   "metadata": {},
   "source": [
    "### Test"
   ]
  },
  {
   "cell_type": "code",
   "execution_count": 22,
   "metadata": {},
   "outputs": [
    {
     "name": "stdout",
     "output_type": "stream",
     "text": [
      "Accuracy Score: 0.9668300037693177\n",
      "Confusion Matrix: \n",
      "[[2521   85]\n",
      " [   3   44]]\n",
      "Area Under Curve: 0.9517765875802159\n",
      "Recall score (Pct of true malicious detected): 93.61702127659575\n",
      "Data reduction: 4.86 percent\n",
      "Pct malicious in data sent to console: 34.11 percent\n",
      "F1 score:  0.9742920038295682\n"
     ]
    },
    {
     "name": "stderr",
     "output_type": "stream",
     "text": [
      "/Users/siddharthsatpathy/opt/anaconda3/lib/python3.8/site-packages/sklearn/svm/_base.py:976: ConvergenceWarning: Liblinear failed to converge, increase the number of iterations.\n",
      "  warnings.warn(\"Liblinear failed to converge, increase \"\n"
     ]
    },
    {
     "data": {
      "text/plain": [
       "<sklearn.metrics._plot.confusion_matrix.ConfusionMatrixDisplay at 0x7fedc0951490>"
      ]
     },
     "execution_count": 22,
     "metadata": {},
     "output_type": "execute_result"
    },
    {
     "data": {
      "image/png": "[encoded data removed]",
      "text/plain": [
       "<Figure size 432x288 with 2 Axes>"
      ]
     },
     "metadata": {
      "needs_background": "light"
     },
     "output_type": "display_data"
    },
    {
     "data": {
      "application/javascript": [
       "\n",
       "            setTimeout(function() {\n",
       "                var nbb_cell_id = 22;\n",
       "                var nbb_unformatted_code = \"# define class weights\\nw = {\\n    0: 100\\n    * np.sum(y == \\\"Malicious\\\")\\n    / (np.sum(y == \\\"Benign\\\") + np.sum(y == \\\"Malicious\\\")),\\n    1: 100 * np.sum(y == \\\"Benign\\\") / (np.sum(y == \\\"Benign\\\") + np.sum(y == \\\"Malicious\\\")),\\n}\\n\\n# define model\\nlg2 = LogisticRegression(\\n    solver=\\\"liblinear\\\",  # \\\"lbfgs\\\",\\n    penalty=\\\"l1\\\",\\n    random_state=13,\\n    class_weight=\\\"balanced\\\",\\n    max_iter=5,\\n)\\n\\n\\n# String to int for classes\\ny_train2 = np.copy(y_train)\\ny_train2[np.where(y_train == \\\"Benign\\\")[0]] = 0\\ny_train2[np.where(y_train == \\\"Malicious\\\")[0]] = 1\\n\\n\\n# fit it\\nlg2.fit(X_train_scale, y_train2.astype(\\\"int32\\\"))\\n\\n# test\\ny_pred_wt = lg2.predict(X_test_scale)\\n\\n\\ny_test2 = np.copy(y_test)\\ny_test2[np.where(y_test == \\\"Benign\\\")[0]] = 0\\ny_test2[np.where(y_test == \\\"Malicious\\\")[0]] = 1\\n\\n\\n# performance\\nconf_mat = confusion_matrix(y_test2.astype(\\\"int32\\\"), y_pred_wt)\\n\\nprint(f\\\"Accuracy Score: {accuracy_score(y_test2.astype('int32'),y_pred_wt)}\\\")\\nprint(f\\\"Confusion Matrix: \\\\n{confusion_matrix(y_test2.astype('int32'), y_pred_wt)}\\\")\\nprint(f\\\"Area Under Curve: {roc_auc_score(y_test2.astype('int32'), y_pred_wt)}\\\")\\nprint(\\n    f\\\"Recall score (Pct of true malicious detected): {100*recall_score(y_test2.astype('int32'), y_pred_wt)}\\\"\\n)\\nprint(\\n    f\\\"Data reduction: { np.round( 100.0 * conf_mat.T[1].sum() / conf_mat.sum() , 2 )} percent\\\"\\n)\\n\\nprint(\\n    f\\\"Pct malicious in data sent to console: { np.round( 100.0 * conf_mat.T[1][1] / conf_mat.T[1].sum() , 2 )} percent\\\"\\n)\\n\\nprint(\\\"F1 score: \\\", f1_score(y_test2.astype(\\\"int32\\\"), y_pred_wt, average=\\\"weighted\\\"))\\n\\nplot_confusion_matrix(lg2, X_test_scale, y_test2.astype(\\\"int32\\\"))\";\n",
       "                var nbb_formatted_code = \"# define class weights\\nw = {\\n    0: 100\\n    * np.sum(y == \\\"Malicious\\\")\\n    / (np.sum(y == \\\"Benign\\\") + np.sum(y == \\\"Malicious\\\")),\\n    1: 100 * np.sum(y == \\\"Benign\\\") / (np.sum(y == \\\"Benign\\\") + np.sum(y == \\\"Malicious\\\")),\\n}\\n\\n# define model\\nlg2 = LogisticRegression(\\n    solver=\\\"liblinear\\\",  # \\\"lbfgs\\\",\\n    penalty=\\\"l1\\\",\\n    random_state=13,\\n    class_weight=\\\"balanced\\\",\\n    max_iter=5,\\n)\\n\\n\\n# String to int for classes\\ny_train2 = np.copy(y_train)\\ny_train2[np.where(y_train == \\\"Benign\\\")[0]] = 0\\ny_train2[np.where(y_train == \\\"Malicious\\\")[0]] = 1\\n\\n\\n# fit it\\nlg2.fit(X_train_scale, y_train2.astype(\\\"int32\\\"))\\n\\n# test\\ny_pred_wt = lg2.predict(X_test_scale)\\n\\n\\ny_test2 = np.copy(y_test)\\ny_test2[np.where(y_test == \\\"Benign\\\")[0]] = 0\\ny_test2[np.where(y_test == \\\"Malicious\\\")[0]] = 1\\n\\n\\n# performance\\nconf_mat = confusion_matrix(y_test2.astype(\\\"int32\\\"), y_pred_wt)\\n\\nprint(f\\\"Accuracy Score: {accuracy_score(y_test2.astype('int32'),y_pred_wt)}\\\")\\nprint(f\\\"Confusion Matrix: \\\\n{confusion_matrix(y_test2.astype('int32'), y_pred_wt)}\\\")\\nprint(f\\\"Area Under Curve: {roc_auc_score(y_test2.astype('int32'), y_pred_wt)}\\\")\\nprint(\\n    f\\\"Recall score (Pct of true malicious detected): {100*recall_score(y_test2.astype('int32'), y_pred_wt)}\\\"\\n)\\nprint(\\n    f\\\"Data reduction: { np.round( 100.0 * conf_mat.T[1].sum() / conf_mat.sum() , 2 )} percent\\\"\\n)\\n\\nprint(\\n    f\\\"Pct malicious in data sent to console: { np.round( 100.0 * conf_mat.T[1][1] / conf_mat.T[1].sum() , 2 )} percent\\\"\\n)\\n\\nprint(\\\"F1 score: \\\", f1_score(y_test2.astype(\\\"int32\\\"), y_pred_wt, average=\\\"weighted\\\"))\\n\\nplot_confusion_matrix(lg2, X_test_scale, y_test2.astype(\\\"int32\\\"))\";\n",
       "                var nbb_cells = Jupyter.notebook.get_cells();\n",
       "                for (var i = 0; i < nbb_cells.length; ++i) {\n",
       "                    if (nbb_cells[i].input_prompt_number == nbb_cell_id) {\n",
       "                        if (nbb_cells[i].get_text() == nbb_unformatted_code) {\n",
       "                             nbb_cells[i].set_text(nbb_formatted_code);\n",
       "                        }\n",
       "                        break;\n",
       "                    }\n",
       "                }\n",
       "            }, 500);\n",
       "            "
      ],
      "text/plain": [
       "<IPython.core.display.Javascript object>"
      ]
     },
     "metadata": {},
     "output_type": "display_data"
    }
   ],
   "source": [
    "# define class weights\n",
    "w = {\n",
    "    0: 100\n",
    "    * np.sum(y == \"Malicious\")\n",
    "    / (np.sum(y == \"Benign\") + np.sum(y == \"Malicious\")),\n",
    "    1: 100 * np.sum(y == \"Benign\") / (np.sum(y == \"Benign\") + np.sum(y == \"Malicious\")),\n",
    "}\n",
    "\n",
    "# define model\n",
    "lg2 = LogisticRegression(\n",
    "    solver=\"liblinear\",  # \"lbfgs\",\n",
    "    penalty=\"l1\",\n",
    "    random_state=13,\n",
    "    class_weight=\"balanced\",\n",
    "    max_iter=5,\n",
    ")\n",
    "\n",
    "\n",
    "# String to int for classes\n",
    "y_train2 = np.copy(y_train)\n",
    "y_train2[np.where(y_train == \"Benign\")[0]] = 0\n",
    "y_train2[np.where(y_train == \"Malicious\")[0]] = 1\n",
    "\n",
    "\n",
    "# fit it\n",
    "lg2.fit(X_train_scale, y_train2.astype(\"int32\"))\n",
    "\n",
    "# test\n",
    "y_pred_wt = lg2.predict(X_test_scale)\n",
    "\n",
    "\n",
    "y_test2 = np.copy(y_test)\n",
    "y_test2[np.where(y_test == \"Benign\")[0]] = 0\n",
    "y_test2[np.where(y_test == \"Malicious\")[0]] = 1\n",
    "\n",
    "\n",
    "# performance\n",
    "conf_mat = confusion_matrix(y_test2.astype(\"int32\"), y_pred_wt)\n",
    "\n",
    "print(f\"Accuracy Score: {accuracy_score(y_test2.astype('int32'),y_pred_wt)}\")\n",
    "print(f\"Confusion Matrix: \\n{confusion_matrix(y_test2.astype('int32'), y_pred_wt)}\")\n",
    "print(f\"Area Under Curve: {roc_auc_score(y_test2.astype('int32'), y_pred_wt)}\")\n",
    "print(\n",
    "    f\"Recall score (Pct of true malicious detected): {100*recall_score(y_test2.astype('int32'), y_pred_wt)}\"\n",
    ")\n",
    "print(\n",
    "    f\"Data reduction: { np.round( 100.0 * conf_mat.T[1].sum() / conf_mat.sum() , 2 )} percent\"\n",
    ")\n",
    "\n",
    "print(\n",
    "    f\"Pct malicious in data sent to console: { np.round( 100.0 * conf_mat.T[1][1] / conf_mat.T[1].sum() , 2 )} percent\"\n",
    ")\n",
    "\n",
    "print(\"F1 score: \", f1_score(y_test2.astype(\"int32\"), y_pred_wt, average=\"weighted\"))\n",
    "\n",
    "plot_confusion_matrix(lg2, X_test_scale, y_test2.astype(\"int32\"))"
   ]
  },
  {
   "cell_type": "code",
   "execution_count": 317,
   "metadata": {},
   "outputs": [
    {
     "data": {
      "application/javascript": [
       "\n",
       "            setTimeout(function() {\n",
       "                var nbb_cell_id = 317;\n",
       "                var nbb_unformatted_code = \"np.savetxt(\\\"mean.txt\\\", scaler.mean_, delimiter=\\\",\\\")\\nnp.savetxt(\\\"std.txt\\\", scaler.scale_, delimiter=\\\",\\\")\\nnp.savetxt(\\\"weights.txt\\\", lg2.coef_[0], delimiter=\\\",\\\")\\nnp.savetxt(\\\"intercepts.txt\\\", lg2.intercept_, delimiter=\\\",\\\")\\n\\n# np.savetxt(filename, finalArray, delimiter=\\\",\\\")\";\n",
       "                var nbb_formatted_code = \"np.savetxt(\\\"mean.txt\\\", scaler.mean_, delimiter=\\\",\\\")\\nnp.savetxt(\\\"std.txt\\\", scaler.scale_, delimiter=\\\",\\\")\\nnp.savetxt(\\\"weights.txt\\\", lg2.coef_[0], delimiter=\\\",\\\")\\nnp.savetxt(\\\"intercepts.txt\\\", lg2.intercept_, delimiter=\\\",\\\")\\n\\n# np.savetxt(filename, finalArray, delimiter=\\\",\\\")\";\n",
       "                var nbb_cells = Jupyter.notebook.get_cells();\n",
       "                for (var i = 0; i < nbb_cells.length; ++i) {\n",
       "                    if (nbb_cells[i].input_prompt_number == nbb_cell_id) {\n",
       "                        if (nbb_cells[i].get_text() == nbb_unformatted_code) {\n",
       "                             nbb_cells[i].set_text(nbb_formatted_code);\n",
       "                        }\n",
       "                        break;\n",
       "                    }\n",
       "                }\n",
       "            }, 500);\n",
       "            "
      ],
      "text/plain": [
       "<IPython.core.display.Javascript object>"
      ]
     },
     "metadata": {},
     "output_type": "display_data"
    }
   ],
   "source": [
    "np.savetxt(\"mean.txt\", scaler.mean_, delimiter=\",\")\n",
    "np.savetxt(\"std.txt\", scaler.scale_, delimiter=\",\")\n",
    "np.savetxt(\"weights.txt\", lg2.coef_[0], delimiter=\",\")\n",
    "np.savetxt(\"intercepts.txt\", lg2.intercept_, delimiter=\",\")\n",
    "\n",
    "# np.savetxt(filename, finalArray, delimiter=\",\")"
   ]
  },
  {
   "cell_type": "code",
   "execution_count": 50,
   "metadata": {},
   "outputs": [
    {
     "data": {
      "text/plain": [
       "(array([ 0.09073179, -0.03229318,  0.22515854,  0.0085294 ,  0.17921507,\n",
       "         0.17299761,  0.16280228, -0.42517976,  0.04956075,  0.52144084,\n",
       "        -0.11770784, -0.17583878, -0.11079877, -0.13699668,  0.3283902 ,\n",
       "         0.04354703,  0.1357298 , -0.22102191]),\n",
       " 18,\n",
       " 18)"
      ]
     },
     "execution_count": 50,
     "metadata": {},
     "output_type": "execute_result"
    },
    {
     "data": {
      "application/javascript": [
       "\n",
       "            setTimeout(function() {\n",
       "                var nbb_cell_id = 50;\n",
       "                var nbb_unformatted_code = \"lg2.coef_[0], len(lg2.coef_[0]), len(scaler.scale_)\";\n",
       "                var nbb_formatted_code = \"lg2.coef_[0], len(lg2.coef_[0]), len(scaler.scale_)\";\n",
       "                var nbb_cells = Jupyter.notebook.get_cells();\n",
       "                for (var i = 0; i < nbb_cells.length; ++i) {\n",
       "                    if (nbb_cells[i].input_prompt_number == nbb_cell_id) {\n",
       "                        if (nbb_cells[i].get_text() == nbb_unformatted_code) {\n",
       "                             nbb_cells[i].set_text(nbb_formatted_code);\n",
       "                        }\n",
       "                        break;\n",
       "                    }\n",
       "                }\n",
       "            }, 500);\n",
       "            "
      ],
      "text/plain": [
       "<IPython.core.display.Javascript object>"
      ]
     },
     "metadata": {},
     "output_type": "display_data"
    }
   ],
   "source": [
    "lg2.coef_[0], len(lg2.coef_[0]), len(scaler.scale_)"
   ]
  },
  {
   "cell_type": "code",
   "execution_count": 52,
   "metadata": {},
   "outputs": [
    {
     "data": {
      "text/plain": [
       "0.056124596534096585"
      ]
     },
     "execution_count": 52,
     "metadata": {},
     "output_type": "execute_result"
    },
    {
     "data": {
      "application/javascript": [
       "\n",
       "            setTimeout(function() {\n",
       "                var nbb_cell_id = 52;\n",
       "                var nbb_unformatted_code = \"np.sum(np.multiply(lg2.coef_[0], np.divide((X_test[1] - scaler.mean_), scaler.scale_)))\";\n",
       "                var nbb_formatted_code = \"np.sum(np.multiply(lg2.coef_[0], np.divide((X_test[1] - scaler.mean_), scaler.scale_)))\";\n",
       "                var nbb_cells = Jupyter.notebook.get_cells();\n",
       "                for (var i = 0; i < nbb_cells.length; ++i) {\n",
       "                    if (nbb_cells[i].input_prompt_number == nbb_cell_id) {\n",
       "                        if (nbb_cells[i].get_text() == nbb_unformatted_code) {\n",
       "                             nbb_cells[i].set_text(nbb_formatted_code);\n",
       "                        }\n",
       "                        break;\n",
       "                    }\n",
       "                }\n",
       "            }, 500);\n",
       "            "
      ],
      "text/plain": [
       "<IPython.core.display.Javascript object>"
      ]
     },
     "metadata": {},
     "output_type": "display_data"
    }
   ],
   "source": [
    "np.sum(np.multiply(lg2.coef_[0], np.divide((X_test[1] - scaler.mean_), scaler.scale_)))"
   ]
  },
  {
   "cell_type": "markdown",
   "metadata": {},
   "source": [
    "### Test webgoat"
   ]
  },
  {
   "cell_type": "code",
   "execution_count": 32,
   "metadata": {},
   "outputs": [
    {
     "name": "stdout",
     "output_type": "stream",
     "text": [
      "(860, 19) (860, 18) (860,)\n"
     ]
    },
    {
     "data": {
      "application/javascript": [
       "\n",
       "            setTimeout(function() {\n",
       "                var nbb_cell_id = 32;\n",
       "                var nbb_unformatted_code = \"pd_webgoat_v4_features_cp = pd_webgoat_v4_features.copy(deep=True)\\n\\nX_webgoat, y_webgoat = clean_dataset(pd_webgoat_v4_features_cp)\\n\\nX_webgoat_scale = scaler.transform(X_webgoat)\";\n",
       "                var nbb_formatted_code = \"pd_webgoat_v4_features_cp = pd_webgoat_v4_features.copy(deep=True)\\n\\nX_webgoat, y_webgoat = clean_dataset(pd_webgoat_v4_features_cp)\\n\\nX_webgoat_scale = scaler.transform(X_webgoat)\";\n",
       "                var nbb_cells = Jupyter.notebook.get_cells();\n",
       "                for (var i = 0; i < nbb_cells.length; ++i) {\n",
       "                    if (nbb_cells[i].input_prompt_number == nbb_cell_id) {\n",
       "                        if (nbb_cells[i].get_text() == nbb_unformatted_code) {\n",
       "                             nbb_cells[i].set_text(nbb_formatted_code);\n",
       "                        }\n",
       "                        break;\n",
       "                    }\n",
       "                }\n",
       "            }, 500);\n",
       "            "
      ],
      "text/plain": [
       "<IPython.core.display.Javascript object>"
      ]
     },
     "metadata": {},
     "output_type": "display_data"
    }
   ],
   "source": [
    "pd_webgoat_v4_features_cp = pd_webgoat_v4_features.copy(deep=True)\n",
    "\n",
    "X_webgoat, y_webgoat = clean_dataset(pd_webgoat_v4_features_cp)\n",
    "\n",
    "X_webgoat_scale = scaler.transform(X_webgoat)"
   ]
  },
  {
   "cell_type": "code",
   "execution_count": 36,
   "metadata": {},
   "outputs": [
    {
     "name": "stdout",
     "output_type": "stream",
     "text": [
      "Accuracy Score: 1.0\n",
      "Confusion Matrix: \n",
      "[[860]]\n",
      "Recall score (Pct of true malicious detected): 100.0\n"
     ]
    },
    {
     "ename": "IndexError",
     "evalue": "index 1 is out of bounds for axis 0 with size 1",
     "output_type": "error",
     "traceback": [
      "\u001b[0;31m---------------------------------------------------------------------------\u001b[0m",
      "\u001b[0;31mIndexError\u001b[0m                                Traceback (most recent call last)",
      "\u001b[0;32m<ipython-input-36-7f3193daa8fe>\u001b[0m in \u001b[0;36m<module>\u001b[0;34m\u001b[0m\n\u001b[1;32m     20\u001b[0m )\n\u001b[1;32m     21\u001b[0m print(\n\u001b[0;32m---> 22\u001b[0;31m     \u001b[0;34mf\"Data reduction: { np.round( 100.0 * conf_mat.T[1].sum() / conf_mat.sum() , 2 )} percent\"\u001b[0m\u001b[0;34m\u001b[0m\u001b[0;34m\u001b[0m\u001b[0m\n\u001b[0m\u001b[1;32m     23\u001b[0m )\n\u001b[1;32m     24\u001b[0m \u001b[0;34m\u001b[0m\u001b[0m\n",
      "\u001b[0;31mIndexError\u001b[0m: index 1 is out of bounds for axis 0 with size 1"
     ]
    },
    {
     "data": {
      "application/javascript": [
       "\n",
       "            setTimeout(function() {\n",
       "                var nbb_cell_id = 36;\n",
       "                var nbb_unformatted_code = \"# test\\ny_webgoat_pred_wt = lg2.predict(X_webgoat_scale)\\n\\n\\ny_webgoat2 = np.copy(y_webgoat)\\ny_webgoat2[np.where(y_webgoat == \\\"Benign\\\")[0]] = 0\\ny_webgoat2[np.where(y_webgoat == \\\"Malicious\\\")[0]] = 1\\n\\n\\n# performance\\nconf_mat = confusion_matrix(y_webgoat2.astype(\\\"int32\\\"), y_webgoat_pred_wt)\\n\\nprint(f\\\"Accuracy Score: {accuracy_score(y_webgoat2.astype('int32'),y_webgoat_pred_wt)}\\\")\\nprint(\\n    f\\\"Confusion Matrix: \\\\n{confusion_matrix(y_webgoat2.astype('int32'), y_webgoat_pred_wt)}\\\"\\n)\\n# print(f\\\"Area Under Curve: {roc_auc_score(y_webgoat2.astype('int32'), y_webgoat_pred_wt)}\\\")\\nprint(\\n    f\\\"Recall score (Pct of true malicious detected): {100*recall_score(y_webgoat2.astype('int32'), y_webgoat_pred_wt)}\\\"\\n)\\nprint(\\n    f\\\"Data reduction: { np.round( 100.0 * conf_mat.T[1].sum() / conf_mat.sum() , 2 )} percent\\\"\\n)\\n\\nprint(\\n    f\\\"Pct malicious in data sent to console: { np.round( 100.0 * conf_mat.T[1][1] / conf_mat.T[1].sum() , 2 )} percent\\\"\\n)\\n\\nprint(\\n    \\\"F1 score: \\\",\\n    f1_score(y_webgoat2.astype(\\\"int32\\\"), y_webgoat_pred_wt, average=\\\"weighted\\\"),\\n)\\n\\nplot_confusion_matrix(lg2, X_webgoat_scale, y_webgoat2.astype(\\\"int32\\\"))\";\n",
       "                var nbb_formatted_code = \"# test\\ny_webgoat_pred_wt = lg2.predict(X_webgoat_scale)\\n\\n\\ny_webgoat2 = np.copy(y_webgoat)\\ny_webgoat2[np.where(y_webgoat == \\\"Benign\\\")[0]] = 0\\ny_webgoat2[np.where(y_webgoat == \\\"Malicious\\\")[0]] = 1\\n\\n\\n# performance\\nconf_mat = confusion_matrix(y_webgoat2.astype(\\\"int32\\\"), y_webgoat_pred_wt)\\n\\nprint(f\\\"Accuracy Score: {accuracy_score(y_webgoat2.astype('int32'),y_webgoat_pred_wt)}\\\")\\nprint(\\n    f\\\"Confusion Matrix: \\\\n{confusion_matrix(y_webgoat2.astype('int32'), y_webgoat_pred_wt)}\\\"\\n)\\n# print(f\\\"Area Under Curve: {roc_auc_score(y_webgoat2.astype('int32'), y_webgoat_pred_wt)}\\\")\\nprint(\\n    f\\\"Recall score (Pct of true malicious detected): {100*recall_score(y_webgoat2.astype('int32'), y_webgoat_pred_wt)}\\\"\\n)\\nprint(\\n    f\\\"Data reduction: { np.round( 100.0 * conf_mat.T[1].sum() / conf_mat.sum() , 2 )} percent\\\"\\n)\\n\\nprint(\\n    f\\\"Pct malicious in data sent to console: { np.round( 100.0 * conf_mat.T[1][1] / conf_mat.T[1].sum() , 2 )} percent\\\"\\n)\\n\\nprint(\\n    \\\"F1 score: \\\",\\n    f1_score(y_webgoat2.astype(\\\"int32\\\"), y_webgoat_pred_wt, average=\\\"weighted\\\"),\\n)\\n\\nplot_confusion_matrix(lg2, X_webgoat_scale, y_webgoat2.astype(\\\"int32\\\"))\";\n",
       "                var nbb_cells = Jupyter.notebook.get_cells();\n",
       "                for (var i = 0; i < nbb_cells.length; ++i) {\n",
       "                    if (nbb_cells[i].input_prompt_number == nbb_cell_id) {\n",
       "                        if (nbb_cells[i].get_text() == nbb_unformatted_code) {\n",
       "                             nbb_cells[i].set_text(nbb_formatted_code);\n",
       "                        }\n",
       "                        break;\n",
       "                    }\n",
       "                }\n",
       "            }, 500);\n",
       "            "
      ],
      "text/plain": [
       "<IPython.core.display.Javascript object>"
      ]
     },
     "metadata": {},
     "output_type": "display_data"
    }
   ],
   "source": [
    "# test\n",
    "y_webgoat_pred_wt = lg2.predict(X_webgoat_scale)\n",
    "\n",
    "\n",
    "y_webgoat2 = np.copy(y_webgoat)\n",
    "y_webgoat2[np.where(y_webgoat == \"Benign\")[0]] = 0\n",
    "y_webgoat2[np.where(y_webgoat == \"Malicious\")[0]] = 1\n",
    "\n",
    "\n",
    "# performance\n",
    "conf_mat = confusion_matrix(y_webgoat2.astype(\"int32\"), y_webgoat_pred_wt)\n",
    "\n",
    "print(f\"Accuracy Score: {accuracy_score(y_webgoat2.astype('int32'),y_webgoat_pred_wt)}\")\n",
    "print(\n",
    "    f\"Confusion Matrix: \\n{confusion_matrix(y_webgoat2.astype('int32'), y_webgoat_pred_wt)}\"\n",
    ")\n",
    "# print(f\"Area Under Curve: {roc_auc_score(y_webgoat2.astype('int32'), y_webgoat_pred_wt)}\")\n",
    "print(\n",
    "    f\"Recall score (Pct of true malicious detected): {100*recall_score(y_webgoat2.astype('int32'), y_webgoat_pred_wt)}\"\n",
    ")\n",
    "print(\n",
    "    f\"Data reduction: { np.round( 100.0 * conf_mat.T[1].sum() / conf_mat.sum() , 2 )} percent\"\n",
    ")\n",
    "\n",
    "print(\n",
    "    f\"Pct malicious in data sent to console: { np.round( 100.0 * conf_mat.T[1][1] / conf_mat.T[1].sum() , 2 )} percent\"\n",
    ")\n",
    "\n",
    "print(\n",
    "    \"F1 score: \",\n",
    "    f1_score(y_webgoat2.astype(\"int32\"), y_webgoat_pred_wt, average=\"weighted\"),\n",
    ")\n",
    "\n",
    "plot_confusion_matrix(lg2, X_webgoat_scale, y_webgoat2.astype(\"int32\"))"
   ]
  },
  {
   "cell_type": "code",
   "execution_count": 129,
   "metadata": {},
   "outputs": [
    {
     "name": "stdout",
     "output_type": "stream",
     "text": [
      "(1, 19) (1, 18) (1,)\n",
      "[1]\n",
      "0.9986786702798967 [-1.43351564e-01  1.15278158e-01  1.41640879e+00 -4.30544668e-02\n",
      " -2.74538224e-03 -2.84483104e-01 -1.70224882e-01  1.55211381e+00\n",
      "  4.88247468e-02  3.14490031e+00  1.37016072e-01  8.48847200e-01\n",
      "  2.21953757e-02  7.66257023e-03 -9.04321633e-02 -1.25025301e-02\n",
      " -7.38845691e-03  8.87299970e-02] 6.627794482273534\n"
     ]
    },
    {
     "data": {
      "application/javascript": [
       "\n",
       "            setTimeout(function() {\n",
       "                var nbb_cell_id = 129;\n",
       "                var nbb_unformatted_code = \"pd_check = pd_webgoat_v4_features[\\n    pd_webgoat_v4[\\\"fiveTuple\\\"]\\n    == \\\"138.68.177.159--198.199.96.210--TCP--8080(http-alt)--51238\\\"\\n][feature_cols]\\n\\nX_check, y_check = clean_dataset(pd_check)\\n\\nX_check_scale = scaler.transform(X_check)\\n\\nprint(lg2.predict(X_check_scale))\\n\\nindx1 = 0\\nindx2 = 0\\n# print(\\n#     sigmoid(np.sum(np.multiply(X_check_scale[indx1, :], lg2.coef_[0]))),\\n#     np.sum(np.multiply(X_check_scale[indx1, :], lg2.coef_[0])),\\n# )\\nprint(\\n    sigmoid(np.sum(np.multiply(X_check_scale[indx2, :], lg2.coef_[0]))),\\n    np.multiply(X_check_scale[indx2, :], lg2.coef_[0]), np.sum(np.multiply(X_check_scale[indx1, :], lg2.coef_[0]))\\n)\";\n",
       "                var nbb_formatted_code = \"pd_check = pd_webgoat_v4_features[\\n    pd_webgoat_v4[\\\"fiveTuple\\\"]\\n    == \\\"138.68.177.159--198.199.96.210--TCP--8080(http-alt)--51238\\\"\\n][feature_cols]\\n\\nX_check, y_check = clean_dataset(pd_check)\\n\\nX_check_scale = scaler.transform(X_check)\\n\\nprint(lg2.predict(X_check_scale))\\n\\nindx1 = 0\\nindx2 = 0\\n# print(\\n#     sigmoid(np.sum(np.multiply(X_check_scale[indx1, :], lg2.coef_[0]))),\\n#     np.sum(np.multiply(X_check_scale[indx1, :], lg2.coef_[0])),\\n# )\\nprint(\\n    sigmoid(np.sum(np.multiply(X_check_scale[indx2, :], lg2.coef_[0]))),\\n    np.multiply(X_check_scale[indx2, :], lg2.coef_[0]),\\n    np.sum(np.multiply(X_check_scale[indx1, :], lg2.coef_[0])),\\n)\";\n",
       "                var nbb_cells = Jupyter.notebook.get_cells();\n",
       "                for (var i = 0; i < nbb_cells.length; ++i) {\n",
       "                    if (nbb_cells[i].input_prompt_number == nbb_cell_id) {\n",
       "                        if (nbb_cells[i].get_text() == nbb_unformatted_code) {\n",
       "                             nbb_cells[i].set_text(nbb_formatted_code);\n",
       "                        }\n",
       "                        break;\n",
       "                    }\n",
       "                }\n",
       "            }, 500);\n",
       "            "
      ],
      "text/plain": [
       "<IPython.core.display.Javascript object>"
      ]
     },
     "metadata": {},
     "output_type": "display_data"
    }
   ],
   "source": [
    "pd_check = pd_webgoat_v4_features[\n",
    "    pd_webgoat_v4[\"fiveTuple\"]\n",
    "    == \"138.68.177.159--198.199.96.210--TCP--8080(http-alt)--51238\"\n",
    "][feature_cols]\n",
    "\n",
    "X_check, y_check = clean_dataset(pd_check)\n",
    "\n",
    "X_check_scale = scaler.transform(X_check)\n",
    "\n",
    "print(lg2.predict(X_check_scale))\n",
    "\n",
    "indx1 = 0\n",
    "indx2 = 0\n",
    "# print(\n",
    "#     sigmoid(np.sum(np.multiply(X_check_scale[indx1, :], lg2.coef_[0]))),\n",
    "#     np.sum(np.multiply(X_check_scale[indx1, :], lg2.coef_[0])),\n",
    "# )\n",
    "print(\n",
    "    sigmoid(np.sum(np.multiply(X_check_scale[indx2, :], lg2.coef_[0]))),\n",
    "    np.multiply(X_check_scale[indx2, :], lg2.coef_[0]),\n",
    "    np.sum(np.multiply(X_check_scale[indx1, :], lg2.coef_[0])),\n",
    ")"
   ]
  },
  {
   "cell_type": "code",
   "execution_count": 122,
   "metadata": {},
   "outputs": [
    {
     "data": {
      "text/plain": [
       "array([-1.57994855, -3.56973688,  6.29071774, -5.04777007, -0.01531892,\n",
       "       -1.6444337 , -1.04559275, -3.65048844,  0.98514939,  6.03117377,\n",
       "       -1.1640352 , -4.82741754, -0.2003215 , -0.05593252, -0.27538022,\n",
       "       -0.2871041 , -0.05443504, -0.40145339])"
      ]
     },
     "execution_count": 122,
     "metadata": {},
     "output_type": "execute_result"
    },
    {
     "data": {
      "application/javascript": [
       "\n",
       "            setTimeout(function() {\n",
       "                var nbb_cell_id = 122;\n",
       "                var nbb_unformatted_code = \"X_check_scale[indx2, :] \";\n",
       "                var nbb_formatted_code = \"X_check_scale[indx2, :]\";\n",
       "                var nbb_cells = Jupyter.notebook.get_cells();\n",
       "                for (var i = 0; i < nbb_cells.length; ++i) {\n",
       "                    if (nbb_cells[i].input_prompt_number == nbb_cell_id) {\n",
       "                        if (nbb_cells[i].get_text() == nbb_unformatted_code) {\n",
       "                             nbb_cells[i].set_text(nbb_formatted_code);\n",
       "                        }\n",
       "                        break;\n",
       "                    }\n",
       "                }\n",
       "            }, 500);\n",
       "            "
      ],
      "text/plain": [
       "<IPython.core.display.Javascript object>"
      ]
     },
     "metadata": {},
     "output_type": "display_data"
    }
   ],
   "source": [
    "X_check_scale[indx2, :] 0.9986786703321138 6.627794521844508"
   ]
  },
  {
   "cell_type": "code",
   "execution_count": 128,
   "metadata": {},
   "outputs": [
    {
     "data": {
      "text/html": [
       "<div>\n",
       "<style scoped>\n",
       "    .dataframe tbody tr th:only-of-type {\n",
       "        vertical-align: middle;\n",
       "    }\n",
       "\n",
       "    .dataframe tbody tr th {\n",
       "        vertical-align: top;\n",
       "    }\n",
       "\n",
       "    .dataframe thead th {\n",
       "        text-align: right;\n",
       "    }\n",
       "</style>\n",
       "<table border=\"1\" class=\"dataframe\">\n",
       "  <thead>\n",
       "    <tr style=\"text-align: right;\">\n",
       "      <th></th>\n",
       "      <th>packetSizeMean</th>\n",
       "      <th>packetSizeStd</th>\n",
       "      <th>packetSizeMin</th>\n",
       "      <th>packetSizeMax</th>\n",
       "      <th>fwdPacketSizeMean</th>\n",
       "      <th>bwdPacketSizeMean</th>\n",
       "      <th>fwdPacketSizeStd</th>\n",
       "      <th>bwdPacketSizeStd</th>\n",
       "      <th>fwdPacketSizeMin</th>\n",
       "      <th>bwdPacketSizeMin</th>\n",
       "      <th>fwdPacketSizeMax</th>\n",
       "      <th>bwdPacketSizeMax</th>\n",
       "      <th>flowLengthPerTime</th>\n",
       "      <th>fwdFlowLengthPerTime</th>\n",
       "      <th>bwdFlowLengthPerTime</th>\n",
       "      <th>packetSizeTotalPerTime</th>\n",
       "      <th>fwdPacketSizeTotalPerTime</th>\n",
       "      <th>bwdPacketSizeTotalPerTime</th>\n",
       "      <th>Type</th>\n",
       "    </tr>\n",
       "  </thead>\n",
       "  <tbody>\n",
       "    <tr>\n",
       "      <th>9</th>\n",
       "      <td>253.072289</td>\n",
       "      <td>98.843893</td>\n",
       "      <td>66.0</td>\n",
       "      <td>371.0</td>\n",
       "      <td>169.878049</td>\n",
       "      <td>334.285714</td>\n",
       "      <td>22.635171</td>\n",
       "      <td>73.86032</td>\n",
       "      <td>66.0</td>\n",
       "      <td>66.0</td>\n",
       "      <td>175.0</td>\n",
       "      <td>371.0</td>\n",
       "      <td>1.630785e-08</td>\n",
       "      <td>8.055684e-09</td>\n",
       "      <td>8.252164e-09</td>\n",
       "      <td>0.000004</td>\n",
       "      <td>0.000001</td>\n",
       "      <td>0.000003</td>\n",
       "      <td>Malicious</td>\n",
       "    </tr>\n",
       "  </tbody>\n",
       "</table>\n",
       "</div>"
      ],
      "text/plain": [
       "   packetSizeMean  packetSizeStd  packetSizeMin  packetSizeMax  \\\n",
       "9      253.072289      98.843893           66.0          371.0   \n",
       "\n",
       "   fwdPacketSizeMean  bwdPacketSizeMean  fwdPacketSizeStd  bwdPacketSizeStd  \\\n",
       "9         169.878049         334.285714         22.635171          73.86032   \n",
       "\n",
       "   fwdPacketSizeMin  bwdPacketSizeMin  fwdPacketSizeMax  bwdPacketSizeMax  \\\n",
       "9              66.0              66.0             175.0             371.0   \n",
       "\n",
       "   flowLengthPerTime  fwdFlowLengthPerTime  bwdFlowLengthPerTime  \\\n",
       "9       1.630785e-08          8.055684e-09          8.252164e-09   \n",
       "\n",
       "   packetSizeTotalPerTime  fwdPacketSizeTotalPerTime  \\\n",
       "9                0.000004                   0.000001   \n",
       "\n",
       "   bwdPacketSizeTotalPerTime       Type  \n",
       "9                   0.000003  Malicious  "
      ]
     },
     "execution_count": 128,
     "metadata": {},
     "output_type": "execute_result"
    },
    {
     "data": {
      "application/javascript": [
       "\n",
       "            setTimeout(function() {\n",
       "                var nbb_cell_id = 128;\n",
       "                var nbb_unformatted_code = \"pd_check\";\n",
       "                var nbb_formatted_code = \"pd_check\";\n",
       "                var nbb_cells = Jupyter.notebook.get_cells();\n",
       "                for (var i = 0; i < nbb_cells.length; ++i) {\n",
       "                    if (nbb_cells[i].input_prompt_number == nbb_cell_id) {\n",
       "                        if (nbb_cells[i].get_text() == nbb_unformatted_code) {\n",
       "                             nbb_cells[i].set_text(nbb_formatted_code);\n",
       "                        }\n",
       "                        break;\n",
       "                    }\n",
       "                }\n",
       "            }, 500);\n",
       "            "
      ],
      "text/plain": [
       "<IPython.core.display.Javascript object>"
      ]
     },
     "metadata": {},
     "output_type": "display_data"
    }
   ],
   "source": [
    "pd_check"
   ]
  },
  {
   "cell_type": "code",
   "execution_count": null,
   "metadata": {},
   "outputs": [],
   "source": []
  },
  {
   "cell_type": "code",
   "execution_count": null,
   "metadata": {},
   "outputs": [],
   "source": [
    "138.68.177.159--198.199.96.210--TCP--8080(http-alt)--37004\n",
    "138.68.177.159--198.199.96.210--TCP--8080(http-alt)--37206\n",
    "138.68.177.159--198.199.96.210--TCP--8080(http-alt)--35562\n",
    "138.68.177.159--198.199.96.210--TCP--8080(http-alt)--50480"
   ]
  },
  {
   "cell_type": "markdown",
   "metadata": {},
   "source": [
    "### Test Burp"
   ]
  },
  {
   "cell_type": "code",
   "execution_count": 131,
   "metadata": {},
   "outputs": [
    {
     "name": "stdout",
     "output_type": "stream",
     "text": [
      "(1950, 19) (1950, 18) (1950,)\n"
     ]
    },
    {
     "data": {
      "application/javascript": [
       "\n",
       "            setTimeout(function() {\n",
       "                var nbb_cell_id = 131;\n",
       "                var nbb_unformatted_code = \"pd_burp_features_cp = pd_burp_features.copy(deep=True)\\n\\nX_burp, y_burp = clean_dataset(pd_burp_features_cp)\\n\\nX_burp_scale = scaler.transform(X_burp)\";\n",
       "                var nbb_formatted_code = \"pd_burp_features_cp = pd_burp_features.copy(deep=True)\\n\\nX_burp, y_burp = clean_dataset(pd_burp_features_cp)\\n\\nX_burp_scale = scaler.transform(X_burp)\";\n",
       "                var nbb_cells = Jupyter.notebook.get_cells();\n",
       "                for (var i = 0; i < nbb_cells.length; ++i) {\n",
       "                    if (nbb_cells[i].input_prompt_number == nbb_cell_id) {\n",
       "                        if (nbb_cells[i].get_text() == nbb_unformatted_code) {\n",
       "                             nbb_cells[i].set_text(nbb_formatted_code);\n",
       "                        }\n",
       "                        break;\n",
       "                    }\n",
       "                }\n",
       "            }, 500);\n",
       "            "
      ],
      "text/plain": [
       "<IPython.core.display.Javascript object>"
      ]
     },
     "metadata": {},
     "output_type": "display_data"
    }
   ],
   "source": [
    "pd_burp_features_cp = pd_burp_features.copy(deep=True)\n",
    "\n",
    "X_burp, y_burp = clean_dataset(pd_burp_features_cp)\n",
    "\n",
    "X_burp_scale = scaler.transform(X_burp)"
   ]
  },
  {
   "cell_type": "code",
   "execution_count": 227,
   "metadata": {},
   "outputs": [
    {
     "data": {
      "application/javascript": [
       "\n",
       "            setTimeout(function() {\n",
       "                var nbb_cell_id = 227;\n",
       "                var nbb_unformatted_code = \"# test\\ny_burp_pred_wt = lg2.predict(X_burp_scale)\\n\\ny_burp_pred_wt_probs = lg2.predict_proba(X_burp_scale)\\n\\n\\ny_burp2 = np.copy(y_burp)\\ny_burp2[np.where(y_burp == \\\"Benign\\\")[0]] = 0\\ny_burp2[np.where(y_burp == \\\"Malicious\\\")[0]] = 1\\n\\n\\n# performance\\n# conf_mat = confusion_matrix(y_burp2, y_burp_pred_wt)\\n\\nconf_mat = confusion_matrix(y_burp2.astype(\\\"int32\\\"), y_burp_pred_wt)\\n\\n# print(f\\\"Accuracy Score: {accuracy_score(y_burp2.astype('int32'),y_burp_pred_wt)}\\\")\\n# print(\\n#     f\\\"Confusion Matrix: \\\\n{confusion_matrix(y_burp2.astype('int32'), y_burp_pred_wt)}\\\"\\n# )\\n# # print(f\\\"Area Under Curve: {roc_auc_score(y_burp2.astype('int32'), y_burp_pred_wt)}\\\")\\n# print(\\n#     f\\\"Recall score (Pct of true malicious detected): {100*recall_score(y_burp2.astype('int32'), y_burp_pred_wt)}\\\"\\n# )\\n# print(\\n#     f\\\"Data reduction: { np.round( 100.0 * conf_mat.T[1].sum() / conf_mat.sum() , 2 )} percent\\\"\\n# )\\n\\n# print(\\n#     f\\\"Pct malicious in data sent to console: { np.round( 100.0 * conf_mat.T[1][1] / conf_mat.T[1].sum() , 2 )} percent\\\"\\n# )\\n\\n# print(\\n#     \\\"F1 score: \\\", f1_score(y_burp2.astype(\\\"int32\\\"), y_burp_pred_wt, average=\\\"weighted\\\")\\n# )\\n\\n# plot_confusion_matrix(lg2, X_burp_scale, y_burp2.astype(\\\"int32\\\"))\";\n",
       "                var nbb_formatted_code = \"# test\\ny_burp_pred_wt = lg2.predict(X_burp_scale)\\n\\ny_burp_pred_wt_probs = lg2.predict_proba(X_burp_scale)\\n\\n\\ny_burp2 = np.copy(y_burp)\\ny_burp2[np.where(y_burp == \\\"Benign\\\")[0]] = 0\\ny_burp2[np.where(y_burp == \\\"Malicious\\\")[0]] = 1\\n\\n\\n# performance\\n# conf_mat = confusion_matrix(y_burp2, y_burp_pred_wt)\\n\\nconf_mat = confusion_matrix(y_burp2.astype(\\\"int32\\\"), y_burp_pred_wt)\\n\\n# print(f\\\"Accuracy Score: {accuracy_score(y_burp2.astype('int32'),y_burp_pred_wt)}\\\")\\n# print(\\n#     f\\\"Confusion Matrix: \\\\n{confusion_matrix(y_burp2.astype('int32'), y_burp_pred_wt)}\\\"\\n# )\\n# # print(f\\\"Area Under Curve: {roc_auc_score(y_burp2.astype('int32'), y_burp_pred_wt)}\\\")\\n# print(\\n#     f\\\"Recall score (Pct of true malicious detected): {100*recall_score(y_burp2.astype('int32'), y_burp_pred_wt)}\\\"\\n# )\\n# print(\\n#     f\\\"Data reduction: { np.round( 100.0 * conf_mat.T[1].sum() / conf_mat.sum() , 2 )} percent\\\"\\n# )\\n\\n# print(\\n#     f\\\"Pct malicious in data sent to console: { np.round( 100.0 * conf_mat.T[1][1] / conf_mat.T[1].sum() , 2 )} percent\\\"\\n# )\\n\\n# print(\\n#     \\\"F1 score: \\\", f1_score(y_burp2.astype(\\\"int32\\\"), y_burp_pred_wt, average=\\\"weighted\\\")\\n# )\\n\\n# plot_confusion_matrix(lg2, X_burp_scale, y_burp2.astype(\\\"int32\\\"))\";\n",
       "                var nbb_cells = Jupyter.notebook.get_cells();\n",
       "                for (var i = 0; i < nbb_cells.length; ++i) {\n",
       "                    if (nbb_cells[i].input_prompt_number == nbb_cell_id) {\n",
       "                        if (nbb_cells[i].get_text() == nbb_unformatted_code) {\n",
       "                             nbb_cells[i].set_text(nbb_formatted_code);\n",
       "                        }\n",
       "                        break;\n",
       "                    }\n",
       "                }\n",
       "            }, 500);\n",
       "            "
      ],
      "text/plain": [
       "<IPython.core.display.Javascript object>"
      ]
     },
     "metadata": {},
     "output_type": "display_data"
    }
   ],
   "source": [
    "# test\n",
    "y_burp_pred_wt = lg2.predict(X_burp_scale)\n",
    "\n",
    "y_burp_pred_wt_probs = lg2.predict_proba(X_burp_scale)\n",
    "\n",
    "\n",
    "y_burp2 = np.copy(y_burp)\n",
    "y_burp2[np.where(y_burp == \"Benign\")[0]] = 0\n",
    "y_burp2[np.where(y_burp == \"Malicious\")[0]] = 1\n",
    "\n",
    "\n",
    "# performance\n",
    "# conf_mat = confusion_matrix(y_burp2, y_burp_pred_wt)\n",
    "\n",
    "conf_mat = confusion_matrix(y_burp2.astype(\"int32\"), y_burp_pred_wt)\n",
    "\n",
    "# print(f\"Accuracy Score: {accuracy_score(y_burp2.astype('int32'),y_burp_pred_wt)}\")\n",
    "# print(\n",
    "#     f\"Confusion Matrix: \\n{confusion_matrix(y_burp2.astype('int32'), y_burp_pred_wt)}\"\n",
    "# )\n",
    "# # print(f\"Area Under Curve: {roc_auc_score(y_burp2.astype('int32'), y_burp_pred_wt)}\")\n",
    "# print(\n",
    "#     f\"Recall score (Pct of true malicious detected): {100*recall_score(y_burp2.astype('int32'), y_burp_pred_wt)}\"\n",
    "# )\n",
    "# print(\n",
    "#     f\"Data reduction: { np.round( 100.0 * conf_mat.T[1].sum() / conf_mat.sum() , 2 )} percent\"\n",
    "# )\n",
    "\n",
    "# print(\n",
    "#     f\"Pct malicious in data sent to console: { np.round( 100.0 * conf_mat.T[1][1] / conf_mat.T[1].sum() , 2 )} percent\"\n",
    "# )\n",
    "\n",
    "# print(\n",
    "#     \"F1 score: \", f1_score(y_burp2.astype(\"int32\"), y_burp_pred_wt, average=\"weighted\")\n",
    "# )\n",
    "\n",
    "# plot_confusion_matrix(lg2, X_burp_scale, y_burp2.astype(\"int32\"))"
   ]
  },
  {
   "cell_type": "code",
   "execution_count": 270,
   "metadata": {},
   "outputs": [
    {
     "data": {
      "text/plain": [
       "(array([0.17512084, 0.1717296 , 0.17350986, ..., 0.1717296 , 0.17350987,\n",
       "        0.17512078]),\n",
       " array([0.82487916, 0.8282704 , 0.82649014, ..., 0.8282704 , 0.82649013,\n",
       "        0.82487922]))"
      ]
     },
     "execution_count": 270,
     "metadata": {},
     "output_type": "execute_result"
    },
    {
     "data": {
      "application/javascript": [
       "\n",
       "            setTimeout(function() {\n",
       "                var nbb_cell_id = 270;\n",
       "                var nbb_unformatted_code = \"y_burp_pred0 = y_burp_pred_wt_probs.T[0]\\ny_burp_pred1 = y_burp_pred_wt_probs.T[1]\\n\\ny_burp_pred0 , y_burp_pred1\";\n",
       "                var nbb_formatted_code = \"y_burp_pred0 = y_burp_pred_wt_probs.T[0]\\ny_burp_pred1 = y_burp_pred_wt_probs.T[1]\\n\\ny_burp_pred0, y_burp_pred1\";\n",
       "                var nbb_cells = Jupyter.notebook.get_cells();\n",
       "                for (var i = 0; i < nbb_cells.length; ++i) {\n",
       "                    if (nbb_cells[i].input_prompt_number == nbb_cell_id) {\n",
       "                        if (nbb_cells[i].get_text() == nbb_unformatted_code) {\n",
       "                             nbb_cells[i].set_text(nbb_formatted_code);\n",
       "                        }\n",
       "                        break;\n",
       "                    }\n",
       "                }\n",
       "            }, 500);\n",
       "            "
      ],
      "text/plain": [
       "<IPython.core.display.Javascript object>"
      ]
     },
     "metadata": {},
     "output_type": "display_data"
    }
   ],
   "source": [
    "y_burp_pred0 = y_burp_pred_wt_probs.T[0]\n",
    "y_burp_pred1 = y_burp_pred_wt_probs.T[1]\n",
    "\n",
    "y_burp_pred0, y_burp_pred1"
   ]
  },
  {
   "cell_type": "code",
   "execution_count": 268,
   "metadata": {},
   "outputs": [
    {
     "data": {
      "text/plain": [
       "(array([[0.17512084, 0.82487916],\n",
       "        [0.1717296 , 0.8282704 ],\n",
       "        [0.17350986, 0.82649014],\n",
       "        ...,\n",
       "        [0.1717296 , 0.8282704 ],\n",
       "        [0.17350987, 0.82649013],\n",
       "        [0.17512078, 0.82487922]]),\n",
       " array([[0.17512084, 0.1717296 , 0.17350986, ..., 0.1717296 , 0.17350987,\n",
       "         0.17512078],\n",
       "        [0.82487916, 0.8282704 , 0.82649014, ..., 0.8282704 , 0.82649013,\n",
       "         0.82487922]]))"
      ]
     },
     "execution_count": 268,
     "metadata": {},
     "output_type": "execute_result"
    },
    {
     "data": {
      "application/javascript": [
       "\n",
       "            setTimeout(function() {\n",
       "                var nbb_cell_id = 268;\n",
       "                var nbb_unformatted_code = \"y_burp_pred_wt_probs, y_burp_pred_wt_probs.T\";\n",
       "                var nbb_formatted_code = \"y_burp_pred_wt_probs, y_burp_pred_wt_probs.T\";\n",
       "                var nbb_cells = Jupyter.notebook.get_cells();\n",
       "                for (var i = 0; i < nbb_cells.length; ++i) {\n",
       "                    if (nbb_cells[i].input_prompt_number == nbb_cell_id) {\n",
       "                        if (nbb_cells[i].get_text() == nbb_unformatted_code) {\n",
       "                             nbb_cells[i].set_text(nbb_formatted_code);\n",
       "                        }\n",
       "                        break;\n",
       "                    }\n",
       "                }\n",
       "            }, 500);\n",
       "            "
      ],
      "text/plain": [
       "<IPython.core.display.Javascript object>"
      ]
     },
     "metadata": {},
     "output_type": "display_data"
    }
   ],
   "source": [
    "y_burp_pred0 = y_burp_pred_wt_probs.T[0]\n",
    "y_burp_pred1 = y_burp_pred_wt_probs.T[1]\n",
    "\n",
    "y"
   ]
  },
  {
   "cell_type": "code",
   "execution_count": 272,
   "metadata": {},
   "outputs": [
    {
     "data": {
      "image/png": "[encoded data removed]",
      "text/plain": [
       "<Figure size 432x288 with 1 Axes>"
      ]
     },
     "metadata": {
      "needs_background": "light"
     },
     "output_type": "display_data"
    },
    {
     "data": {
      "application/javascript": [
       "\n",
       "            setTimeout(function() {\n",
       "                var nbb_cell_id = 272;\n",
       "                var nbb_unformatted_code = \"plt.scatter(y_burp_pred_wt, y_burp_pred_wt_probs.T[0])\\nplt.scatter(y_burp_pred_wt, y_burp_pred_wt_probs.T[1])\\nplt.show()\";\n",
       "                var nbb_formatted_code = \"plt.scatter(y_burp_pred_wt, y_burp_pred_wt_probs.T[0])\\nplt.scatter(y_burp_pred_wt, y_burp_pred_wt_probs.T[1])\\nplt.show()\";\n",
       "                var nbb_cells = Jupyter.notebook.get_cells();\n",
       "                for (var i = 0; i < nbb_cells.length; ++i) {\n",
       "                    if (nbb_cells[i].input_prompt_number == nbb_cell_id) {\n",
       "                        if (nbb_cells[i].get_text() == nbb_unformatted_code) {\n",
       "                             nbb_cells[i].set_text(nbb_formatted_code);\n",
       "                        }\n",
       "                        break;\n",
       "                    }\n",
       "                }\n",
       "            }, 500);\n",
       "            "
      ],
      "text/plain": [
       "<IPython.core.display.Javascript object>"
      ]
     },
     "metadata": {},
     "output_type": "display_data"
    }
   ],
   "source": [
    "plt.scatter(y_burp_pred_wt, y_burp_pred_wt_probs.T[0])\n",
    "plt.scatter(y_burp_pred_wt, y_burp_pred_wt_probs.T[1])\n",
    "plt.show()"
   ]
  },
  {
   "cell_type": "code",
   "execution_count": 249,
   "metadata": {},
   "outputs": [
    {
     "data": {
      "text/plain": [
       "((1950,), (1950, 2))"
      ]
     },
     "execution_count": 249,
     "metadata": {},
     "output_type": "execute_result"
    },
    {
     "data": {
      "application/javascript": [
       "\n",
       "            setTimeout(function() {\n",
       "                var nbb_cell_id = 249;\n",
       "                var nbb_unformatted_code = \"np.arange(len(y_burp_pred_wt_probs)).shape , y_burp_pred_wt_probs.shape\";\n",
       "                var nbb_formatted_code = \"np.arange(len(y_burp_pred_wt_probs)).shape, y_burp_pred_wt_probs.shape\";\n",
       "                var nbb_cells = Jupyter.notebook.get_cells();\n",
       "                for (var i = 0; i < nbb_cells.length; ++i) {\n",
       "                    if (nbb_cells[i].input_prompt_number == nbb_cell_id) {\n",
       "                        if (nbb_cells[i].get_text() == nbb_unformatted_code) {\n",
       "                             nbb_cells[i].set_text(nbb_formatted_code);\n",
       "                        }\n",
       "                        break;\n",
       "                    }\n",
       "                }\n",
       "            }, 500);\n",
       "            "
      ],
      "text/plain": [
       "<IPython.core.display.Javascript object>"
      ]
     },
     "metadata": {},
     "output_type": "display_data"
    }
   ],
   "source": [
    "np.arange(len(y_burp_pred_wt_probs)).shape, y_burp_pred_wt_probs.shape"
   ]
  },
  {
   "cell_type": "code",
   "execution_count": 231,
   "metadata": {},
   "outputs": [
    {
     "data": {
      "text/plain": [
       "array([0.0442198 , 0.04460107, 0.04460107, ..., 0.95539893, 0.95539893,\n",
       "       0.9557802 ])"
      ]
     },
     "execution_count": 231,
     "metadata": {},
     "output_type": "execute_result"
    },
    {
     "data": {
      "application/javascript": [
       "\n",
       "            setTimeout(function() {\n",
       "                var nbb_cell_id = 231;\n",
       "                var nbb_unformatted_code = \"np.unique(y_burp_pred_wt_probs)\";\n",
       "                var nbb_formatted_code = \"np.unique(y_burp_pred_wt_probs)\";\n",
       "                var nbb_cells = Jupyter.notebook.get_cells();\n",
       "                for (var i = 0; i < nbb_cells.length; ++i) {\n",
       "                    if (nbb_cells[i].input_prompt_number == nbb_cell_id) {\n",
       "                        if (nbb_cells[i].get_text() == nbb_unformatted_code) {\n",
       "                             nbb_cells[i].set_text(nbb_formatted_code);\n",
       "                        }\n",
       "                        break;\n",
       "                    }\n",
       "                }\n",
       "            }, 500);\n",
       "            "
      ],
      "text/plain": [
       "<IPython.core.display.Javascript object>"
      ]
     },
     "metadata": {},
     "output_type": "display_data"
    }
   ],
   "source": [
    "np.unique(y_burp_pred_wt_probs)"
   ]
  },
  {
   "cell_type": "code",
   "execution_count": 278,
   "metadata": {},
   "outputs": [
    {
     "name": "stdout",
     "output_type": "stream",
     "text": [
      "[  95  122  142  314  318  417  437  473  499  504  532  537  549  602\n",
      "  692  704  815  847  861  905  908  969 1010 1084 1149 1196 1332 1430\n",
      " 1436 1452 1483 1757 1786 1787 1793 1911 1944]\n"
     ]
    },
    {
     "data": {
      "text/plain": [
       "array([0.95497551, 0.95497552, 0.95497551, 0.95497552, 0.95497551,\n",
       "       0.95539892, 0.95385806, 0.95428789, 0.95497552, 0.95497551,\n",
       "       0.95539893, 0.95385806, 0.95539892, 0.95497551, 0.95428789,\n",
       "       0.95539893, 0.95385806, 0.95497552, 0.95539893, 0.95428789,\n",
       "       0.95539892, 0.95497552, 0.95428789, 0.95539892, 0.95497552,\n",
       "       0.95497551, 0.95497552, 0.95497551, 0.95497552, 0.95428789,\n",
       "       0.95497552, 0.9557802 , 0.95539892, 0.95385806, 0.95497552,\n",
       "       0.95497551, 0.95539893])"
      ]
     },
     "execution_count": 278,
     "metadata": {},
     "output_type": "execute_result"
    },
    {
     "data": {
      "application/javascript": [
       "\n",
       "            setTimeout(function() {\n",
       "                var nbb_cell_id = 278;\n",
       "                var nbb_unformatted_code = \"print( np.where(y_burp_pred_wt == 0)[0] )\\n\\ny_burp_pred_wt_probs.T[0][np.where(y_burp_pred_wt == 0)[0]]\";\n",
       "                var nbb_formatted_code = \"print(np.where(y_burp_pred_wt == 0)[0])\\n\\ny_burp_pred_wt_probs.T[0][np.where(y_burp_pred_wt == 0)[0]]\";\n",
       "                var nbb_cells = Jupyter.notebook.get_cells();\n",
       "                for (var i = 0; i < nbb_cells.length; ++i) {\n",
       "                    if (nbb_cells[i].input_prompt_number == nbb_cell_id) {\n",
       "                        if (nbb_cells[i].get_text() == nbb_unformatted_code) {\n",
       "                             nbb_cells[i].set_text(nbb_formatted_code);\n",
       "                        }\n",
       "                        break;\n",
       "                    }\n",
       "                }\n",
       "            }, 500);\n",
       "            "
      ],
      "text/plain": [
       "<IPython.core.display.Javascript object>"
      ]
     },
     "metadata": {},
     "output_type": "display_data"
    }
   ],
   "source": [
    "print(np.where(y_burp_pred_wt == 0)[0])\n",
    "\n",
    "y_burp_pred_wt_probs.T[0][np.where(y_burp_pred_wt == 0)[0]]"
   ]
  },
  {
   "cell_type": "code",
   "execution_count": 266,
   "metadata": {},
   "outputs": [
    {
     "data": {
      "text/plain": [
       "array([0, 1], dtype=int32)"
      ]
     },
     "execution_count": 266,
     "metadata": {},
     "output_type": "execute_result"
    },
    {
     "data": {
      "application/javascript": [
       "\n",
       "            setTimeout(function() {\n",
       "                var nbb_cell_id = 266;\n",
       "                var nbb_unformatted_code = \"np.unique(y_burp_pred_wt)\";\n",
       "                var nbb_formatted_code = \"np.unique(y_burp_pred_wt)\";\n",
       "                var nbb_cells = Jupyter.notebook.get_cells();\n",
       "                for (var i = 0; i < nbb_cells.length; ++i) {\n",
       "                    if (nbb_cells[i].input_prompt_number == nbb_cell_id) {\n",
       "                        if (nbb_cells[i].get_text() == nbb_unformatted_code) {\n",
       "                             nbb_cells[i].set_text(nbb_formatted_code);\n",
       "                        }\n",
       "                        break;\n",
       "                    }\n",
       "                }\n",
       "            }, 500);\n",
       "            "
      ],
      "text/plain": [
       "<IPython.core.display.Javascript object>"
      ]
     },
     "metadata": {},
     "output_type": "display_data"
    }
   ],
   "source": [
    "np.unique(y_burp_pred_wt)"
   ]
  },
  {
   "cell_type": "code",
   "execution_count": 149,
   "metadata": {},
   "outputs": [
    {
     "data": {
      "text/plain": [
       "array(['164.90.157.161--73.223.128.244--TCP--8080(http-alt)--53780'],\n",
       "      dtype=object)"
      ]
     },
     "execution_count": 149,
     "metadata": {},
     "output_type": "execute_result"
    },
    {
     "data": {
      "application/javascript": [
       "\n",
       "            setTimeout(function() {\n",
       "                var nbb_cell_id = 149;\n",
       "                var nbb_unformatted_code = \"kk = pd_burp[\\\"fiveTuple\\\"].unique()\\n\\nkk[ kk == \\\"164.90.157.161--73.223.128.244--TCP--8080(http-alt)--53780\\\" ]\";\n",
       "                var nbb_formatted_code = \"kk = pd_burp[\\\"fiveTuple\\\"].unique()\\n\\nkk[kk == \\\"164.90.157.161--73.223.128.244--TCP--8080(http-alt)--53780\\\"]\";\n",
       "                var nbb_cells = Jupyter.notebook.get_cells();\n",
       "                for (var i = 0; i < nbb_cells.length; ++i) {\n",
       "                    if (nbb_cells[i].input_prompt_number == nbb_cell_id) {\n",
       "                        if (nbb_cells[i].get_text() == nbb_unformatted_code) {\n",
       "                             nbb_cells[i].set_text(nbb_formatted_code);\n",
       "                        }\n",
       "                        break;\n",
       "                    }\n",
       "                }\n",
       "            }, 500);\n",
       "            "
      ],
      "text/plain": [
       "<IPython.core.display.Javascript object>"
      ]
     },
     "metadata": {},
     "output_type": "display_data"
    }
   ],
   "source": [
    "kk = pd_burp[\"fiveTuple\"].unique()\n",
    "\n",
    "kk[kk == \"164.90.157.161--73.223.128.244--TCP--8080(http-alt)--53780\"]"
   ]
  },
  {
   "cell_type": "code",
   "execution_count": 329,
   "metadata": {},
   "outputs": [
    {
     "name": "stdout",
     "output_type": "stream",
     "text": [
      "(1, 19) (1, 18) (1,)\n",
      "[[0.95385806 0.04614194]] [0]\n"
     ]
    },
    {
     "data": {
      "application/javascript": [
       "\n",
       "            setTimeout(function() {\n",
       "                var nbb_cell_id = 329;\n",
       "                var nbb_unformatted_code = \"pd_check = pd_burp_features[\\n    pd_burp[\\\"fiveTuple\\\"] == \\\"164.90.157.161--73.223.128.244--TCP--8080(http-alt)--53624\\\"\\n][feature_cols]\\n\\nX_check, y_check = clean_dataset(pd_check)\\n\\nX_check_scale = scaler.transform(X_check)\\n\\nprint(lg2.predict_proba(X_check_scale), lg2.predict(X_check_scale))\";\n",
       "                var nbb_formatted_code = \"pd_check = pd_burp_features[\\n    pd_burp[\\\"fiveTuple\\\"] == \\\"164.90.157.161--73.223.128.244--TCP--8080(http-alt)--53624\\\"\\n][feature_cols]\\n\\nX_check, y_check = clean_dataset(pd_check)\\n\\nX_check_scale = scaler.transform(X_check)\\n\\nprint(lg2.predict_proba(X_check_scale), lg2.predict(X_check_scale))\";\n",
       "                var nbb_cells = Jupyter.notebook.get_cells();\n",
       "                for (var i = 0; i < nbb_cells.length; ++i) {\n",
       "                    if (nbb_cells[i].input_prompt_number == nbb_cell_id) {\n",
       "                        if (nbb_cells[i].get_text() == nbb_unformatted_code) {\n",
       "                             nbb_cells[i].set_text(nbb_formatted_code);\n",
       "                        }\n",
       "                        break;\n",
       "                    }\n",
       "                }\n",
       "            }, 500);\n",
       "            "
      ],
      "text/plain": [
       "<IPython.core.display.Javascript object>"
      ]
     },
     "metadata": {},
     "output_type": "display_data"
    }
   ],
   "source": [
    "pd_check = pd_burp_features[\n",
    "    pd_burp[\"fiveTuple\"] == \"164.90.157.161--73.223.128.244--TCP--8080(http-alt)--53624\"\n",
    "][feature_cols]\n",
    "\n",
    "X_check, y_check = clean_dataset(pd_check)\n",
    "\n",
    "X_check_scale = scaler.transform(X_check)\n",
    "\n",
    "print(lg2.predict_proba(X_check_scale), lg2.predict(X_check_scale))\n"
   ]
  },
  {
   "cell_type": "code",
   "execution_count": 311,
   "metadata": {},
   "outputs": [
    {
     "name": "stdout",
     "output_type": "stream",
     "text": [
      "A1 0.555032847058471 3.9270328576507403 3.92703285765074\n",
      "A2 [[0.44496715 0.55503285]] [1] ['Benign']\n"
     ]
    },
    {
     "data": {
      "application/javascript": [
       "\n",
       "            setTimeout(function() {\n",
       "                var nbb_cell_id = 311;\n",
       "                var nbb_unformatted_code = \"arr = np.array(\\n    [\\n        [\\n            -1.81781296,\\n            -2.42164074,\\n            -0.13729295,\\n            -2.35991612,\\n            -0.01380899,\\n            -2.02682269,\\n            -0.03268177,\\n            -1.75908296,\\n            0.98514939,\\n            -0.12688304,\\n            -0.23441688,\\n            -2.13248545,\\n            -0.38805309,\\n            -0.25804838,\\n            -0.42524115,\\n            -0.33660912,\\n            -0.07533416,\\n            -15.275686137,\\n        ]\\n    ]\\n)\\n\\nprint(\\n    \\\"A1\\\",\\n    sigmoid( np.dot(arr, lg2.coef_[0])[0] + lg2.intercept_[0]  ),\\n    np.dot(arr, lg2.coef_[0])[0],\\n    np.sum(np.multiply(arr, lg2.coef_[0])),\\n)\\n\\nprint(\\\"A2\\\", lg2.predict_proba(arr), lg2.predict(arr), lg1.predict(arr))\\n\\n\\n# print(\\n#     sigmoid(np.sum(np.multiply(arr, lg1.coef_[0]))),\\n#     np.multiply(arr, lg1.coef_[0]),\\n#     np.sum(np.multiply(arr, lg1.coef_[0])),\\n# )\";\n",
       "                var nbb_formatted_code = \"arr = np.array(\\n    [\\n        [\\n            -1.81781296,\\n            -2.42164074,\\n            -0.13729295,\\n            -2.35991612,\\n            -0.01380899,\\n            -2.02682269,\\n            -0.03268177,\\n            -1.75908296,\\n            0.98514939,\\n            -0.12688304,\\n            -0.23441688,\\n            -2.13248545,\\n            -0.38805309,\\n            -0.25804838,\\n            -0.42524115,\\n            -0.33660912,\\n            -0.07533416,\\n            -15.275686137,\\n        ]\\n    ]\\n)\\n\\nprint(\\n    \\\"A1\\\",\\n    sigmoid(np.dot(arr, lg2.coef_[0])[0] + lg2.intercept_[0]),\\n    np.dot(arr, lg2.coef_[0])[0],\\n    np.sum(np.multiply(arr, lg2.coef_[0])),\\n)\\n\\nprint(\\\"A2\\\", lg2.predict_proba(arr), lg2.predict(arr), lg1.predict(arr))\\n\\n\\n# print(\\n#     sigmoid(np.sum(np.multiply(arr, lg1.coef_[0]))),\\n#     np.multiply(arr, lg1.coef_[0]),\\n#     np.sum(np.multiply(arr, lg1.coef_[0])),\\n# )\";\n",
       "                var nbb_cells = Jupyter.notebook.get_cells();\n",
       "                for (var i = 0; i < nbb_cells.length; ++i) {\n",
       "                    if (nbb_cells[i].input_prompt_number == nbb_cell_id) {\n",
       "                        if (nbb_cells[i].get_text() == nbb_unformatted_code) {\n",
       "                             nbb_cells[i].set_text(nbb_formatted_code);\n",
       "                        }\n",
       "                        break;\n",
       "                    }\n",
       "                }\n",
       "            }, 500);\n",
       "            "
      ],
      "text/plain": [
       "<IPython.core.display.Javascript object>"
      ]
     },
     "metadata": {},
     "output_type": "display_data"
    }
   ],
   "source": [
    "arr = np.array(\n",
    "    [\n",
    "        [\n",
    "            -1.81781296,\n",
    "            -2.42164074,\n",
    "            -0.13729295,\n",
    "            -2.35991612,\n",
    "            -0.01380899,\n",
    "            -2.02682269,\n",
    "            -0.03268177,\n",
    "            -1.75908296,\n",
    "            0.98514939,\n",
    "            -0.12688304,\n",
    "            -0.23441688,\n",
    "            -2.13248545,\n",
    "            -0.38805309,\n",
    "            -0.25804838,\n",
    "            -0.42524115,\n",
    "            -0.33660912,\n",
    "            -0.07533416,\n",
    "            -15.275686137,\n",
    "        ]\n",
    "    ]\n",
    ")\n",
    "\n",
    "print(\n",
    "    \"A1\",\n",
    "    sigmoid( np.dot(arr, lg2.coef_[0])[0] + lg2.intercept_[0]  ),\n",
    "    np.dot(arr, lg2.coef_[0])[0],\n",
    "    np.sum(np.multiply(arr, lg2.coef_[0])),\n",
    ")\n",
    "\n",
    "print(\"A2\", lg2.predict_proba(arr), lg2.predict(arr), lg1.predict(arr))\n",
    "\n",
    "\n",
    "# print(\n",
    "#     sigmoid(np.sum(np.multiply(arr, lg1.coef_[0]))),\n",
    "#     np.multiply(arr, lg1.coef_[0]),\n",
    "#     np.sum(np.multiply(arr, lg1.coef_[0])),\n",
    "# )\n",
    "\n",
    "\n"
   ]
  },
  {
   "cell_type": "code",
   "execution_count": null,
   "metadata": {},
   "outputs": [],
   "source": [
    "sigmoid( np.sum( np.multiply(arr, lg2.coef_[0]) + lg2.intercept_[0] ) )"
   ]
  },
  {
   "cell_type": "code",
   "execution_count": null,
   "metadata": {},
   "outputs": [],
   "source": []
  },
  {
   "cell_type": "code",
   "execution_count": 300,
   "metadata": {},
   "outputs": [
    {
     "data": {
      "text/plain": [
       "-3.706006027593806"
      ]
     },
     "execution_count": 300,
     "metadata": {},
     "output_type": "execute_result"
    },
    {
     "data": {
      "application/javascript": [
       "\n",
       "            setTimeout(function() {\n",
       "                var nbb_cell_id = 300;\n",
       "                var nbb_unformatted_code = \"lg2.intercept_[0]\";\n",
       "                var nbb_formatted_code = \"lg2.intercept_[0]\";\n",
       "                var nbb_cells = Jupyter.notebook.get_cells();\n",
       "                for (var i = 0; i < nbb_cells.length; ++i) {\n",
       "                    if (nbb_cells[i].input_prompt_number == nbb_cell_id) {\n",
       "                        if (nbb_cells[i].get_text() == nbb_unformatted_code) {\n",
       "                             nbb_cells[i].set_text(nbb_formatted_code);\n",
       "                        }\n",
       "                        break;\n",
       "                    }\n",
       "                }\n",
       "            }, 500);\n",
       "            "
      ],
      "text/plain": [
       "<IPython.core.display.Javascript object>"
      ]
     },
     "metadata": {},
     "output_type": "display_data"
    }
   ],
   "source": [
    "lg2.intercept_[0]"
   ]
  },
  {
   "cell_type": "code",
   "execution_count": 222,
   "metadata": {},
   "outputs": [
    {
     "data": {
      "text/plain": [
       "0.9992464791014181"
      ]
     },
     "execution_count": 222,
     "metadata": {},
     "output_type": "execute_result"
    },
    {
     "data": {
      "application/javascript": [
       "\n",
       "            setTimeout(function() {\n",
       "                var nbb_cell_id = 222;\n",
       "                var nbb_unformatted_code = \"sigmoid(7.19)\";\n",
       "                var nbb_formatted_code = \"sigmoid(7.19)\";\n",
       "                var nbb_cells = Jupyter.notebook.get_cells();\n",
       "                for (var i = 0; i < nbb_cells.length; ++i) {\n",
       "                    if (nbb_cells[i].input_prompt_number == nbb_cell_id) {\n",
       "                        if (nbb_cells[i].get_text() == nbb_unformatted_code) {\n",
       "                             nbb_cells[i].set_text(nbb_formatted_code);\n",
       "                        }\n",
       "                        break;\n",
       "                    }\n",
       "                }\n",
       "            }, 500);\n",
       "            "
      ],
      "text/plain": [
       "<IPython.core.display.Javascript object>"
      ]
     },
     "metadata": {},
     "output_type": "display_data"
    }
   ],
   "source": [
    "sigmoid(7.19)"
   ]
  },
  {
   "cell_type": "code",
   "execution_count": 256,
   "metadata": {},
   "outputs": [
    {
     "data": {
      "text/plain": [
       "{0: 1.6287750254496098, 1: 98.37122497455039}"
      ]
     },
     "execution_count": 256,
     "metadata": {},
     "output_type": "execute_result"
    },
    {
     "data": {
      "application/javascript": [
       "\n",
       "            setTimeout(function() {\n",
       "                var nbb_cell_id = 256;\n",
       "                var nbb_unformatted_code = \"w\";\n",
       "                var nbb_formatted_code = \"w\";\n",
       "                var nbb_cells = Jupyter.notebook.get_cells();\n",
       "                for (var i = 0; i < nbb_cells.length; ++i) {\n",
       "                    if (nbb_cells[i].input_prompt_number == nbb_cell_id) {\n",
       "                        if (nbb_cells[i].get_text() == nbb_unformatted_code) {\n",
       "                             nbb_cells[i].set_text(nbb_formatted_code);\n",
       "                        }\n",
       "                        break;\n",
       "                    }\n",
       "                }\n",
       "            }, 500);\n",
       "            "
      ],
      "text/plain": [
       "<IPython.core.display.Javascript object>"
      ]
     },
     "metadata": {},
     "output_type": "display_data"
    }
   ],
   "source": [
    "w"
   ]
  },
  {
   "cell_type": "code",
   "execution_count": 133,
   "metadata": {},
   "outputs": [
    {
     "data": {
      "text/plain": [
       "((array([  95,  122,  142,  314,  318,  417,  437,  473,  499,  504,  532,\n",
       "          537,  549,  602,  692,  704,  815,  847,  861,  905,  908,  969,\n",
       "         1010, 1084, 1149, 1196, 1332, 1430, 1436, 1452, 1483, 1757, 1786,\n",
       "         1787, 1793, 1911, 1944]),),\n",
       " 1950,\n",
       " (1950, 18))"
      ]
     },
     "execution_count": 133,
     "metadata": {},
     "output_type": "execute_result"
    },
    {
     "data": {
      "application/javascript": [
       "\n",
       "            setTimeout(function() {\n",
       "                var nbb_cell_id = 133;\n",
       "                var nbb_unformatted_code = \"np.where(y_burp_pred_wt == 0), len(y_burp_pred_wt), X_burp_scale.shape\";\n",
       "                var nbb_formatted_code = \"np.where(y_burp_pred_wt == 0), len(y_burp_pred_wt), X_burp_scale.shape\";\n",
       "                var nbb_cells = Jupyter.notebook.get_cells();\n",
       "                for (var i = 0; i < nbb_cells.length; ++i) {\n",
       "                    if (nbb_cells[i].input_prompt_number == nbb_cell_id) {\n",
       "                        if (nbb_cells[i].get_text() == nbb_unformatted_code) {\n",
       "                             nbb_cells[i].set_text(nbb_formatted_code);\n",
       "                        }\n",
       "                        break;\n",
       "                    }\n",
       "                }\n",
       "            }, 500);\n",
       "            "
      ],
      "text/plain": [
       "<IPython.core.display.Javascript object>"
      ]
     },
     "metadata": {},
     "output_type": "display_data"
    }
   ],
   "source": [
    "np.where(y_burp_pred_wt == 0), len(y_burp_pred_wt), X_burp_scale.shape"
   ]
  },
  {
   "cell_type": "code",
   "execution_count": 135,
   "metadata": {},
   "outputs": [
    {
     "name": "stdout",
     "output_type": "stream",
     "text": [
      "0.6573544537256099\n",
      "0.9949304686303589\n"
     ]
    },
    {
     "data": {
      "application/javascript": [
       "\n",
       "            setTimeout(function() {\n",
       "                var nbb_cell_id = 135;\n",
       "                var nbb_unformatted_code = \"indx1 = 95\\nindx2 = 94\\n\\n\\nprint(sigmoid(np.sum(np.multiply(X_burp_scale[indx1, :], lg2.coef_[0]))))\\nprint(sigmoid(np.sum(np.multiply(X_burp_scale[indx2, :], lg2.coef_[0]))))\";\n",
       "                var nbb_formatted_code = \"indx1 = 95\\nindx2 = 94\\n\\n\\nprint(sigmoid(np.sum(np.multiply(X_burp_scale[indx1, :], lg2.coef_[0]))))\\nprint(sigmoid(np.sum(np.multiply(X_burp_scale[indx2, :], lg2.coef_[0]))))\";\n",
       "                var nbb_cells = Jupyter.notebook.get_cells();\n",
       "                for (var i = 0; i < nbb_cells.length; ++i) {\n",
       "                    if (nbb_cells[i].input_prompt_number == nbb_cell_id) {\n",
       "                        if (nbb_cells[i].get_text() == nbb_unformatted_code) {\n",
       "                             nbb_cells[i].set_text(nbb_formatted_code);\n",
       "                        }\n",
       "                        break;\n",
       "                    }\n",
       "                }\n",
       "            }, 500);\n",
       "            "
      ],
      "text/plain": [
       "<IPython.core.display.Javascript object>"
      ]
     },
     "metadata": {},
     "output_type": "display_data"
    }
   ],
   "source": [
    "indx1 = 95\n",
    "indx2 = 94\n",
    "\n",
    "\n",
    "print(sigmoid(np.sum(np.multiply(X_burp_scale[indx1, :], lg2.coef_[0]))))\n",
    "print(sigmoid(np.sum(np.multiply(X_burp_scale[indx2, :], lg2.coef_[0]))))"
   ]
  },
  {
   "cell_type": "code",
   "execution_count": 75,
   "metadata": {},
   "outputs": [
    {
     "data": {
      "text/plain": [
       "array([-1.81781296, -2.42164074, -0.13729295, -2.35991612, -0.01380899,\n",
       "       -2.02682269, -0.03268177, -1.75908296,  0.98514939, -0.12688304,\n",
       "       -0.23441688, -2.13248545, -0.38805392, -0.25804936, -0.42524175,\n",
       "       -0.33660929, -0.07533426, -0.45586151])"
      ]
     },
     "execution_count": 75,
     "metadata": {},
     "output_type": "execute_result"
    },
    {
     "data": {
      "application/javascript": [
       "\n",
       "            setTimeout(function() {\n",
       "                var nbb_cell_id = 75;\n",
       "                var nbb_unformatted_code = \"X_burp_scale[95]\";\n",
       "                var nbb_formatted_code = \"X_burp_scale[95]\";\n",
       "                var nbb_cells = Jupyter.notebook.get_cells();\n",
       "                for (var i = 0; i < nbb_cells.length; ++i) {\n",
       "                    if (nbb_cells[i].input_prompt_number == nbb_cell_id) {\n",
       "                        if (nbb_cells[i].get_text() == nbb_unformatted_code) {\n",
       "                             nbb_cells[i].set_text(nbb_formatted_code);\n",
       "                        }\n",
       "                        break;\n",
       "                    }\n",
       "                }\n",
       "            }, 500);\n",
       "            "
      ],
      "text/plain": [
       "<IPython.core.display.Javascript object>"
      ]
     },
     "metadata": {},
     "output_type": "display_data"
    }
   ],
   "source": [
    "164.90.157.161--73.223.128.244--TCP--8080(http-alt)--55761"
   ]
  },
  {
   "cell_type": "code",
   "execution_count": null,
   "metadata": {},
   "outputs": [],
   "source": []
  },
  {
   "cell_type": "code",
   "execution_count": null,
   "metadata": {},
   "outputs": [],
   "source": []
  },
  {
   "cell_type": "markdown",
   "metadata": {},
   "source": [
    "### ReadyAPI Vulnerability original"
   ]
  },
  {
   "cell_type": "code",
   "execution_count": 68,
   "metadata": {},
   "outputs": [
    {
     "data": {
      "text/plain": [
       "((52, 18), (52,))"
      ]
     },
     "execution_count": 68,
     "metadata": {},
     "output_type": "execute_result"
    },
    {
     "data": {
      "application/javascript": [
       "\n",
       "            setTimeout(function() {\n",
       "                var nbb_cell_id = 68;\n",
       "                var nbb_unformatted_code = \"X_dum.shape, np.where(y_test == \\\"Malicious\\\")[0].shape\";\n",
       "                var nbb_formatted_code = \"X_dum.shape, np.where(y_test == \\\"Malicious\\\")[0].shape\";\n",
       "                var nbb_cells = Jupyter.notebook.get_cells();\n",
       "                for (var i = 0; i < nbb_cells.length; ++i) {\n",
       "                    if (nbb_cells[i].input_prompt_number == nbb_cell_id) {\n",
       "                        if (nbb_cells[i].get_text() == nbb_unformatted_code) {\n",
       "                             nbb_cells[i].set_text(nbb_formatted_code);\n",
       "                        }\n",
       "                        break;\n",
       "                    }\n",
       "                }\n",
       "            }, 500);\n",
       "            "
      ],
      "text/plain": [
       "<IPython.core.display.Javascript object>"
      ]
     },
     "metadata": {},
     "output_type": "display_data"
    }
   ],
   "source": [
    "X_dum.shape, np.where(y_test == \"Malicious\")[0].shape"
   ]
  },
  {
   "cell_type": "code",
   "execution_count": 70,
   "metadata": {
    "scrolled": true
   },
   "outputs": [
    {
     "data": {
      "text/plain": [
       "<sklearn.metrics._plot.confusion_matrix.ConfusionMatrixDisplay at 0x7f88af0dddc0>"
      ]
     },
     "execution_count": 70,
     "metadata": {},
     "output_type": "execute_result"
    },
    {
     "data": {
      "image/png": "[encoded data removed]",
      "text/plain": [
       "<Figure size 432x288 with 2 Axes>"
      ]
     },
     "metadata": {
      "needs_background": "light"
     },
     "output_type": "display_data"
    },
    {
     "data": {
      "application/javascript": [
       "\n",
       "            setTimeout(function() {\n",
       "                var nbb_cell_id = 70;\n",
       "                var nbb_unformatted_code = \"# String to int for classes\\ny_mal2 = np.copy(y_dum)\\ny_mal2[np.where(y_dum == \\\"Benign\\\")[0]] = 0\\ny_mal2[np.where(y_dum == \\\"Malicious\\\")[0]] = 1\\n\\nplot_confusion_matrix(lg2, X_dum, y_mal2.astype(\\\"int32\\\"))\";\n",
       "                var nbb_formatted_code = \"# String to int for classes\\ny_mal2 = np.copy(y_dum)\\ny_mal2[np.where(y_dum == \\\"Benign\\\")[0]] = 0\\ny_mal2[np.where(y_dum == \\\"Malicious\\\")[0]] = 1\\n\\nplot_confusion_matrix(lg2, X_dum, y_mal2.astype(\\\"int32\\\"))\";\n",
       "                var nbb_cells = Jupyter.notebook.get_cells();\n",
       "                for (var i = 0; i < nbb_cells.length; ++i) {\n",
       "                    if (nbb_cells[i].input_prompt_number == nbb_cell_id) {\n",
       "                        if (nbb_cells[i].get_text() == nbb_unformatted_code) {\n",
       "                             nbb_cells[i].set_text(nbb_formatted_code);\n",
       "                        }\n",
       "                        break;\n",
       "                    }\n",
       "                }\n",
       "            }, 500);\n",
       "            "
      ],
      "text/plain": [
       "<IPython.core.display.Javascript object>"
      ]
     },
     "metadata": {},
     "output_type": "display_data"
    }
   ],
   "source": [
    "# String to int for classes\n",
    "y_mal2 = np.copy(y_dum)\n",
    "y_mal2[np.where(y_dum == \"Benign\")[0]] = 0\n",
    "y_mal2[np.where(y_dum == \"Malicious\")[0]] = 1\n",
    "\n",
    "plot_confusion_matrix(lg2, X_dum, y_mal2.astype(\"int32\"))"
   ]
  },
  {
   "cell_type": "code",
   "execution_count": 107,
   "metadata": {},
   "outputs": [
    {
     "data": {
      "text/plain": [
       "<sklearn.metrics._plot.confusion_matrix.ConfusionMatrixDisplay at 0x7f88b27bd7f0>"
      ]
     },
     "execution_count": 107,
     "metadata": {},
     "output_type": "execute_result"
    },
    {
     "data": {
      "image/png": "[encoded data removed]",
      "text/plain": [
       "<Figure size 432x288 with 2 Axes>"
      ]
     },
     "metadata": {
      "needs_background": "light"
     },
     "output_type": "display_data"
    },
    {
     "data": {
      "application/javascript": [
       "\n",
       "            setTimeout(function() {\n",
       "                var nbb_cell_id = 107;\n",
       "                var nbb_unformatted_code = \"# String to int for classes\\ny_mal2 = np.copy(y_mal)\\ny_mal2[np.where(y_mal == \\\"Benign\\\")[0]] = 0\\ny_mal2[np.where(y_mal == \\\"Malicious\\\")[0]] = 1\\n\\nplot_confusion_matrix(lg2, X_mal_scale, y_mal2.astype(\\\"int32\\\"))\";\n",
       "                var nbb_formatted_code = \"# String to int for classes\\ny_mal2 = np.copy(y_mal)\\ny_mal2[np.where(y_mal == \\\"Benign\\\")[0]] = 0\\ny_mal2[np.where(y_mal == \\\"Malicious\\\")[0]] = 1\\n\\nplot_confusion_matrix(lg2, X_mal_scale, y_mal2.astype(\\\"int32\\\"))\";\n",
       "                var nbb_cells = Jupyter.notebook.get_cells();\n",
       "                for (var i = 0; i < nbb_cells.length; ++i) {\n",
       "                    if (nbb_cells[i].input_prompt_number == nbb_cell_id) {\n",
       "                        if (nbb_cells[i].get_text() == nbb_unformatted_code) {\n",
       "                             nbb_cells[i].set_text(nbb_formatted_code);\n",
       "                        }\n",
       "                        break;\n",
       "                    }\n",
       "                }\n",
       "            }, 500);\n",
       "            "
      ],
      "text/plain": [
       "<IPython.core.display.Javascript object>"
      ]
     },
     "metadata": {},
     "output_type": "display_data"
    }
   ],
   "source": [
    "# String to int for classes\n",
    "y_mal2 = np.copy(y_mal)\n",
    "y_mal2[np.where(y_mal == \"Benign\")[0]] = 0\n",
    "y_mal2[np.where(y_mal == \"Malicious\")[0]] = 1\n",
    "\n",
    "plot_confusion_matrix(lg2, X_mal_scale, y_mal2.astype(\"int32\"))"
   ]
  },
  {
   "cell_type": "code",
   "execution_count": null,
   "metadata": {},
   "outputs": [],
   "source": []
  },
  {
   "cell_type": "code",
   "execution_count": null,
   "metadata": {},
   "outputs": [],
   "source": []
  },
  {
   "cell_type": "code",
   "execution_count": null,
   "metadata": {},
   "outputs": [],
   "source": []
  },
  {
   "cell_type": "markdown",
   "metadata": {},
   "source": [
    "### Train"
   ]
  },
  {
   "cell_type": "code",
   "execution_count": 152,
   "metadata": {},
   "outputs": [
    {
     "data": {
      "text/plain": [
       "<sklearn.metrics._plot.confusion_matrix.ConfusionMatrixDisplay at 0x7fbd99016040>"
      ]
     },
     "execution_count": 152,
     "metadata": {},
     "output_type": "execute_result"
    },
    {
     "data": {
      "image/png": "[encoded data removed]",
      "text/plain": [
       "<Figure size 432x288 with 2 Axes>"
      ]
     },
     "metadata": {
      "needs_background": "light"
     },
     "output_type": "display_data"
    },
    {
     "data": {
      "application/javascript": [
       "\n",
       "            setTimeout(function() {\n",
       "                var nbb_cell_id = 151;\n",
       "                var nbb_unformatted_code = \"# define class weights\\nw = {\\n    0: 100\\n    * np.sum(y == \\\"Malicious\\\")\\n    / (np.sum(y == \\\"Benign\\\") + np.sum(y == \\\"Malicious\\\")),\\n    1: 100 * np.sum(y == \\\"Benign\\\") / (np.sum(y == \\\"Benign\\\") + np.sum(y == \\\"Malicious\\\")),\\n}\\n\\n# define model\\nlg2 = LogisticRegression(\\n    solver=\\\"liblinear\\\",  # \\\"lbfgs\\\",\\n    penalty=\\\"l1\\\",\\n    random_state=13,\\n    class_weight=\\\"balanced\\\",\\n    max_iter=5,\\n)\\n\\n\\n# String to int for classes\\ny_train2 = np.copy(y_train)\\ny_train2[np.where(y_train == \\\"Benign\\\")[0]] = 0\\ny_train2[np.where(y_train == \\\"Malicious\\\")[0]] = 1\\n\\n\\n# fit it\\nlg2.fit(X_train_scale, y_train2.astype(\\\"int32\\\"))\\n\\n# test\\ny_pred_wt = lg2.predict(X_test_scale)\\n\\n\\ny_test2 = np.copy(y_test)\\ny_test2[np.where(y_test == \\\"Benign\\\")[0]] = 0\\ny_test2[np.where(y_test == \\\"Malicious\\\")[0]] = 1\\n\\n\\n# performance\\nconf_mat = confusion_matrix(y_test2.astype(\\\"int32\\\"), y_pred_wt)\\n\\nprint(f\\\"Accuracy Score: {accuracy_score(y_test2.astype('int32'),y_pred_wt)}\\\")\\nprint(f\\\"Confusion Matrix: \\\\n{confusion_matrix(y_test2.astype('int32'), y_pred_wt)}\\\")\\nprint(f\\\"Area Under Curve: {roc_auc_score(y_test2.astype('int32'), y_pred_wt)}\\\")\\nprint(\\n    f\\\"Recall score (Pct of true malicious detected): {recall_score(y_test2.astype('int32'), y_pred_wt)}\\\"\\n)\\nprint(\\n    f\\\"Data reduction: { np.round( 100.0 * conf_mat.T[1].sum() / conf_mat.sum() , 2 )} percent\\\"\\n)\\n\\nprint(\\n    f\\\"Pct malicious in data sent to console: { np.round( 100.0 * conf_mat.T[1][1] / conf_mat.T[1].sum() , 2 )} percent\\\"\\n)\\n\\nprint(\\\"F1 score: \\\", f1_score(y_test2.astype(\\\"int32\\\"), y_pred_wt, average=\\\"weighted\\\"))\\n\\nplot_confusion_matrix(lg2, X_test_scale, y_test2.astype(\\\"int32\\\"))\";\n",
       "                var nbb_formatted_code = \"# define class weights\\nw = {\\n    0: 100\\n    * np.sum(y == \\\"Malicious\\\")\\n    / (np.sum(y == \\\"Benign\\\") + np.sum(y == \\\"Malicious\\\")),\\n    1: 100 * np.sum(y == \\\"Benign\\\") / (np.sum(y == \\\"Benign\\\") + np.sum(y == \\\"Malicious\\\")),\\n}\\n\\n# define model\\nlg2 = LogisticRegression(\\n    solver=\\\"liblinear\\\",  # \\\"lbfgs\\\",\\n    penalty=\\\"l1\\\",\\n    random_state=13,\\n    class_weight=\\\"balanced\\\",\\n    max_iter=5,\\n)\\n\\n\\n# String to int for classes\\ny_train2 = np.copy(y_train)\\ny_train2[np.where(y_train == \\\"Benign\\\")[0]] = 0\\ny_train2[np.where(y_train == \\\"Malicious\\\")[0]] = 1\\n\\n\\n# fit it\\nlg2.fit(X_train_scale, y_train2.astype(\\\"int32\\\"))\\n\\n# test\\ny_pred_wt = lg2.predict(X_test_scale)\\n\\n\\ny_test2 = np.copy(y_test)\\ny_test2[np.where(y_test == \\\"Benign\\\")[0]] = 0\\ny_test2[np.where(y_test == \\\"Malicious\\\")[0]] = 1\\n\\n\\n# performance\\nconf_mat = confusion_matrix(y_test2.astype(\\\"int32\\\"), y_pred_wt)\\n\\nprint(f\\\"Accuracy Score: {accuracy_score(y_test2.astype('int32'),y_pred_wt)}\\\")\\nprint(f\\\"Confusion Matrix: \\\\n{confusion_matrix(y_test2.astype('int32'), y_pred_wt)}\\\")\\nprint(f\\\"Area Under Curve: {roc_auc_score(y_test2.astype('int32'), y_pred_wt)}\\\")\\nprint(\\n    f\\\"Recall score (Pct of true malicious detected): {recall_score(y_test2.astype('int32'), y_pred_wt)}\\\"\\n)\\nprint(\\n    f\\\"Data reduction: { np.round( 100.0 * conf_mat.T[1].sum() / conf_mat.sum() , 2 )} percent\\\"\\n)\\n\\nprint(\\n    f\\\"Pct malicious in data sent to console: { np.round( 100.0 * conf_mat.T[1][1] / conf_mat.T[1].sum() , 2 )} percent\\\"\\n)\\n\\nprint(\\\"F1 score: \\\", f1_score(y_test2.astype(\\\"int32\\\"), y_pred_wt, average=\\\"weighted\\\"))\\n\\nplot_confusion_matrix(lg2, X_test_scale, y_test2.astype(\\\"int32\\\"))\";\n",
       "                var nbb_cells = Jupyter.notebook.get_cells();\n",
       "                for (var i = 0; i < nbb_cells.length; ++i) {\n",
       "                    if (nbb_cells[i].input_prompt_number == nbb_cell_id) {\n",
       "                        if (nbb_cells[i].get_text() == nbb_unformatted_code) {\n",
       "                             nbb_cells[i].set_text(nbb_formatted_code);\n",
       "                        }\n",
       "                        break;\n",
       "                    }\n",
       "                }\n",
       "            }, 500);\n",
       "            "
      ],
      "text/plain": [
       "<IPython.core.display.Javascript object>"
      ]
     },
     "metadata": {},
     "output_type": "display_data"
    }
   ],
   "source": [
    "plot_confusion_matrix(lg2, X_train_scale, y_train2.astype(\"int32\"))"
   ]
  },
  {
   "cell_type": "code",
   "execution_count": null,
   "metadata": {},
   "outputs": [],
   "source": []
  },
  {
   "cell_type": "code",
   "execution_count": null,
   "metadata": {},
   "outputs": [],
   "source": []
  },
  {
   "cell_type": "code",
   "execution_count": 30,
   "metadata": {},
   "outputs": [
    {
     "ename": "NameError",
     "evalue": "name 'X_mal_scale' is not defined",
     "output_type": "error",
     "traceback": [
      "\u001b[0;31m---------------------------------------------------------------------------\u001b[0m",
      "\u001b[0;31mNameError\u001b[0m                                 Traceback (most recent call last)",
      "\u001b[0;32m<ipython-input-30-d24a54e89644>\u001b[0m in \u001b[0;36m<module>\u001b[0;34m\u001b[0m\n\u001b[1;32m      1\u001b[0m \u001b[0;31m# test\u001b[0m\u001b[0;34m\u001b[0m\u001b[0;34m\u001b[0m\u001b[0;34m\u001b[0m\u001b[0m\n\u001b[0;32m----> 2\u001b[0;31m \u001b[0my_pred_mal_wt\u001b[0m \u001b[0;34m=\u001b[0m \u001b[0mlg2\u001b[0m\u001b[0;34m.\u001b[0m\u001b[0mpredict\u001b[0m\u001b[0;34m(\u001b[0m\u001b[0mX_mal_scale\u001b[0m\u001b[0;34m)\u001b[0m\u001b[0;34m\u001b[0m\u001b[0;34m\u001b[0m\u001b[0m\n\u001b[0m\u001b[1;32m      3\u001b[0m \u001b[0;34m\u001b[0m\u001b[0m\n\u001b[1;32m      4\u001b[0m \u001b[0;34m\u001b[0m\u001b[0m\n\u001b[1;32m      5\u001b[0m \u001b[0my_mal2\u001b[0m \u001b[0;34m=\u001b[0m \u001b[0mnp\u001b[0m\u001b[0;34m.\u001b[0m\u001b[0mcopy\u001b[0m\u001b[0;34m(\u001b[0m\u001b[0my_mal\u001b[0m\u001b[0;34m)\u001b[0m\u001b[0;34m\u001b[0m\u001b[0;34m\u001b[0m\u001b[0m\n",
      "\u001b[0;31mNameError\u001b[0m: name 'X_mal_scale' is not defined"
     ]
    },
    {
     "data": {
      "application/javascript": [
       "\n",
       "            setTimeout(function() {\n",
       "                var nbb_cell_id = 30;\n",
       "                var nbb_unformatted_code = \"# test\\ny_pred_mal_wt = lg2.predict(X_mal_scale)\\n\\n\\ny_mal2 = np.copy(y_mal)\\ny_mal2[np.where(y_mal == \\\"Benign\\\")[0]] = 0\\ny_mal2[np.where(y_mal == \\\"Malicious\\\")[0]] = 1\\n\\n# performance\\nprint(f\\\"Accuracy Score: {accuracy_score(y_mal2.astype('int32'),y_pred_mal_wt)}\\\")\\n# print(f\\\"Confusion Matrix: \\\\n{confusion_matrix(y_mal.astype('int32'), y_pred_mal_wt)}\\\")\\n# print(f\\\"Area Under Curve: {roc_auc_score(y_mal2.astype('int32'), y_pred_mal_wt)}\\\")\\nprint(f\\\"Recall score: {recall_score(y_mal2.astype('int32'), y_pred_mal_wt)}\\\")\\nprint(\\\"F1 score: \\\", f1_score(y_mal2.astype(\\\"int32\\\"), y_pred_mal_wt, average=\\\"weighted\\\"))\\n\\nplot_confusion_matrix(lg2, X_mal_scale, y_mal2.astype(\\\"int32\\\"))\";\n",
       "                var nbb_formatted_code = \"# test\\ny_pred_mal_wt = lg2.predict(X_mal_scale)\\n\\n\\ny_mal2 = np.copy(y_mal)\\ny_mal2[np.where(y_mal == \\\"Benign\\\")[0]] = 0\\ny_mal2[np.where(y_mal == \\\"Malicious\\\")[0]] = 1\\n\\n# performance\\nprint(f\\\"Accuracy Score: {accuracy_score(y_mal2.astype('int32'),y_pred_mal_wt)}\\\")\\n# print(f\\\"Confusion Matrix: \\\\n{confusion_matrix(y_mal.astype('int32'), y_pred_mal_wt)}\\\")\\n# print(f\\\"Area Under Curve: {roc_auc_score(y_mal2.astype('int32'), y_pred_mal_wt)}\\\")\\nprint(f\\\"Recall score: {recall_score(y_mal2.astype('int32'), y_pred_mal_wt)}\\\")\\nprint(\\\"F1 score: \\\", f1_score(y_mal2.astype(\\\"int32\\\"), y_pred_mal_wt, average=\\\"weighted\\\"))\\n\\nplot_confusion_matrix(lg2, X_mal_scale, y_mal2.astype(\\\"int32\\\"))\";\n",
       "                var nbb_cells = Jupyter.notebook.get_cells();\n",
       "                for (var i = 0; i < nbb_cells.length; ++i) {\n",
       "                    if (nbb_cells[i].input_prompt_number == nbb_cell_id) {\n",
       "                        if (nbb_cells[i].get_text() == nbb_unformatted_code) {\n",
       "                             nbb_cells[i].set_text(nbb_formatted_code);\n",
       "                        }\n",
       "                        break;\n",
       "                    }\n",
       "                }\n",
       "            }, 500);\n",
       "            "
      ],
      "text/plain": [
       "<IPython.core.display.Javascript object>"
      ]
     },
     "metadata": {},
     "output_type": "display_data"
    }
   ],
   "source": [
    "# test\n",
    "y_pred_mal_wt = lg2.predict(X_mal_scale)\n",
    "\n",
    "\n",
    "y_mal2 = np.copy(y_mal)\n",
    "y_mal2[np.where(y_mal == \"Benign\")[0]] = 0\n",
    "y_mal2[np.where(y_mal == \"Malicious\")[0]] = 1\n",
    "\n",
    "# performance\n",
    "print(f\"Accuracy Score: {accuracy_score(y_mal2.astype('int32'),y_pred_mal_wt)}\")\n",
    "# print(f\"Confusion Matrix: \\n{confusion_matrix(y_mal.astype('int32'), y_pred_mal_wt)}\")\n",
    "# print(f\"Area Under Curve: {roc_auc_score(y_mal2.astype('int32'), y_pred_mal_wt)}\")\n",
    "print(f\"Recall score: {recall_score(y_mal2.astype('int32'), y_pred_mal_wt)}\")\n",
    "print(\"F1 score: \", f1_score(y_mal2.astype(\"int32\"), y_pred_mal_wt, average=\"weighted\"))\n",
    "\n",
    "plot_confusion_matrix(lg2, X_mal_scale, y_mal2.astype(\"int32\"))"
   ]
  },
  {
   "cell_type": "code",
   "execution_count": null,
   "metadata": {},
   "outputs": [],
   "source": []
  },
  {
   "cell_type": "code",
   "execution_count": null,
   "metadata": {},
   "outputs": [],
   "source": []
  },
  {
   "cell_type": "code",
   "execution_count": 118,
   "metadata": {},
   "outputs": [
    {
     "name": "stdout",
     "output_type": "stream",
     "text": [
      "Accuracy Score: 0.9960272417707151\n",
      "Confusion Matrix: \n",
      "[[1730    7]\n",
      " [   0   25]]\n",
      "Area Under Curve: 0.9979850316637882\n",
      "Recall score: 1.0\n"
     ]
    },
    {
     "data": {
      "text/plain": [
       "<sklearn.metrics._plot.confusion_matrix.ConfusionMatrixDisplay at 0x7f907ca031f0>"
      ]
     },
     "execution_count": 118,
     "metadata": {},
     "output_type": "execute_result"
    },
    {
     "data": {
      "image/png": "[encoded data removed]",
      "text/plain": [
       "<Figure size 432x288 with 2 Axes>"
      ]
     },
     "metadata": {
      "needs_background": "light"
     },
     "output_type": "display_data"
    },
    {
     "data": {
      "application/javascript": [
       "\n",
       "            setTimeout(function() {\n",
       "                var nbb_cell_id = 118;\n",
       "                var nbb_unformatted_code = \"# define class weights\\nw = {\\n    0: 0.5,\\n    1: 99.5,\\n}\\n\\n# define model\\nlg2 = LogisticRegression(\\n    solver=\\\"lbfgs\\\", penalty=\\\"l2\\\", random_state=13, class_weight=w, max_iter=1000,\\n)\\n\\n\\n# String to int for classes\\ny_train2 = np.copy(y_train)\\ny_train2[np.where(y_train == \\\"Benign\\\")[0]] = 0\\ny_train2[np.where(y_train == \\\"Malicious\\\")[0]] = 1\\n\\n\\n# fit it\\nlg2.fit(X_train_scale, y_train2.astype(\\\"int32\\\"))\\n\\n# test\\ny_pred_wt = lg2.predict(X_test_scale)\\n\\n\\ny_test2 = np.copy(y_test)\\ny_test2[np.where(y_test == \\\"Benign\\\")[0]] = 0\\ny_test2[np.where(y_test == \\\"Malicious\\\")[0]] = 1\\n\\n\\n# performance\\nprint(f\\\"Accuracy Score: {accuracy_score(y_test2.astype('int32'),y_pred_wt)}\\\")\\nprint(f\\\"Confusion Matrix: \\\\n{confusion_matrix(y_test2.astype('int32'), y_pred_wt)}\\\")\\nprint(f\\\"Area Under Curve: {roc_auc_score(y_test2.astype('int32'), y_pred_wt)}\\\")\\nprint(f\\\"Recall score: {recall_score(y_test2.astype('int32'), y_pred_wt)}\\\")\\n\\nplot_confusion_matrix(lg2, X_test_scale, y_test2.astype(\\\"int32\\\"))\";\n",
       "                var nbb_formatted_code = \"# define class weights\\nw = {\\n    0: 0.5,\\n    1: 99.5,\\n}\\n\\n# define model\\nlg2 = LogisticRegression(\\n    solver=\\\"lbfgs\\\", penalty=\\\"l2\\\", random_state=13, class_weight=w, max_iter=1000,\\n)\\n\\n\\n# String to int for classes\\ny_train2 = np.copy(y_train)\\ny_train2[np.where(y_train == \\\"Benign\\\")[0]] = 0\\ny_train2[np.where(y_train == \\\"Malicious\\\")[0]] = 1\\n\\n\\n# fit it\\nlg2.fit(X_train_scale, y_train2.astype(\\\"int32\\\"))\\n\\n# test\\ny_pred_wt = lg2.predict(X_test_scale)\\n\\n\\ny_test2 = np.copy(y_test)\\ny_test2[np.where(y_test == \\\"Benign\\\")[0]] = 0\\ny_test2[np.where(y_test == \\\"Malicious\\\")[0]] = 1\\n\\n\\n# performance\\nprint(f\\\"Accuracy Score: {accuracy_score(y_test2.astype('int32'),y_pred_wt)}\\\")\\nprint(f\\\"Confusion Matrix: \\\\n{confusion_matrix(y_test2.astype('int32'), y_pred_wt)}\\\")\\nprint(f\\\"Area Under Curve: {roc_auc_score(y_test2.astype('int32'), y_pred_wt)}\\\")\\nprint(f\\\"Recall score: {recall_score(y_test2.astype('int32'), y_pred_wt)}\\\")\\n\\nplot_confusion_matrix(lg2, X_test_scale, y_test2.astype(\\\"int32\\\"))\";\n",
       "                var nbb_cells = Jupyter.notebook.get_cells();\n",
       "                for (var i = 0; i < nbb_cells.length; ++i) {\n",
       "                    if (nbb_cells[i].input_prompt_number == nbb_cell_id) {\n",
       "                        if (nbb_cells[i].get_text() == nbb_unformatted_code) {\n",
       "                             nbb_cells[i].set_text(nbb_formatted_code);\n",
       "                        }\n",
       "                        break;\n",
       "                    }\n",
       "                }\n",
       "            }, 500);\n",
       "            "
      ],
      "text/plain": [
       "<IPython.core.display.Javascript object>"
      ]
     },
     "metadata": {},
     "output_type": "display_data"
    }
   ],
   "source": [
    "# define class weights\n",
    "w = {\n",
    "    0: 0.5,\n",
    "    1: 99.5,\n",
    "}\n",
    "\n",
    "# define model\n",
    "lg2 = LogisticRegression(\n",
    "    solver=\"lbfgs\", penalty=\"l2\", random_state=13, class_weight=w, max_iter=1000,\n",
    ")\n",
    "\n",
    "\n",
    "# String to int for classes\n",
    "y_train2 = np.copy(y_train)\n",
    "y_train2[np.where(y_train == \"Benign\")[0]] = 0\n",
    "y_train2[np.where(y_train == \"Malicious\")[0]] = 1\n",
    "\n",
    "\n",
    "# fit it\n",
    "lg2.fit(X_train_scale, y_train2.astype(\"int32\"))\n",
    "\n",
    "# test\n",
    "y_pred_wt = lg2.predict(X_test_scale)\n",
    "\n",
    "\n",
    "y_test2 = np.copy(y_test)\n",
    "y_test2[np.where(y_test == \"Benign\")[0]] = 0\n",
    "y_test2[np.where(y_test == \"Malicious\")[0]] = 1\n",
    "\n",
    "\n",
    "# performance\n",
    "print(f\"Accuracy Score: {accuracy_score(y_test2.astype('int32'),y_pred_wt)}\")\n",
    "print(f\"Confusion Matrix: \\n{confusion_matrix(y_test2.astype('int32'), y_pred_wt)}\")\n",
    "print(f\"Area Under Curve: {roc_auc_score(y_test2.astype('int32'), y_pred_wt)}\")\n",
    "print(f\"Recall score: {recall_score(y_test2.astype('int32'), y_pred_wt)}\")\n",
    "\n",
    "plot_confusion_matrix(lg2, X_test_scale, y_test2.astype(\"int32\"))"
   ]
  },
  {
   "cell_type": "code",
   "execution_count": 32,
   "metadata": {},
   "outputs": [
    {
     "name": "stdout",
     "output_type": "stream",
     "text": [
      "Accuracy Score: 0.9971703452178834\n",
      "Confusion Matrix: \n",
      "[[1738    0]\n",
      " [   5   24]]\n",
      "Area Under Curve: 0.9137931034482758\n",
      "Recall score: 0.8275862068965517\n"
     ]
    },
    {
     "data": {
      "text/plain": [
       "<sklearn.metrics._plot.confusion_matrix.ConfusionMatrixDisplay at 0x7f91567a4190>"
      ]
     },
     "execution_count": 32,
     "metadata": {},
     "output_type": "execute_result"
    },
    {
     "data": {
      "image/png": "[encoded data removed]",
      "text/plain": [
       "<Figure size 432x288 with 2 Axes>"
      ]
     },
     "metadata": {
      "needs_background": "light"
     },
     "output_type": "display_data"
    },
    {
     "data": {
      "application/javascript": [
       "\n",
       "            setTimeout(function() {\n",
       "                var nbb_cell_id = 32;\n",
       "                var nbb_unformatted_code = \"# define class weights\\nw = {\\n    0: 99,\\n    1: 1,\\n}\\n\\n# define model\\nlg2 = LogisticRegression(\\n    solver=\\\"lbfgs\\\", penalty=\\\"l2\\\", random_state=13, class_weight=w, max_iter=1000,\\n)\\n\\n\\n# String to int for classes\\ny_train2 = np.copy(y_train)\\ny_train2[np.where(y_train == \\\"Benign\\\")[0]] = 0\\ny_train2[np.where(y_train == \\\"Malicious\\\")[0]] = 1\\n\\n\\n# fit it\\nlg2.fit(X_train_scale, y_train2.astype(\\\"int32\\\"))\\n\\n# test\\ny_pred_wt = lg2.predict(X_test_scale)\\n\\n\\ny_test2 = np.copy(y_test)\\ny_test2[np.where(y_test == \\\"Benign\\\")[0]] = 0\\ny_test2[np.where(y_test == \\\"Malicious\\\")[0]] = 1\\n\\n\\n# performance\\nprint(f\\\"Accuracy Score: {accuracy_score(y_test2.astype('int32'),y_pred_wt)}\\\")\\nprint(f\\\"Confusion Matrix: \\\\n{confusion_matrix(y_test2.astype('int32'), y_pred_wt)}\\\")\\nprint(f\\\"Area Under Curve: {roc_auc_score(y_test2.astype('int32'), y_pred_wt)}\\\")\\nprint(f\\\"Recall score: {recall_score(y_test2.astype('int32'), y_pred_wt)}\\\")\\n\\nplot_confusion_matrix(lg2, X_test_scale, y_test2.astype(\\\"int32\\\"))\";\n",
       "                var nbb_formatted_code = \"# define class weights\\nw = {\\n    0: 99,\\n    1: 1,\\n}\\n\\n# define model\\nlg2 = LogisticRegression(\\n    solver=\\\"lbfgs\\\", penalty=\\\"l2\\\", random_state=13, class_weight=w, max_iter=1000,\\n)\\n\\n\\n# String to int for classes\\ny_train2 = np.copy(y_train)\\ny_train2[np.where(y_train == \\\"Benign\\\")[0]] = 0\\ny_train2[np.where(y_train == \\\"Malicious\\\")[0]] = 1\\n\\n\\n# fit it\\nlg2.fit(X_train_scale, y_train2.astype(\\\"int32\\\"))\\n\\n# test\\ny_pred_wt = lg2.predict(X_test_scale)\\n\\n\\ny_test2 = np.copy(y_test)\\ny_test2[np.where(y_test == \\\"Benign\\\")[0]] = 0\\ny_test2[np.where(y_test == \\\"Malicious\\\")[0]] = 1\\n\\n\\n# performance\\nprint(f\\\"Accuracy Score: {accuracy_score(y_test2.astype('int32'),y_pred_wt)}\\\")\\nprint(f\\\"Confusion Matrix: \\\\n{confusion_matrix(y_test2.astype('int32'), y_pred_wt)}\\\")\\nprint(f\\\"Area Under Curve: {roc_auc_score(y_test2.astype('int32'), y_pred_wt)}\\\")\\nprint(f\\\"Recall score: {recall_score(y_test2.astype('int32'), y_pred_wt)}\\\")\\n\\nplot_confusion_matrix(lg2, X_test_scale, y_test2.astype(\\\"int32\\\"))\";\n",
       "                var nbb_cells = Jupyter.notebook.get_cells();\n",
       "                for (var i = 0; i < nbb_cells.length; ++i) {\n",
       "                    if (nbb_cells[i].input_prompt_number == nbb_cell_id) {\n",
       "                        if (nbb_cells[i].get_text() == nbb_unformatted_code) {\n",
       "                             nbb_cells[i].set_text(nbb_formatted_code);\n",
       "                        }\n",
       "                        break;\n",
       "                    }\n",
       "                }\n",
       "            }, 500);\n",
       "            "
      ],
      "text/plain": [
       "<IPython.core.display.Javascript object>"
      ]
     },
     "metadata": {},
     "output_type": "display_data"
    }
   ],
   "source": [
    "# define class weights\n",
    "w = {\n",
    "    0: 99,\n",
    "    1: 1,\n",
    "}\n",
    "\n",
    "# define model\n",
    "lg2 = LogisticRegression(\n",
    "    solver=\"lbfgs\", penalty=\"l2\", random_state=13, class_weight=w, max_iter=1000,\n",
    ")\n",
    "\n",
    "\n",
    "# String to int for classes\n",
    "y_train2 = np.copy(y_train)\n",
    "y_train2[np.where(y_train == \"Benign\")[0]] = 0\n",
    "y_train2[np.where(y_train == \"Malicious\")[0]] = 1\n",
    "\n",
    "\n",
    "# fit it\n",
    "lg2.fit(X_train_scale, y_train2.astype(\"int32\"))\n",
    "\n",
    "# test\n",
    "y_pred_wt = lg2.predict(X_test_scale)\n",
    "\n",
    "\n",
    "y_test2 = np.copy(y_test)\n",
    "y_test2[np.where(y_test == \"Benign\")[0]] = 0\n",
    "y_test2[np.where(y_test == \"Malicious\")[0]] = 1\n",
    "\n",
    "\n",
    "# performance\n",
    "print(f\"Accuracy Score: {accuracy_score(y_test2.astype('int32'),y_pred_wt)}\")\n",
    "print(f\"Confusion Matrix: \\n{confusion_matrix(y_test2.astype('int32'), y_pred_wt)}\")\n",
    "print(f\"Area Under Curve: {roc_auc_score(y_test2.astype('int32'), y_pred_wt)}\")\n",
    "print(f\"Recall score: {recall_score(y_test2.astype('int32'), y_pred_wt)}\")\n",
    "\n",
    "plot_confusion_matrix(lg2, X_test_scale, y_test2.astype(\"int32\"))"
   ]
  },
  {
   "cell_type": "code",
   "execution_count": null,
   "metadata": {},
   "outputs": [],
   "source": []
  },
  {
   "cell_type": "code",
   "execution_count": null,
   "metadata": {},
   "outputs": [],
   "source": []
  },
  {
   "cell_type": "markdown",
   "metadata": {},
   "source": [
    "### Feature importance scores"
   ]
  },
  {
   "cell_type": "code",
   "execution_count": 67,
   "metadata": {},
   "outputs": [
    {
     "data": {
      "application/javascript": [
       "\n",
       "            setTimeout(function() {\n",
       "                var nbb_cell_id = 67;\n",
       "                var nbb_unformatted_code = \"importance = lg2.coef_[0]\";\n",
       "                var nbb_formatted_code = \"importance = lg2.coef_[0]\";\n",
       "                var nbb_cells = Jupyter.notebook.get_cells();\n",
       "                for (var i = 0; i < nbb_cells.length; ++i) {\n",
       "                    if (nbb_cells[i].input_prompt_number == nbb_cell_id) {\n",
       "                        if (nbb_cells[i].get_text() == nbb_unformatted_code) {\n",
       "                             nbb_cells[i].set_text(nbb_formatted_code);\n",
       "                        }\n",
       "                        break;\n",
       "                    }\n",
       "                }\n",
       "            }, 500);\n",
       "            "
      ],
      "text/plain": [
       "<IPython.core.display.Javascript object>"
      ]
     },
     "metadata": {},
     "output_type": "display_data"
    }
   ],
   "source": [
    "importance = lg2.coef_[0]"
   ]
  },
  {
   "cell_type": "code",
   "execution_count": 68,
   "metadata": {},
   "outputs": [
    {
     "data": {
      "text/plain": [
       "array([-0.44518773, -0.08533273, -1.06592098,  1.74855168, -0.91789374,\n",
       "       -2.36642712,  0.        ,  0.        ,  1.45642695,  1.2574872 ,\n",
       "       -2.26309654, -0.92220186,  0.        ,  0.        ,  1.61228028,\n",
       "        0.        , -2.42815909,  0.        ,  0.        ,  0.        ,\n",
       "        0.        ,  0.        ,  0.        ,  0.        ,  0.        ,\n",
       "        0.        ,  0.        ,  0.        ,  0.        ,  0.        ])"
      ]
     },
     "execution_count": 68,
     "metadata": {},
     "output_type": "execute_result"
    },
    {
     "data": {
      "application/javascript": [
       "\n",
       "            setTimeout(function() {\n",
       "                var nbb_cell_id = 68;\n",
       "                var nbb_unformatted_code = \"importance\";\n",
       "                var nbb_formatted_code = \"importance\";\n",
       "                var nbb_cells = Jupyter.notebook.get_cells();\n",
       "                for (var i = 0; i < nbb_cells.length; ++i) {\n",
       "                    if (nbb_cells[i].input_prompt_number == nbb_cell_id) {\n",
       "                        if (nbb_cells[i].get_text() == nbb_unformatted_code) {\n",
       "                             nbb_cells[i].set_text(nbb_formatted_code);\n",
       "                        }\n",
       "                        break;\n",
       "                    }\n",
       "                }\n",
       "            }, 500);\n",
       "            "
      ],
      "text/plain": [
       "<IPython.core.display.Javascript object>"
      ]
     },
     "metadata": {},
     "output_type": "display_data"
    }
   ],
   "source": [
    "importance"
   ]
  },
  {
   "cell_type": "code",
   "execution_count": 69,
   "metadata": {},
   "outputs": [
    {
     "data": {
      "text/plain": [
       "array([2.42815909, 2.36642712, 2.26309654, 1.74855168, 1.61228028,\n",
       "       1.45642695, 1.2574872 , 1.06592098, 0.92220186, 0.91789374,\n",
       "       0.44518773, 0.08533273, 0.        , 0.        , 0.        ,\n",
       "       0.        , 0.        , 0.        , 0.        , 0.        ,\n",
       "       0.        , 0.        , 0.        , 0.        , 0.        ,\n",
       "       0.        , 0.        , 0.        , 0.        , 0.        ])"
      ]
     },
     "execution_count": 69,
     "metadata": {},
     "output_type": "execute_result"
    },
    {
     "data": {
      "application/javascript": [
       "\n",
       "            setTimeout(function() {\n",
       "                var nbb_cell_id = 69;\n",
       "                var nbb_unformatted_code = \"np.abs(importance)[np.argsort(-1 * np.abs(importance))]\";\n",
       "                var nbb_formatted_code = \"np.abs(importance)[np.argsort(-1 * np.abs(importance))]\";\n",
       "                var nbb_cells = Jupyter.notebook.get_cells();\n",
       "                for (var i = 0; i < nbb_cells.length; ++i) {\n",
       "                    if (nbb_cells[i].input_prompt_number == nbb_cell_id) {\n",
       "                        if (nbb_cells[i].get_text() == nbb_unformatted_code) {\n",
       "                             nbb_cells[i].set_text(nbb_formatted_code);\n",
       "                        }\n",
       "                        break;\n",
       "                    }\n",
       "                }\n",
       "            }, 500);\n",
       "            "
      ],
      "text/plain": [
       "<IPython.core.display.Javascript object>"
      ]
     },
     "metadata": {},
     "output_type": "display_data"
    }
   ],
   "source": [
    "np.abs(importance)[np.argsort(-1 * np.abs(importance))]"
   ]
  },
  {
   "cell_type": "code",
   "execution_count": 70,
   "metadata": {},
   "outputs": [
    {
     "data": {
      "text/plain": [
       "array(['fwdIATMean', 'bwdPacketSizeMean', 'fwdPacketSizeMax',\n",
       "       'packetSizeMax', 'IATMin', 'fwdPacketSizeMin', 'bwdPacketSizeMin',\n",
       "       'packetSizeMin', 'bwdPacketSizeMax', 'fwdPacketSizeMean',\n",
       "       'packetSizeMean', 'packetSizeStd', 'fwdPacketSizeStd',\n",
       "       'packetSizeTotalPerTime', 'bwdFlowLengthPerTime',\n",
       "       'fwdFlowLengthPerTime', 'flowLengthPerTime', 'bwdIATMax',\n",
       "       'fwdIATMax', 'bwdIATMin', 'fwdIATMin', 'bwdIATStd', 'fwdIATStd',\n",
       "       'bwdIATMean', 'IATMax', 'fwdPacketSizeTotalPerTime', 'IATStd',\n",
       "       'IATMean', 'bwdPacketSizeStd', 'bwdPacketSizeTotalPerTime'],\n",
       "      dtype=object)"
      ]
     },
     "execution_count": 70,
     "metadata": {},
     "output_type": "execute_result"
    },
    {
     "data": {
      "application/javascript": [
       "\n",
       "            setTimeout(function() {\n",
       "                var nbb_cell_id = 70;\n",
       "                var nbb_unformatted_code = \"pd_comb_features_cp.iloc[:, :-1].columns.values[np.argsort(-1 * np.abs(importance))]\";\n",
       "                var nbb_formatted_code = \"pd_comb_features_cp.iloc[:, :-1].columns.values[np.argsort(-1 * np.abs(importance))]\";\n",
       "                var nbb_cells = Jupyter.notebook.get_cells();\n",
       "                for (var i = 0; i < nbb_cells.length; ++i) {\n",
       "                    if (nbb_cells[i].input_prompt_number == nbb_cell_id) {\n",
       "                        if (nbb_cells[i].get_text() == nbb_unformatted_code) {\n",
       "                             nbb_cells[i].set_text(nbb_formatted_code);\n",
       "                        }\n",
       "                        break;\n",
       "                    }\n",
       "                }\n",
       "            }, 500);\n",
       "            "
      ],
      "text/plain": [
       "<IPython.core.display.Javascript object>"
      ]
     },
     "metadata": {},
     "output_type": "display_data"
    }
   ],
   "source": [
    "pd_comb_features_cp.iloc[:, :-1].columns.values[np.argsort(-1 * np.abs(importance))]"
   ]
  },
  {
   "cell_type": "code",
   "execution_count": 111,
   "metadata": {},
   "outputs": [
    {
     "data": {
      "text/plain": [
       "array(['bwdPacketSizeMean', 'packetSizeMean', 'fwdFlowLengthPerTime',\n",
       "       'fwdPacketSizeTotalPerTime', 'bwdPacketSizeTotalPerTime',\n",
       "       'bwdPacketSizeMax', 'packetSizeMax', 'bwdIATMin',\n",
       "       'fwdPacketSizeStd', 'fwdPacketSizeMax', 'bwdPacketSizeMin',\n",
       "       'fwdPacketSizeMean', 'flowLengthPerTime', 'IATMean', 'bwdIATMean',\n",
       "       'IATMin', 'fwdIATMin', 'fwdIATMean', 'IATStd', 'fwdIATMax',\n",
       "       'IATMax', 'fwdIATStd', 'bwdFlowLengthPerTime', 'bwdPacketSizeStd',\n",
       "       'bwdIATStd', 'bwdIATMax', 'fwdPacketSizeMin', 'packetSizeStd',\n",
       "       'packetSizeMin'], dtype=object)"
      ]
     },
     "execution_count": 111,
     "metadata": {},
     "output_type": "execute_result"
    },
    {
     "data": {
      "application/javascript": [
       "\n",
       "            setTimeout(function() {\n",
       "                var nbb_cell_id = 111;\n",
       "                var nbb_unformatted_code = \"pd_comb_features_cp.iloc[:, :-1].columns.values[np.argsort(-1 * np.abs(importance))]\";\n",
       "                var nbb_formatted_code = \"pd_comb_features_cp.iloc[:, :-1].columns.values[np.argsort(-1 * np.abs(importance))]\";\n",
       "                var nbb_cells = Jupyter.notebook.get_cells();\n",
       "                for (var i = 0; i < nbb_cells.length; ++i) {\n",
       "                    if (nbb_cells[i].input_prompt_number == nbb_cell_id) {\n",
       "                        if (nbb_cells[i].get_text() == nbb_unformatted_code) {\n",
       "                             nbb_cells[i].set_text(nbb_formatted_code);\n",
       "                        }\n",
       "                        break;\n",
       "                    }\n",
       "                }\n",
       "            }, 500);\n",
       "            "
      ],
      "text/plain": [
       "<IPython.core.display.Javascript object>"
      ]
     },
     "metadata": {},
     "output_type": "display_data"
    }
   ],
   "source": [
    "pd_comb_features_cp.iloc[:, :-1].columns.values[np.argsort(-1 * np.abs(importance))]"
   ]
  },
  {
   "cell_type": "code",
   "execution_count": null,
   "metadata": {},
   "outputs": [],
   "source": []
  },
  {
   "cell_type": "code",
   "execution_count": null,
   "metadata": {},
   "outputs": [],
   "source": []
  }
 ],
 "metadata": {
  "kernelspec": {
   "display_name": "Python 3",
   "language": "python",
   "name": "python3"
  },
  "language_info": {
   "codemirror_mode": {
    "name": "ipython",
    "version": 3
   },
   "file_extension": ".py",
   "mimetype": "text/x-python",
   "name": "python",
   "nbconvert_exporter": "python",
   "pygments_lexer": "ipython3",
   "version": "3.8.5"
  }
 },
 "nbformat": 4,
 "nbformat_minor": 4
}
